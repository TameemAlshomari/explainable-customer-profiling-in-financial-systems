{
  "nbformat": 4,
  "nbformat_minor": 0,
  "metadata": {
    "colab": {
      "name": "preprocessing_static_data.ipynb",
      "provenance": [],
      "collapsed_sections": []
    },
    "kernelspec": {
      "display_name": "Python 3",
      "language": "python",
      "name": "python3"
    },
    "language_info": {
      "codemirror_mode": {
        "name": "ipython",
        "version": 3
      },
      "file_extension": ".py",
      "mimetype": "text/x-python",
      "name": "python",
      "nbconvert_exporter": "python",
      "pygments_lexer": "ipython3",
      "version": "3.8.3"
    }
  },
  "cells": [
    {
      "cell_type": "code",
      "metadata": {
        "colab": {
          "base_uri": "https://localhost:8080/"
        },
        "id": "UZG2749lwiYZ",
        "outputId": "549bf329-8846-4095-9adb-6ae40f7f3329"
      },
      "source": [
        "from google.colab import drive\r\n",
        "drive.mount('/content/drive')"
      ],
      "execution_count": null,
      "outputs": [
        {
          "output_type": "stream",
          "text": [
            "Drive already mounted at /content/drive; to attempt to forcibly remount, call drive.mount(\"/content/drive\", force_remount=True).\n"
          ],
          "name": "stdout"
        }
      ]
    },
    {
      "cell_type": "code",
      "metadata": {
        "id": "gH0XpCEHQqMV"
      },
      "source": [
        ""
      ],
      "execution_count": null,
      "outputs": []
    },
    {
      "cell_type": "code",
      "metadata": {
        "colab": {
          "base_uri": "https://localhost:8080/"
        },
        "id": "OH-an7I1wx8S",
        "outputId": "4334e780-e1d6-4667-fa37-5fff4376f9bf"
      },
      "source": [
        "!unzip /content/drive/MyDrive/customer_act.zip"
      ],
      "execution_count": 413,
      "outputs": [
        {
          "output_type": "stream",
          "text": [
            "Archive:  /content/drive/MyDrive/customer_act.zip\n",
            "  inflating: customer_login_history.csv  \n",
            "  inflating: invoice_history.csv     \n",
            "  inflating: static_data.csv         \n",
            "  inflating: transfer_history.csv    \n"
          ],
          "name": "stdout"
        }
      ]
    },
    {
      "cell_type": "code",
      "metadata": {
        "id": "M3eGsDjkwMse"
      },
      "source": [
        "import numpy as np\n",
        "import pandas as pd\n",
        "from sklearn.preprocessing import StandardScaler\n",
        "from sklearn import preprocessing\n",
        "import seaborn as sns\n",
        "from IPython.core.pylabtools import figsize\n",
        "import matplotlib.pyplot as plt\n",
        "import datetime\n",
        "%matplotlib inline\n",
        "\n",
        "sns.set(font_scale=1)\n",
        "figsize(10, 10)"
      ],
      "execution_count": 414,
      "outputs": []
    },
    {
      "cell_type": "code",
      "metadata": {
        "colab": {
          "base_uri": "https://localhost:8080/",
          "height": 437
        },
        "id": "PnjRGo3LwMsj",
        "outputId": "161faecd-b1d4-48d7-c0da-cbe1ad210062"
      },
      "source": [
        "\n",
        "# EXPLORE STATIC DATA \n",
        "df_static = pd.read_csv('/content/static_data.csv')\n",
        "df_static = df_static.rename(columns={'Unnamed: 0': 'index'})\n",
        "df_static.set_index('index', inplace=True)\n",
        "df_static.drop('PARTY_ID.1', inplace=True, axis=1)\n",
        "df_static = df_static.drop_duplicates()\n",
        "df_static.loc[:, 'CREATED_ON'] = df_static.CREATED_ON.astype('datetime64')\n",
        "df_static.loc[:, 'LAST_LOGIN'] = df_static.LAST_LOGIN.astype('datetime64')\n",
        "\n",
        "# Replace the None values in COUNTY with the mode\n",
        "df_static['COUNTY'].fillna(df_static.COUNTY.mode()[0], inplace=True)\n",
        "df_static.groupby('COUNTY').agg(lambda x: x.mode()).REGION\n",
        "\n",
        "# Replace the None values in REGION with the mode of its COUNTY\n",
        "county_mode = df_static.groupby('COUNTY').agg(lambda x: x.mode()).REGION\n",
        "df_static.loc[df_static.REGION.isnull(), 'REGION'] = county_mode[df_static.loc[df_static.REGION.isnull(), 'COUNTY'].values].values\n",
        "df_static.loc[:, 'REGION'] = df_static.REGION.astype('int')\n",
        "\n",
        "party_ids = df_static.PARTY_ID\n",
        "\n",
        "df_static"
      ],
      "execution_count": 415,
      "outputs": [
        {
          "output_type": "execute_result",
          "data": {
            "text/html": [
              "<div>\n",
              "<style scoped>\n",
              "    .dataframe tbody tr th:only-of-type {\n",
              "        vertical-align: middle;\n",
              "    }\n",
              "\n",
              "    .dataframe tbody tr th {\n",
              "        vertical-align: top;\n",
              "    }\n",
              "\n",
              "    .dataframe thead th {\n",
              "        text-align: right;\n",
              "    }\n",
              "</style>\n",
              "<table border=\"1\" class=\"dataframe\">\n",
              "  <thead>\n",
              "    <tr style=\"text-align: right;\">\n",
              "      <th></th>\n",
              "      <th>PARTY_ID</th>\n",
              "      <th>CREATED_ON</th>\n",
              "      <th>LAST_LOGIN</th>\n",
              "      <th>LOB_CODE</th>\n",
              "      <th>SIZE</th>\n",
              "      <th>PACKAGE</th>\n",
              "      <th>REGION</th>\n",
              "      <th>COUNTY</th>\n",
              "    </tr>\n",
              "    <tr>\n",
              "      <th>index</th>\n",
              "      <th></th>\n",
              "      <th></th>\n",
              "      <th></th>\n",
              "      <th></th>\n",
              "      <th></th>\n",
              "      <th></th>\n",
              "      <th></th>\n",
              "      <th></th>\n",
              "    </tr>\n",
              "  </thead>\n",
              "  <tbody>\n",
              "    <tr>\n",
              "      <th>0</th>\n",
              "      <td>233823894</td>\n",
              "      <td>2017-03-22 14:30:00</td>\n",
              "      <td>2017-03-22 14:30:54</td>\n",
              "      <td>49414.0</td>\n",
              "      <td>5-9 fő</td>\n",
              "      <td>Inbox</td>\n",
              "      <td>1</td>\n",
              "      <td>Pest</td>\n",
              "    </tr>\n",
              "    <tr>\n",
              "      <th>1</th>\n",
              "      <td>233823896</td>\n",
              "      <td>2017-03-23 12:48:00</td>\n",
              "      <td>2017-03-23 12:48:31</td>\n",
              "      <td>NaN</td>\n",
              "      <td>2000-4999 fő</td>\n",
              "      <td>Inbox</td>\n",
              "      <td>1</td>\n",
              "      <td>Pest</td>\n",
              "    </tr>\n",
              "    <tr>\n",
              "      <th>2</th>\n",
              "      <td>233823898</td>\n",
              "      <td>2017-03-23 13:46:00</td>\n",
              "      <td>2017-03-23 15:19:06</td>\n",
              "      <td>70224.0</td>\n",
              "      <td>1 fő</td>\n",
              "      <td>Inbox</td>\n",
              "      <td>1</td>\n",
              "      <td>Pest</td>\n",
              "    </tr>\n",
              "    <tr>\n",
              "      <th>3</th>\n",
              "      <td>233823900</td>\n",
              "      <td>2017-03-27 06:40:00</td>\n",
              "      <td>2017-03-27 06:44:06</td>\n",
              "      <td>81104.0</td>\n",
              "      <td>3-4 fő</td>\n",
              "      <td>Inbox</td>\n",
              "      <td>2</td>\n",
              "      <td>Pest</td>\n",
              "    </tr>\n",
              "    <tr>\n",
              "      <th>4</th>\n",
              "      <td>233823901</td>\n",
              "      <td>2017-03-27 06:43:00</td>\n",
              "      <td>2017-03-27 06:46:13</td>\n",
              "      <td>46514.0</td>\n",
              "      <td>5-9 fő</td>\n",
              "      <td>Inbox</td>\n",
              "      <td>1</td>\n",
              "      <td>Pest</td>\n",
              "    </tr>\n",
              "    <tr>\n",
              "      <th>...</th>\n",
              "      <td>...</td>\n",
              "      <td>...</td>\n",
              "      <td>...</td>\n",
              "      <td>...</td>\n",
              "      <td>...</td>\n",
              "      <td>...</td>\n",
              "      <td>...</td>\n",
              "      <td>...</td>\n",
              "    </tr>\n",
              "    <tr>\n",
              "      <th>26052</th>\n",
              "      <td>684845716</td>\n",
              "      <td>2020-10-16 13:40:00</td>\n",
              "      <td>2020-10-19 06:44:16</td>\n",
              "      <td>45114.0</td>\n",
              "      <td>2 fő</td>\n",
              "      <td>Inbox Extra Free (= Inbox Extra)</td>\n",
              "      <td>1</td>\n",
              "      <td>Pest</td>\n",
              "    </tr>\n",
              "    <tr>\n",
              "      <th>26053</th>\n",
              "      <td>684845718</td>\n",
              "      <td>2020-10-16 15:58:00</td>\n",
              "      <td>2020-10-16 16:40:03</td>\n",
              "      <td>68104.0</td>\n",
              "      <td>0 fő</td>\n",
              "      <td>Inbox</td>\n",
              "      <td>1</td>\n",
              "      <td>Pest</td>\n",
              "    </tr>\n",
              "    <tr>\n",
              "      <th>26054</th>\n",
              "      <td>685181166</td>\n",
              "      <td>2020-10-18 10:38:00</td>\n",
              "      <td>2020-10-18 10:38:37</td>\n",
              "      <td>56104.0</td>\n",
              "      <td>3-4 fő</td>\n",
              "      <td>Inbox</td>\n",
              "      <td>6</td>\n",
              "      <td>Csongrád</td>\n",
              "    </tr>\n",
              "    <tr>\n",
              "      <th>26055</th>\n",
              "      <td>685181167</td>\n",
              "      <td>2020-10-18 10:40:00</td>\n",
              "      <td>2020-10-18 10:46:20</td>\n",
              "      <td>47114.0</td>\n",
              "      <td>3-4 fő</td>\n",
              "      <td>Promó</td>\n",
              "      <td>6</td>\n",
              "      <td>Csongrád</td>\n",
              "    </tr>\n",
              "    <tr>\n",
              "      <th>26056</th>\n",
              "      <td>685181170</td>\n",
              "      <td>2020-10-18 14:42:00</td>\n",
              "      <td>2020-10-18 15:01:27</td>\n",
              "      <td>47914.0</td>\n",
              "      <td>0 fő</td>\n",
              "      <td>Inbox Extra Free (= Inbox Extra)</td>\n",
              "      <td>1</td>\n",
              "      <td>Pest</td>\n",
              "    </tr>\n",
              "  </tbody>\n",
              "</table>\n",
              "<p>25978 rows × 8 columns</p>\n",
              "</div>"
            ],
            "text/plain": [
              "        PARTY_ID          CREATED_ON  ... REGION    COUNTY\n",
              "index                                 ...                 \n",
              "0      233823894 2017-03-22 14:30:00  ...      1      Pest\n",
              "1      233823896 2017-03-23 12:48:00  ...      1      Pest\n",
              "2      233823898 2017-03-23 13:46:00  ...      1      Pest\n",
              "3      233823900 2017-03-27 06:40:00  ...      2      Pest\n",
              "4      233823901 2017-03-27 06:43:00  ...      1      Pest\n",
              "...          ...                 ...  ...    ...       ...\n",
              "26052  684845716 2020-10-16 13:40:00  ...      1      Pest\n",
              "26053  684845718 2020-10-16 15:58:00  ...      1      Pest\n",
              "26054  685181166 2020-10-18 10:38:00  ...      6  Csongrád\n",
              "26055  685181167 2020-10-18 10:40:00  ...      6  Csongrád\n",
              "26056  685181170 2020-10-18 14:42:00  ...      1      Pest\n",
              "\n",
              "[25978 rows x 8 columns]"
            ]
          },
          "metadata": {
            "tags": []
          },
          "execution_count": 415
        }
      ]
    },
    {
      "cell_type": "code",
      "metadata": {
        "colab": {
          "base_uri": "https://localhost:8080/"
        },
        "id": "807kpNVwwMsn",
        "outputId": "ef2dbf92-b2ea-41ad-e25d-1a806013b16c"
      },
      "source": [
        "present_date = df_static.CREATED_ON.max()\n",
        "first_date = df_static.CREATED_ON.min()\n",
        "print(f'present date:{present_date} first date:{first_date}')"
      ],
      "execution_count": 416,
      "outputs": [
        {
          "output_type": "stream",
          "text": [
            "present date:2020-10-26 18:55:00 first date:1970-01-01 00:00:00\n"
          ],
          "name": "stdout"
        }
      ]
    },
    {
      "cell_type": "code",
      "metadata": {
        "colab": {
          "base_uri": "https://localhost:8080/"
        },
        "id": "i9wim-jIwMsr",
        "outputId": "2395aa4b-00b6-4f8d-95c9-0340e304656b"
      },
      "source": [
        "df_static.PACKAGE.value_counts()"
      ],
      "execution_count": 417,
      "outputs": [
        {
          "output_type": "execute_result",
          "data": {
            "text/plain": [
              "Inbox Extra Free (= Inbox Extra)    9738\n",
              "Inbox                               8159\n",
              "Freemium                            2285\n",
              "ExleX                               2202\n",
              "S                                   1635\n",
              "Hibernált                            942\n",
              "M                                    699\n",
              "Inbox Extra Standard                 108\n",
              "Promó                                 66\n",
              "Inbox Extra Pro                       22\n",
              "Inbox Extra                           15\n",
              "Name: PACKAGE, dtype: int64"
            ]
          },
          "metadata": {
            "tags": []
          },
          "execution_count": 417
        }
      ]
    },
    {
      "cell_type": "code",
      "metadata": {
        "colab": {
          "base_uri": "https://localhost:8080/"
        },
        "id": "wrlpN5X9wMss",
        "outputId": "0aace0b9-38ac-41ef-9e43-50d6946739a3"
      },
      "source": [
        "df_static.SIZE.value_counts()"
      ],
      "execution_count": 418,
      "outputs": [
        {
          "output_type": "execute_result",
          "data": {
            "text/plain": [
              "0 fő            4779\n",
              "5-9 fő          3132\n",
              "1 fő            3024\n",
              "3-4 fő          2612\n",
              "10-19 fő        2379\n",
              "2 fő            1963\n",
              "20-49 fő        1681\n",
              "50-99 fő         563\n",
              "100-149 fő       144\n",
              "Ismeretlen        93\n",
              "150-199 fő        66\n",
              "200-249 fő        48\n",
              "300-499 fő        34\n",
              "500-999 fő        34\n",
              "250-299 fő        16\n",
              "1000-1999 fő      11\n",
              "2000-4999 fő       5\n",
              "5000 főtől         2\n",
              "Name: SIZE, dtype: int64"
            ]
          },
          "metadata": {
            "tags": []
          },
          "execution_count": 418
        }
      ]
    },
    {
      "cell_type": "code",
      "metadata": {
        "colab": {
          "base_uri": "https://localhost:8080/"
        },
        "id": "5SuGe-VWwMst",
        "outputId": "4a4ef06b-6fb6-4bf0-fcc1-034c56cbfa04"
      },
      "source": [
        "print(f'missing value for the SIZE :{len(df_static[df_static.SIZE.isnull()])}')\n",
        "print(f'missing value for the PACKAGE :{len(df_static[df_static.PACKAGE.isnull()])}')\n",
        "print(f'missing value for the LOB_CODE :{len(df_static[df_static.LOB_CODE.isnull()])}')"
      ],
      "execution_count": 419,
      "outputs": [
        {
          "output_type": "stream",
          "text": [
            "missing value for the SIZE :5392\n",
            "missing value for the PACKAGE :107\n",
            "missing value for the LOB_CODE :6231\n"
          ],
          "name": "stdout"
        }
      ]
    },
    {
      "cell_type": "code",
      "metadata": {
        "colab": {
          "base_uri": "https://localhost:8080/"
        },
        "id": "gPLIvrk0Aj7z",
        "outputId": "f73053cd-90f6-435c-f5f6-b0e87884d214"
      },
      "source": [
        "df_static['COUNTY']"
      ],
      "execution_count": 420,
      "outputs": [
        {
          "output_type": "execute_result",
          "data": {
            "text/plain": [
              "index\n",
              "0            Pest\n",
              "1            Pest\n",
              "2            Pest\n",
              "3            Pest\n",
              "4            Pest\n",
              "           ...   \n",
              "26052        Pest\n",
              "26053        Pest\n",
              "26054    Csongrád\n",
              "26055    Csongrád\n",
              "26056        Pest\n",
              "Name: COUNTY, Length: 25978, dtype: object"
            ]
          },
          "metadata": {
            "tags": []
          },
          "execution_count": 420
        }
      ]
    },
    {
      "cell_type": "code",
      "metadata": {
        "colab": {
          "base_uri": "https://localhost:8080/",
          "height": 437
        },
        "id": "ipNeHh_fAmJr",
        "outputId": "b37c38e4-f320-40ee-f437-94d83d8bf574"
      },
      "source": [
        "import pandas as pd\r\n",
        "import numpy as np\r\n",
        "from sklearn.preprocessing import LabelEncoder\r\n",
        "# creating initial dataframe\r\n",
        "#bridge_types = ('Arch','Beam','Truss','Cantilever','Tied Arch','Suspension','Cable')\r\n",
        "#bridge_df = pd.DataFrame(bridge_types, columns=['COUNTY'])\r\n",
        "# creating instance of labelencoder\r\n",
        "labelencoder = LabelEncoder()\r\n",
        "# Assigning numerical values and storing in another column\r\n",
        "df_static['COUNTY'] = labelencoder.fit_transform(df_static['COUNTY'])\r\n",
        "df_static"
      ],
      "execution_count": 421,
      "outputs": [
        {
          "output_type": "execute_result",
          "data": {
            "text/html": [
              "<div>\n",
              "<style scoped>\n",
              "    .dataframe tbody tr th:only-of-type {\n",
              "        vertical-align: middle;\n",
              "    }\n",
              "\n",
              "    .dataframe tbody tr th {\n",
              "        vertical-align: top;\n",
              "    }\n",
              "\n",
              "    .dataframe thead th {\n",
              "        text-align: right;\n",
              "    }\n",
              "</style>\n",
              "<table border=\"1\" class=\"dataframe\">\n",
              "  <thead>\n",
              "    <tr style=\"text-align: right;\">\n",
              "      <th></th>\n",
              "      <th>PARTY_ID</th>\n",
              "      <th>CREATED_ON</th>\n",
              "      <th>LAST_LOGIN</th>\n",
              "      <th>LOB_CODE</th>\n",
              "      <th>SIZE</th>\n",
              "      <th>PACKAGE</th>\n",
              "      <th>REGION</th>\n",
              "      <th>COUNTY</th>\n",
              "    </tr>\n",
              "    <tr>\n",
              "      <th>index</th>\n",
              "      <th></th>\n",
              "      <th></th>\n",
              "      <th></th>\n",
              "      <th></th>\n",
              "      <th></th>\n",
              "      <th></th>\n",
              "      <th></th>\n",
              "      <th></th>\n",
              "    </tr>\n",
              "  </thead>\n",
              "  <tbody>\n",
              "    <tr>\n",
              "      <th>0</th>\n",
              "      <td>233823894</td>\n",
              "      <td>2017-03-22 14:30:00</td>\n",
              "      <td>2017-03-22 14:30:54</td>\n",
              "      <td>49414.0</td>\n",
              "      <td>5-9 fő</td>\n",
              "      <td>Inbox</td>\n",
              "      <td>1</td>\n",
              "      <td>12</td>\n",
              "    </tr>\n",
              "    <tr>\n",
              "      <th>1</th>\n",
              "      <td>233823896</td>\n",
              "      <td>2017-03-23 12:48:00</td>\n",
              "      <td>2017-03-23 12:48:31</td>\n",
              "      <td>NaN</td>\n",
              "      <td>2000-4999 fő</td>\n",
              "      <td>Inbox</td>\n",
              "      <td>1</td>\n",
              "      <td>12</td>\n",
              "    </tr>\n",
              "    <tr>\n",
              "      <th>2</th>\n",
              "      <td>233823898</td>\n",
              "      <td>2017-03-23 13:46:00</td>\n",
              "      <td>2017-03-23 15:19:06</td>\n",
              "      <td>70224.0</td>\n",
              "      <td>1 fő</td>\n",
              "      <td>Inbox</td>\n",
              "      <td>1</td>\n",
              "      <td>12</td>\n",
              "    </tr>\n",
              "    <tr>\n",
              "      <th>3</th>\n",
              "      <td>233823900</td>\n",
              "      <td>2017-03-27 06:40:00</td>\n",
              "      <td>2017-03-27 06:44:06</td>\n",
              "      <td>81104.0</td>\n",
              "      <td>3-4 fő</td>\n",
              "      <td>Inbox</td>\n",
              "      <td>2</td>\n",
              "      <td>12</td>\n",
              "    </tr>\n",
              "    <tr>\n",
              "      <th>4</th>\n",
              "      <td>233823901</td>\n",
              "      <td>2017-03-27 06:43:00</td>\n",
              "      <td>2017-03-27 06:46:13</td>\n",
              "      <td>46514.0</td>\n",
              "      <td>5-9 fő</td>\n",
              "      <td>Inbox</td>\n",
              "      <td>1</td>\n",
              "      <td>12</td>\n",
              "    </tr>\n",
              "    <tr>\n",
              "      <th>...</th>\n",
              "      <td>...</td>\n",
              "      <td>...</td>\n",
              "      <td>...</td>\n",
              "      <td>...</td>\n",
              "      <td>...</td>\n",
              "      <td>...</td>\n",
              "      <td>...</td>\n",
              "      <td>...</td>\n",
              "    </tr>\n",
              "    <tr>\n",
              "      <th>26052</th>\n",
              "      <td>684845716</td>\n",
              "      <td>2020-10-16 13:40:00</td>\n",
              "      <td>2020-10-19 06:44:16</td>\n",
              "      <td>45114.0</td>\n",
              "      <td>2 fő</td>\n",
              "      <td>Inbox Extra Free (= Inbox Extra)</td>\n",
              "      <td>1</td>\n",
              "      <td>12</td>\n",
              "    </tr>\n",
              "    <tr>\n",
              "      <th>26053</th>\n",
              "      <td>684845718</td>\n",
              "      <td>2020-10-16 15:58:00</td>\n",
              "      <td>2020-10-16 16:40:03</td>\n",
              "      <td>68104.0</td>\n",
              "      <td>0 fő</td>\n",
              "      <td>Inbox</td>\n",
              "      <td>1</td>\n",
              "      <td>12</td>\n",
              "    </tr>\n",
              "    <tr>\n",
              "      <th>26054</th>\n",
              "      <td>685181166</td>\n",
              "      <td>2020-10-18 10:38:00</td>\n",
              "      <td>2020-10-18 10:38:37</td>\n",
              "      <td>56104.0</td>\n",
              "      <td>3-4 fő</td>\n",
              "      <td>Inbox</td>\n",
              "      <td>6</td>\n",
              "      <td>4</td>\n",
              "    </tr>\n",
              "    <tr>\n",
              "      <th>26055</th>\n",
              "      <td>685181167</td>\n",
              "      <td>2020-10-18 10:40:00</td>\n",
              "      <td>2020-10-18 10:46:20</td>\n",
              "      <td>47114.0</td>\n",
              "      <td>3-4 fő</td>\n",
              "      <td>Promó</td>\n",
              "      <td>6</td>\n",
              "      <td>4</td>\n",
              "    </tr>\n",
              "    <tr>\n",
              "      <th>26056</th>\n",
              "      <td>685181170</td>\n",
              "      <td>2020-10-18 14:42:00</td>\n",
              "      <td>2020-10-18 15:01:27</td>\n",
              "      <td>47914.0</td>\n",
              "      <td>0 fő</td>\n",
              "      <td>Inbox Extra Free (= Inbox Extra)</td>\n",
              "      <td>1</td>\n",
              "      <td>12</td>\n",
              "    </tr>\n",
              "  </tbody>\n",
              "</table>\n",
              "<p>25978 rows × 8 columns</p>\n",
              "</div>"
            ],
            "text/plain": [
              "        PARTY_ID          CREATED_ON  ... REGION  COUNTY\n",
              "index                                 ...               \n",
              "0      233823894 2017-03-22 14:30:00  ...      1      12\n",
              "1      233823896 2017-03-23 12:48:00  ...      1      12\n",
              "2      233823898 2017-03-23 13:46:00  ...      1      12\n",
              "3      233823900 2017-03-27 06:40:00  ...      2      12\n",
              "4      233823901 2017-03-27 06:43:00  ...      1      12\n",
              "...          ...                 ...  ...    ...     ...\n",
              "26052  684845716 2020-10-16 13:40:00  ...      1      12\n",
              "26053  684845718 2020-10-16 15:58:00  ...      1      12\n",
              "26054  685181166 2020-10-18 10:38:00  ...      6       4\n",
              "26055  685181167 2020-10-18 10:40:00  ...      6       4\n",
              "26056  685181170 2020-10-18 14:42:00  ...      1      12\n",
              "\n",
              "[25978 rows x 8 columns]"
            ]
          },
          "metadata": {
            "tags": []
          },
          "execution_count": 421
        }
      ]
    },
    {
      "cell_type": "code",
      "metadata": {
        "colab": {
          "base_uri": "https://localhost:8080/"
        },
        "id": "WEzHJNJkBVTU",
        "outputId": "06f81092-3bf8-4823-a249-2cbb130af667"
      },
      "source": [
        "df_static['COUNTY'].head(5000)"
      ],
      "execution_count": 422,
      "outputs": [
        {
          "output_type": "execute_result",
          "data": {
            "text/plain": [
              "index\n",
              "0       12\n",
              "1       12\n",
              "2       12\n",
              "3       12\n",
              "4       12\n",
              "        ..\n",
              "5033    16\n",
              "5034     5\n",
              "5035     9\n",
              "5036     8\n",
              "5037    12\n",
              "Name: COUNTY, Length: 5000, dtype: int64"
            ]
          },
          "metadata": {
            "tags": []
          },
          "execution_count": 422
        }
      ]
    },
    {
      "cell_type": "code",
      "metadata": {
        "colab": {
          "base_uri": "https://localhost:8080/"
        },
        "id": "P4FVTCRtBdWq",
        "outputId": "16860da6-5410-4c92-9220-6781964b98c7"
      },
      "source": [
        "df_static['REGION']"
      ],
      "execution_count": 425,
      "outputs": [
        {
          "output_type": "execute_result",
          "data": {
            "text/plain": [
              "index\n",
              "0        1\n",
              "1        1\n",
              "2        1\n",
              "3        2\n",
              "4        1\n",
              "        ..\n",
              "26052    1\n",
              "26053    1\n",
              "26054    6\n",
              "26055    6\n",
              "26056    1\n",
              "Name: REGION, Length: 25978, dtype: int64"
            ]
          },
          "metadata": {
            "tags": []
          },
          "execution_count": 425
        }
      ]
    },
    {
      "cell_type": "code",
      "metadata": {
        "colab": {
          "base_uri": "https://localhost:8080/"
        },
        "id": "-0UeUn1pBpV8",
        "outputId": "da06657c-44f4-4802-c5c6-26f4887cf797"
      },
      "source": [
        "df_static['REGION'].head(5000)"
      ],
      "execution_count": 426,
      "outputs": [
        {
          "output_type": "execute_result",
          "data": {
            "text/plain": [
              "index\n",
              "0       1\n",
              "1       1\n",
              "2       1\n",
              "3       2\n",
              "4       1\n",
              "       ..\n",
              "5033    9\n",
              "5034    8\n",
              "5035    5\n",
              "5036    3\n",
              "5037    2\n",
              "Name: REGION, Length: 5000, dtype: int64"
            ]
          },
          "metadata": {
            "tags": []
          },
          "execution_count": 426
        }
      ]
    },
    {
      "cell_type": "code",
      "metadata": {
        "colab": {
          "base_uri": "https://localhost:8080/",
          "height": 437
        },
        "id": "Evol9UIDCUEd",
        "outputId": "a2183245-e08f-47b3-8b54-8b746363ce77"
      },
      "source": [
        "df_static"
      ],
      "execution_count": 427,
      "outputs": [
        {
          "output_type": "execute_result",
          "data": {
            "text/html": [
              "<div>\n",
              "<style scoped>\n",
              "    .dataframe tbody tr th:only-of-type {\n",
              "        vertical-align: middle;\n",
              "    }\n",
              "\n",
              "    .dataframe tbody tr th {\n",
              "        vertical-align: top;\n",
              "    }\n",
              "\n",
              "    .dataframe thead th {\n",
              "        text-align: right;\n",
              "    }\n",
              "</style>\n",
              "<table border=\"1\" class=\"dataframe\">\n",
              "  <thead>\n",
              "    <tr style=\"text-align: right;\">\n",
              "      <th></th>\n",
              "      <th>PARTY_ID</th>\n",
              "      <th>CREATED_ON</th>\n",
              "      <th>LAST_LOGIN</th>\n",
              "      <th>LOB_CODE</th>\n",
              "      <th>SIZE</th>\n",
              "      <th>PACKAGE</th>\n",
              "      <th>REGION</th>\n",
              "      <th>COUNTY</th>\n",
              "    </tr>\n",
              "    <tr>\n",
              "      <th>index</th>\n",
              "      <th></th>\n",
              "      <th></th>\n",
              "      <th></th>\n",
              "      <th></th>\n",
              "      <th></th>\n",
              "      <th></th>\n",
              "      <th></th>\n",
              "      <th></th>\n",
              "    </tr>\n",
              "  </thead>\n",
              "  <tbody>\n",
              "    <tr>\n",
              "      <th>0</th>\n",
              "      <td>233823894</td>\n",
              "      <td>2017-03-22 14:30:00</td>\n",
              "      <td>2017-03-22 14:30:54</td>\n",
              "      <td>49414.0</td>\n",
              "      <td>5-9 fő</td>\n",
              "      <td>Inbox</td>\n",
              "      <td>1</td>\n",
              "      <td>12</td>\n",
              "    </tr>\n",
              "    <tr>\n",
              "      <th>1</th>\n",
              "      <td>233823896</td>\n",
              "      <td>2017-03-23 12:48:00</td>\n",
              "      <td>2017-03-23 12:48:31</td>\n",
              "      <td>NaN</td>\n",
              "      <td>2000-4999 fő</td>\n",
              "      <td>Inbox</td>\n",
              "      <td>1</td>\n",
              "      <td>12</td>\n",
              "    </tr>\n",
              "    <tr>\n",
              "      <th>2</th>\n",
              "      <td>233823898</td>\n",
              "      <td>2017-03-23 13:46:00</td>\n",
              "      <td>2017-03-23 15:19:06</td>\n",
              "      <td>70224.0</td>\n",
              "      <td>1 fő</td>\n",
              "      <td>Inbox</td>\n",
              "      <td>1</td>\n",
              "      <td>12</td>\n",
              "    </tr>\n",
              "    <tr>\n",
              "      <th>3</th>\n",
              "      <td>233823900</td>\n",
              "      <td>2017-03-27 06:40:00</td>\n",
              "      <td>2017-03-27 06:44:06</td>\n",
              "      <td>81104.0</td>\n",
              "      <td>3-4 fő</td>\n",
              "      <td>Inbox</td>\n",
              "      <td>2</td>\n",
              "      <td>12</td>\n",
              "    </tr>\n",
              "    <tr>\n",
              "      <th>4</th>\n",
              "      <td>233823901</td>\n",
              "      <td>2017-03-27 06:43:00</td>\n",
              "      <td>2017-03-27 06:46:13</td>\n",
              "      <td>46514.0</td>\n",
              "      <td>5-9 fő</td>\n",
              "      <td>Inbox</td>\n",
              "      <td>1</td>\n",
              "      <td>12</td>\n",
              "    </tr>\n",
              "    <tr>\n",
              "      <th>...</th>\n",
              "      <td>...</td>\n",
              "      <td>...</td>\n",
              "      <td>...</td>\n",
              "      <td>...</td>\n",
              "      <td>...</td>\n",
              "      <td>...</td>\n",
              "      <td>...</td>\n",
              "      <td>...</td>\n",
              "    </tr>\n",
              "    <tr>\n",
              "      <th>26052</th>\n",
              "      <td>684845716</td>\n",
              "      <td>2020-10-16 13:40:00</td>\n",
              "      <td>2020-10-19 06:44:16</td>\n",
              "      <td>45114.0</td>\n",
              "      <td>2 fő</td>\n",
              "      <td>Inbox Extra Free (= Inbox Extra)</td>\n",
              "      <td>1</td>\n",
              "      <td>12</td>\n",
              "    </tr>\n",
              "    <tr>\n",
              "      <th>26053</th>\n",
              "      <td>684845718</td>\n",
              "      <td>2020-10-16 15:58:00</td>\n",
              "      <td>2020-10-16 16:40:03</td>\n",
              "      <td>68104.0</td>\n",
              "      <td>0 fő</td>\n",
              "      <td>Inbox</td>\n",
              "      <td>1</td>\n",
              "      <td>12</td>\n",
              "    </tr>\n",
              "    <tr>\n",
              "      <th>26054</th>\n",
              "      <td>685181166</td>\n",
              "      <td>2020-10-18 10:38:00</td>\n",
              "      <td>2020-10-18 10:38:37</td>\n",
              "      <td>56104.0</td>\n",
              "      <td>3-4 fő</td>\n",
              "      <td>Inbox</td>\n",
              "      <td>6</td>\n",
              "      <td>4</td>\n",
              "    </tr>\n",
              "    <tr>\n",
              "      <th>26055</th>\n",
              "      <td>685181167</td>\n",
              "      <td>2020-10-18 10:40:00</td>\n",
              "      <td>2020-10-18 10:46:20</td>\n",
              "      <td>47114.0</td>\n",
              "      <td>3-4 fő</td>\n",
              "      <td>Promó</td>\n",
              "      <td>6</td>\n",
              "      <td>4</td>\n",
              "    </tr>\n",
              "    <tr>\n",
              "      <th>26056</th>\n",
              "      <td>685181170</td>\n",
              "      <td>2020-10-18 14:42:00</td>\n",
              "      <td>2020-10-18 15:01:27</td>\n",
              "      <td>47914.0</td>\n",
              "      <td>0 fő</td>\n",
              "      <td>Inbox Extra Free (= Inbox Extra)</td>\n",
              "      <td>1</td>\n",
              "      <td>12</td>\n",
              "    </tr>\n",
              "  </tbody>\n",
              "</table>\n",
              "<p>25978 rows × 8 columns</p>\n",
              "</div>"
            ],
            "text/plain": [
              "        PARTY_ID          CREATED_ON  ... REGION  COUNTY\n",
              "index                                 ...               \n",
              "0      233823894 2017-03-22 14:30:00  ...      1      12\n",
              "1      233823896 2017-03-23 12:48:00  ...      1      12\n",
              "2      233823898 2017-03-23 13:46:00  ...      1      12\n",
              "3      233823900 2017-03-27 06:40:00  ...      2      12\n",
              "4      233823901 2017-03-27 06:43:00  ...      1      12\n",
              "...          ...                 ...  ...    ...     ...\n",
              "26052  684845716 2020-10-16 13:40:00  ...      1      12\n",
              "26053  684845718 2020-10-16 15:58:00  ...      1      12\n",
              "26054  685181166 2020-10-18 10:38:00  ...      6       4\n",
              "26055  685181167 2020-10-18 10:40:00  ...      6       4\n",
              "26056  685181170 2020-10-18 14:42:00  ...      1      12\n",
              "\n",
              "[25978 rows x 8 columns]"
            ]
          },
          "metadata": {
            "tags": []
          },
          "execution_count": 427
        }
      ]
    },
    {
      "cell_type": "code",
      "metadata": {
        "colab": {
          "base_uri": "https://localhost:8080/"
        },
        "id": "5bw-4_PBC5VA",
        "outputId": "6ba90cca-5bad-4b77-c5e3-7307913bead1"
      },
      "source": [
        "df_static[\"SIZE\"] = df_static[\"SIZE\"].astype('str')\r\n",
        "print(df_static[\"SIZE\"])"
      ],
      "execution_count": 428,
      "outputs": [
        {
          "output_type": "stream",
          "text": [
            "index\n",
            "0              5-9 fő\n",
            "1        2000-4999 fő\n",
            "2                1 fő\n",
            "3              3-4 fő\n",
            "4              5-9 fő\n",
            "             ...     \n",
            "26052            2 fő\n",
            "26053            0 fő\n",
            "26054          3-4 fő\n",
            "26055          3-4 fő\n",
            "26056            0 fő\n",
            "Name: SIZE, Length: 25978, dtype: object\n"
          ],
          "name": "stdout"
        }
      ]
    },
    {
      "cell_type": "code",
      "metadata": {
        "colab": {
          "base_uri": "https://localhost:8080/"
        },
        "id": "8keeqKyhFmtx",
        "outputId": "bdfbbedc-00cd-4051-9188-b2fb4708be51"
      },
      "source": [
        "df_static[\"SIZE\"] = df_static[\"SIZE\"].str.replace('fő','')\r\n",
        "df_static['SIZE']"
      ],
      "execution_count": 429,
      "outputs": [
        {
          "output_type": "execute_result",
          "data": {
            "text/plain": [
              "index\n",
              "0              5-9 \n",
              "1        2000-4999 \n",
              "2                1 \n",
              "3              3-4 \n",
              "4              5-9 \n",
              "            ...    \n",
              "26052            2 \n",
              "26053            0 \n",
              "26054          3-4 \n",
              "26055          3-4 \n",
              "26056            0 \n",
              "Name: SIZE, Length: 25978, dtype: object"
            ]
          },
          "metadata": {
            "tags": []
          },
          "execution_count": 429
        }
      ]
    },
    {
      "cell_type": "code",
      "metadata": {
        "colab": {
          "base_uri": "https://localhost:8080/",
          "height": 437
        },
        "id": "4-B-IKflK57J",
        "outputId": "e8bb0a9c-4efd-4b2d-f2cd-10a11f9dc868"
      },
      "source": [
        "df_static"
      ],
      "execution_count": 430,
      "outputs": [
        {
          "output_type": "execute_result",
          "data": {
            "text/html": [
              "<div>\n",
              "<style scoped>\n",
              "    .dataframe tbody tr th:only-of-type {\n",
              "        vertical-align: middle;\n",
              "    }\n",
              "\n",
              "    .dataframe tbody tr th {\n",
              "        vertical-align: top;\n",
              "    }\n",
              "\n",
              "    .dataframe thead th {\n",
              "        text-align: right;\n",
              "    }\n",
              "</style>\n",
              "<table border=\"1\" class=\"dataframe\">\n",
              "  <thead>\n",
              "    <tr style=\"text-align: right;\">\n",
              "      <th></th>\n",
              "      <th>PARTY_ID</th>\n",
              "      <th>CREATED_ON</th>\n",
              "      <th>LAST_LOGIN</th>\n",
              "      <th>LOB_CODE</th>\n",
              "      <th>SIZE</th>\n",
              "      <th>PACKAGE</th>\n",
              "      <th>REGION</th>\n",
              "      <th>COUNTY</th>\n",
              "    </tr>\n",
              "    <tr>\n",
              "      <th>index</th>\n",
              "      <th></th>\n",
              "      <th></th>\n",
              "      <th></th>\n",
              "      <th></th>\n",
              "      <th></th>\n",
              "      <th></th>\n",
              "      <th></th>\n",
              "      <th></th>\n",
              "    </tr>\n",
              "  </thead>\n",
              "  <tbody>\n",
              "    <tr>\n",
              "      <th>0</th>\n",
              "      <td>233823894</td>\n",
              "      <td>2017-03-22 14:30:00</td>\n",
              "      <td>2017-03-22 14:30:54</td>\n",
              "      <td>49414.0</td>\n",
              "      <td>5-9</td>\n",
              "      <td>Inbox</td>\n",
              "      <td>1</td>\n",
              "      <td>12</td>\n",
              "    </tr>\n",
              "    <tr>\n",
              "      <th>1</th>\n",
              "      <td>233823896</td>\n",
              "      <td>2017-03-23 12:48:00</td>\n",
              "      <td>2017-03-23 12:48:31</td>\n",
              "      <td>NaN</td>\n",
              "      <td>2000-4999</td>\n",
              "      <td>Inbox</td>\n",
              "      <td>1</td>\n",
              "      <td>12</td>\n",
              "    </tr>\n",
              "    <tr>\n",
              "      <th>2</th>\n",
              "      <td>233823898</td>\n",
              "      <td>2017-03-23 13:46:00</td>\n",
              "      <td>2017-03-23 15:19:06</td>\n",
              "      <td>70224.0</td>\n",
              "      <td>1</td>\n",
              "      <td>Inbox</td>\n",
              "      <td>1</td>\n",
              "      <td>12</td>\n",
              "    </tr>\n",
              "    <tr>\n",
              "      <th>3</th>\n",
              "      <td>233823900</td>\n",
              "      <td>2017-03-27 06:40:00</td>\n",
              "      <td>2017-03-27 06:44:06</td>\n",
              "      <td>81104.0</td>\n",
              "      <td>3-4</td>\n",
              "      <td>Inbox</td>\n",
              "      <td>2</td>\n",
              "      <td>12</td>\n",
              "    </tr>\n",
              "    <tr>\n",
              "      <th>4</th>\n",
              "      <td>233823901</td>\n",
              "      <td>2017-03-27 06:43:00</td>\n",
              "      <td>2017-03-27 06:46:13</td>\n",
              "      <td>46514.0</td>\n",
              "      <td>5-9</td>\n",
              "      <td>Inbox</td>\n",
              "      <td>1</td>\n",
              "      <td>12</td>\n",
              "    </tr>\n",
              "    <tr>\n",
              "      <th>...</th>\n",
              "      <td>...</td>\n",
              "      <td>...</td>\n",
              "      <td>...</td>\n",
              "      <td>...</td>\n",
              "      <td>...</td>\n",
              "      <td>...</td>\n",
              "      <td>...</td>\n",
              "      <td>...</td>\n",
              "    </tr>\n",
              "    <tr>\n",
              "      <th>26052</th>\n",
              "      <td>684845716</td>\n",
              "      <td>2020-10-16 13:40:00</td>\n",
              "      <td>2020-10-19 06:44:16</td>\n",
              "      <td>45114.0</td>\n",
              "      <td>2</td>\n",
              "      <td>Inbox Extra Free (= Inbox Extra)</td>\n",
              "      <td>1</td>\n",
              "      <td>12</td>\n",
              "    </tr>\n",
              "    <tr>\n",
              "      <th>26053</th>\n",
              "      <td>684845718</td>\n",
              "      <td>2020-10-16 15:58:00</td>\n",
              "      <td>2020-10-16 16:40:03</td>\n",
              "      <td>68104.0</td>\n",
              "      <td>0</td>\n",
              "      <td>Inbox</td>\n",
              "      <td>1</td>\n",
              "      <td>12</td>\n",
              "    </tr>\n",
              "    <tr>\n",
              "      <th>26054</th>\n",
              "      <td>685181166</td>\n",
              "      <td>2020-10-18 10:38:00</td>\n",
              "      <td>2020-10-18 10:38:37</td>\n",
              "      <td>56104.0</td>\n",
              "      <td>3-4</td>\n",
              "      <td>Inbox</td>\n",
              "      <td>6</td>\n",
              "      <td>4</td>\n",
              "    </tr>\n",
              "    <tr>\n",
              "      <th>26055</th>\n",
              "      <td>685181167</td>\n",
              "      <td>2020-10-18 10:40:00</td>\n",
              "      <td>2020-10-18 10:46:20</td>\n",
              "      <td>47114.0</td>\n",
              "      <td>3-4</td>\n",
              "      <td>Promó</td>\n",
              "      <td>6</td>\n",
              "      <td>4</td>\n",
              "    </tr>\n",
              "    <tr>\n",
              "      <th>26056</th>\n",
              "      <td>685181170</td>\n",
              "      <td>2020-10-18 14:42:00</td>\n",
              "      <td>2020-10-18 15:01:27</td>\n",
              "      <td>47914.0</td>\n",
              "      <td>0</td>\n",
              "      <td>Inbox Extra Free (= Inbox Extra)</td>\n",
              "      <td>1</td>\n",
              "      <td>12</td>\n",
              "    </tr>\n",
              "  </tbody>\n",
              "</table>\n",
              "<p>25978 rows × 8 columns</p>\n",
              "</div>"
            ],
            "text/plain": [
              "        PARTY_ID          CREATED_ON  ... REGION  COUNTY\n",
              "index                                 ...               \n",
              "0      233823894 2017-03-22 14:30:00  ...      1      12\n",
              "1      233823896 2017-03-23 12:48:00  ...      1      12\n",
              "2      233823898 2017-03-23 13:46:00  ...      1      12\n",
              "3      233823900 2017-03-27 06:40:00  ...      2      12\n",
              "4      233823901 2017-03-27 06:43:00  ...      1      12\n",
              "...          ...                 ...  ...    ...     ...\n",
              "26052  684845716 2020-10-16 13:40:00  ...      1      12\n",
              "26053  684845718 2020-10-16 15:58:00  ...      1      12\n",
              "26054  685181166 2020-10-18 10:38:00  ...      6       4\n",
              "26055  685181167 2020-10-18 10:40:00  ...      6       4\n",
              "26056  685181170 2020-10-18 14:42:00  ...      1      12\n",
              "\n",
              "[25978 rows x 8 columns]"
            ]
          },
          "metadata": {
            "tags": []
          },
          "execution_count": 430
        }
      ]
    },
    {
      "cell_type": "code",
      "metadata": {
        "colab": {
          "base_uri": "https://localhost:8080/"
        },
        "id": "GnAjYuOILDIp",
        "outputId": "afc7566d-3f02-4a55-9a29-91f706e80c83"
      },
      "source": [
        "\r\n",
        "df_static['SIZE']"
      ],
      "execution_count": 431,
      "outputs": [
        {
          "output_type": "execute_result",
          "data": {
            "text/plain": [
              "index\n",
              "0              5-9 \n",
              "1        2000-4999 \n",
              "2                1 \n",
              "3              3-4 \n",
              "4              5-9 \n",
              "            ...    \n",
              "26052            2 \n",
              "26053            0 \n",
              "26054          3-4 \n",
              "26055          3-4 \n",
              "26056            0 \n",
              "Name: SIZE, Length: 25978, dtype: object"
            ]
          },
          "metadata": {
            "tags": []
          },
          "execution_count": 431
        }
      ]
    },
    {
      "cell_type": "code",
      "metadata": {
        "colab": {
          "base_uri": "https://localhost:8080/"
        },
        "id": "3eTLXIJXMHmB",
        "outputId": "cd53b198-ad3e-4d82-e848-9f47bdaf1dc3"
      },
      "source": [
        "df_static['SIZE'] = df_static['SIZE'].str.split('-').str[1]\r\n",
        "df_static['SIZE']"
      ],
      "execution_count": 432,
      "outputs": [
        {
          "output_type": "execute_result",
          "data": {
            "text/plain": [
              "index\n",
              "0           9 \n",
              "1        4999 \n",
              "2          NaN\n",
              "3           4 \n",
              "4           9 \n",
              "         ...  \n",
              "26052      NaN\n",
              "26053      NaN\n",
              "26054       4 \n",
              "26055       4 \n",
              "26056      NaN\n",
              "Name: SIZE, Length: 25978, dtype: object"
            ]
          },
          "metadata": {
            "tags": []
          },
          "execution_count": 432
        }
      ]
    },
    {
      "cell_type": "code",
      "metadata": {
        "colab": {
          "base_uri": "https://localhost:8080/"
        },
        "id": "_F_alcSRMMth",
        "outputId": "01d03ae9-1f56-48cd-90f3-2f57f8b5fe30"
      },
      "source": [
        "df_static['SIZE'].head(1000)"
      ],
      "execution_count": 433,
      "outputs": [
        {
          "output_type": "execute_result",
          "data": {
            "text/plain": [
              "index\n",
              "0          9 \n",
              "1       4999 \n",
              "2         NaN\n",
              "3          4 \n",
              "4          9 \n",
              "        ...  \n",
              "1004      49 \n",
              "1005      NaN\n",
              "1006       4 \n",
              "1007      NaN\n",
              "1008      49 \n",
              "Name: SIZE, Length: 1000, dtype: object"
            ]
          },
          "metadata": {
            "tags": []
          },
          "execution_count": 433
        }
      ]
    },
    {
      "cell_type": "code",
      "metadata": {
        "colab": {
          "base_uri": "https://localhost:8080/"
        },
        "id": "l1_Wr308ODLb",
        "outputId": "48a90ae9-7d09-4dd3-9788-062e9e81f4be"
      },
      "source": [
        "df_static['SIZE'] = df_static['SIZE'].replace(np.nan,1)\r\n",
        "df_static['SIZE']"
      ],
      "execution_count": 434,
      "outputs": [
        {
          "output_type": "execute_result",
          "data": {
            "text/plain": [
              "index\n",
              "0           9 \n",
              "1        4999 \n",
              "2            1\n",
              "3           4 \n",
              "4           9 \n",
              "         ...  \n",
              "26052        1\n",
              "26053        1\n",
              "26054       4 \n",
              "26055       4 \n",
              "26056        1\n",
              "Name: SIZE, Length: 25978, dtype: object"
            ]
          },
          "metadata": {
            "tags": []
          },
          "execution_count": 434
        }
      ]
    },
    {
      "cell_type": "code",
      "metadata": {
        "colab": {
          "base_uri": "https://localhost:8080/"
        },
        "id": "BoX3NwbmOecT",
        "outputId": "3a098344-347d-4393-c797-c7e85968bec1"
      },
      "source": [
        "df_static['SIZE'].astype(str).astype(int)"
      ],
      "execution_count": 435,
      "outputs": [
        {
          "output_type": "execute_result",
          "data": {
            "text/plain": [
              "index\n",
              "0           9\n",
              "1        4999\n",
              "2           1\n",
              "3           4\n",
              "4           9\n",
              "         ... \n",
              "26052       1\n",
              "26053       1\n",
              "26054       4\n",
              "26055       4\n",
              "26056       1\n",
              "Name: SIZE, Length: 25978, dtype: int64"
            ]
          },
          "metadata": {
            "tags": []
          },
          "execution_count": 435
        }
      ]
    },
    {
      "cell_type": "code",
      "metadata": {
        "colab": {
          "base_uri": "https://localhost:8080/"
        },
        "id": "YV3cOPV4O8rM",
        "outputId": "1812f267-72ec-446f-cd9e-807f5b35d6a7"
      },
      "source": [
        "df_static['SIZE'].head(25000)"
      ],
      "execution_count": 436,
      "outputs": [
        {
          "output_type": "execute_result",
          "data": {
            "text/plain": [
              "index\n",
              "0           9 \n",
              "1        4999 \n",
              "2            1\n",
              "3           4 \n",
              "4           9 \n",
              "         ...  \n",
              "25072        1\n",
              "25073        1\n",
              "25074        1\n",
              "25075        1\n",
              "25076        1\n",
              "Name: SIZE, Length: 25000, dtype: object"
            ]
          },
          "metadata": {
            "tags": []
          },
          "execution_count": 436
        }
      ]
    },
    {
      "cell_type": "code",
      "metadata": {
        "colab": {
          "base_uri": "https://localhost:8080/"
        },
        "id": "zf1O60cfTJfF",
        "outputId": "05bceca0-f77d-459e-b2d2-d536a88c0d19"
      },
      "source": [
        "df_static['PACKAGE']"
      ],
      "execution_count": 437,
      "outputs": [
        {
          "output_type": "execute_result",
          "data": {
            "text/plain": [
              "index\n",
              "0                                   Inbox\n",
              "1                                   Inbox\n",
              "2                                   Inbox\n",
              "3                                   Inbox\n",
              "4                                   Inbox\n",
              "                       ...               \n",
              "26052    Inbox Extra Free (= Inbox Extra)\n",
              "26053                               Inbox\n",
              "26054                               Inbox\n",
              "26055                               Promó\n",
              "26056    Inbox Extra Free (= Inbox Extra)\n",
              "Name: PACKAGE, Length: 25978, dtype: object"
            ]
          },
          "metadata": {
            "tags": []
          },
          "execution_count": 437
        }
      ]
    },
    {
      "cell_type": "code",
      "metadata": {
        "colab": {
          "base_uri": "https://localhost:8080/"
        },
        "id": "aikzpurQTV3k",
        "outputId": "e26ee32c-6ce5-4add-9c27-4e696c1a5303"
      },
      "source": [
        "print(f'missing value for the PACKAGE :{len(df_static[df_static.PACKAGE.isnull()])}')"
      ],
      "execution_count": 438,
      "outputs": [
        {
          "output_type": "stream",
          "text": [
            "missing value for the PACKAGE :107\n"
          ],
          "name": "stdout"
        }
      ]
    },
    {
      "cell_type": "code",
      "metadata": {
        "colab": {
          "base_uri": "https://localhost:8080/",
          "height": 437
        },
        "id": "E4IPKZhMXILq",
        "outputId": "673173cd-056c-4cca-9e83-8fb98edfdabd"
      },
      "source": [
        "import pandas as pd\r\n",
        "import numpy as np\r\n",
        "from sklearn.preprocessing import LabelEncoder\r\n",
        "# creating initial dataframe\r\n",
        "#bridge_types = ('Arch','Beam','Truss','Cantilever','Tied Arch','Suspension','Cable')\r\n",
        "#bridge_df = pd.DataFrame(bridge_types, columns=['REGION'])\r\n",
        "# creating instance of labelencoder\r\n",
        "labelencoder = LabelEncoder()\r\n",
        "# Assigning numerical values and storing in another column\r\n",
        "df_static['PACKAGE'] = labelencoder.fit_transform(df_static['PACKAGE'].astype(str))\r\n",
        "df_static"
      ],
      "execution_count": 439,
      "outputs": [
        {
          "output_type": "execute_result",
          "data": {
            "text/html": [
              "<div>\n",
              "<style scoped>\n",
              "    .dataframe tbody tr th:only-of-type {\n",
              "        vertical-align: middle;\n",
              "    }\n",
              "\n",
              "    .dataframe tbody tr th {\n",
              "        vertical-align: top;\n",
              "    }\n",
              "\n",
              "    .dataframe thead th {\n",
              "        text-align: right;\n",
              "    }\n",
              "</style>\n",
              "<table border=\"1\" class=\"dataframe\">\n",
              "  <thead>\n",
              "    <tr style=\"text-align: right;\">\n",
              "      <th></th>\n",
              "      <th>PARTY_ID</th>\n",
              "      <th>CREATED_ON</th>\n",
              "      <th>LAST_LOGIN</th>\n",
              "      <th>LOB_CODE</th>\n",
              "      <th>SIZE</th>\n",
              "      <th>PACKAGE</th>\n",
              "      <th>REGION</th>\n",
              "      <th>COUNTY</th>\n",
              "    </tr>\n",
              "    <tr>\n",
              "      <th>index</th>\n",
              "      <th></th>\n",
              "      <th></th>\n",
              "      <th></th>\n",
              "      <th></th>\n",
              "      <th></th>\n",
              "      <th></th>\n",
              "      <th></th>\n",
              "      <th></th>\n",
              "    </tr>\n",
              "  </thead>\n",
              "  <tbody>\n",
              "    <tr>\n",
              "      <th>0</th>\n",
              "      <td>233823894</td>\n",
              "      <td>2017-03-22 14:30:00</td>\n",
              "      <td>2017-03-22 14:30:54</td>\n",
              "      <td>49414.0</td>\n",
              "      <td>9</td>\n",
              "      <td>3</td>\n",
              "      <td>1</td>\n",
              "      <td>12</td>\n",
              "    </tr>\n",
              "    <tr>\n",
              "      <th>1</th>\n",
              "      <td>233823896</td>\n",
              "      <td>2017-03-23 12:48:00</td>\n",
              "      <td>2017-03-23 12:48:31</td>\n",
              "      <td>NaN</td>\n",
              "      <td>4999</td>\n",
              "      <td>3</td>\n",
              "      <td>1</td>\n",
              "      <td>12</td>\n",
              "    </tr>\n",
              "    <tr>\n",
              "      <th>2</th>\n",
              "      <td>233823898</td>\n",
              "      <td>2017-03-23 13:46:00</td>\n",
              "      <td>2017-03-23 15:19:06</td>\n",
              "      <td>70224.0</td>\n",
              "      <td>1</td>\n",
              "      <td>3</td>\n",
              "      <td>1</td>\n",
              "      <td>12</td>\n",
              "    </tr>\n",
              "    <tr>\n",
              "      <th>3</th>\n",
              "      <td>233823900</td>\n",
              "      <td>2017-03-27 06:40:00</td>\n",
              "      <td>2017-03-27 06:44:06</td>\n",
              "      <td>81104.0</td>\n",
              "      <td>4</td>\n",
              "      <td>3</td>\n",
              "      <td>2</td>\n",
              "      <td>12</td>\n",
              "    </tr>\n",
              "    <tr>\n",
              "      <th>4</th>\n",
              "      <td>233823901</td>\n",
              "      <td>2017-03-27 06:43:00</td>\n",
              "      <td>2017-03-27 06:46:13</td>\n",
              "      <td>46514.0</td>\n",
              "      <td>9</td>\n",
              "      <td>3</td>\n",
              "      <td>1</td>\n",
              "      <td>12</td>\n",
              "    </tr>\n",
              "    <tr>\n",
              "      <th>...</th>\n",
              "      <td>...</td>\n",
              "      <td>...</td>\n",
              "      <td>...</td>\n",
              "      <td>...</td>\n",
              "      <td>...</td>\n",
              "      <td>...</td>\n",
              "      <td>...</td>\n",
              "      <td>...</td>\n",
              "    </tr>\n",
              "    <tr>\n",
              "      <th>26052</th>\n",
              "      <td>684845716</td>\n",
              "      <td>2020-10-16 13:40:00</td>\n",
              "      <td>2020-10-19 06:44:16</td>\n",
              "      <td>45114.0</td>\n",
              "      <td>1</td>\n",
              "      <td>5</td>\n",
              "      <td>1</td>\n",
              "      <td>12</td>\n",
              "    </tr>\n",
              "    <tr>\n",
              "      <th>26053</th>\n",
              "      <td>684845718</td>\n",
              "      <td>2020-10-16 15:58:00</td>\n",
              "      <td>2020-10-16 16:40:03</td>\n",
              "      <td>68104.0</td>\n",
              "      <td>1</td>\n",
              "      <td>3</td>\n",
              "      <td>1</td>\n",
              "      <td>12</td>\n",
              "    </tr>\n",
              "    <tr>\n",
              "      <th>26054</th>\n",
              "      <td>685181166</td>\n",
              "      <td>2020-10-18 10:38:00</td>\n",
              "      <td>2020-10-18 10:38:37</td>\n",
              "      <td>56104.0</td>\n",
              "      <td>4</td>\n",
              "      <td>3</td>\n",
              "      <td>6</td>\n",
              "      <td>4</td>\n",
              "    </tr>\n",
              "    <tr>\n",
              "      <th>26055</th>\n",
              "      <td>685181167</td>\n",
              "      <td>2020-10-18 10:40:00</td>\n",
              "      <td>2020-10-18 10:46:20</td>\n",
              "      <td>47114.0</td>\n",
              "      <td>4</td>\n",
              "      <td>9</td>\n",
              "      <td>6</td>\n",
              "      <td>4</td>\n",
              "    </tr>\n",
              "    <tr>\n",
              "      <th>26056</th>\n",
              "      <td>685181170</td>\n",
              "      <td>2020-10-18 14:42:00</td>\n",
              "      <td>2020-10-18 15:01:27</td>\n",
              "      <td>47914.0</td>\n",
              "      <td>1</td>\n",
              "      <td>5</td>\n",
              "      <td>1</td>\n",
              "      <td>12</td>\n",
              "    </tr>\n",
              "  </tbody>\n",
              "</table>\n",
              "<p>25978 rows × 8 columns</p>\n",
              "</div>"
            ],
            "text/plain": [
              "        PARTY_ID          CREATED_ON  ... REGION  COUNTY\n",
              "index                                 ...               \n",
              "0      233823894 2017-03-22 14:30:00  ...      1      12\n",
              "1      233823896 2017-03-23 12:48:00  ...      1      12\n",
              "2      233823898 2017-03-23 13:46:00  ...      1      12\n",
              "3      233823900 2017-03-27 06:40:00  ...      2      12\n",
              "4      233823901 2017-03-27 06:43:00  ...      1      12\n",
              "...          ...                 ...  ...    ...     ...\n",
              "26052  684845716 2020-10-16 13:40:00  ...      1      12\n",
              "26053  684845718 2020-10-16 15:58:00  ...      1      12\n",
              "26054  685181166 2020-10-18 10:38:00  ...      6       4\n",
              "26055  685181167 2020-10-18 10:40:00  ...      6       4\n",
              "26056  685181170 2020-10-18 14:42:00  ...      1      12\n",
              "\n",
              "[25978 rows x 8 columns]"
            ]
          },
          "metadata": {
            "tags": []
          },
          "execution_count": 439
        }
      ]
    },
    {
      "cell_type": "code",
      "metadata": {
        "id": "vJ1XYpTFWoFH",
        "colab": {
          "base_uri": "https://localhost:8080/"
        },
        "outputId": "37dc5c79-14e2-4c33-fa9b-57da7adcb42b"
      },
      "source": [
        "df_static['LOB_CODE'] "
      ],
      "execution_count": 440,
      "outputs": [
        {
          "output_type": "execute_result",
          "data": {
            "text/plain": [
              "index\n",
              "0        49414.0\n",
              "1            NaN\n",
              "2        70224.0\n",
              "3        81104.0\n",
              "4        46514.0\n",
              "          ...   \n",
              "26052    45114.0\n",
              "26053    68104.0\n",
              "26054    56104.0\n",
              "26055    47114.0\n",
              "26056    47914.0\n",
              "Name: LOB_CODE, Length: 25978, dtype: float64"
            ]
          },
          "metadata": {
            "tags": []
          },
          "execution_count": 440
        }
      ]
    },
    {
      "cell_type": "code",
      "metadata": {
        "colab": {
          "base_uri": "https://localhost:8080/"
        },
        "id": "nY2RjXAgarEp",
        "outputId": "7ab18c62-12a9-45bc-8d5d-ddedff1a2156"
      },
      "source": [
        "\r\n",
        "mode = df_static['LOB_CODE'].mean()\r\n",
        "mode"
      ],
      "execution_count": 441,
      "outputs": [
        {
          "output_type": "execute_result",
          "data": {
            "text/plain": [
              "55174.165493492685"
            ]
          },
          "metadata": {
            "tags": []
          },
          "execution_count": 441
        }
      ]
    },
    {
      "cell_type": "code",
      "metadata": {
        "colab": {
          "base_uri": "https://localhost:8080/"
        },
        "id": "VdJzNf-Qaujd",
        "outputId": "83dcbda0-40bc-4138-f6d2-d15b1910f681"
      },
      "source": [
        "\r\n",
        "df_static['LOB_CODE'] = df_static['LOB_CODE'].replace(np.nan,mode)\r\n",
        "df_static['LOB_CODE']"
      ],
      "execution_count": 442,
      "outputs": [
        {
          "output_type": "execute_result",
          "data": {
            "text/plain": [
              "index\n",
              "0        49414.000000\n",
              "1        55174.165493\n",
              "2        70224.000000\n",
              "3        81104.000000\n",
              "4        46514.000000\n",
              "             ...     \n",
              "26052    45114.000000\n",
              "26053    68104.000000\n",
              "26054    56104.000000\n",
              "26055    47114.000000\n",
              "26056    47914.000000\n",
              "Name: LOB_CODE, Length: 25978, dtype: float64"
            ]
          },
          "metadata": {
            "tags": []
          },
          "execution_count": 442
        }
      ]
    },
    {
      "cell_type": "code",
      "metadata": {
        "colab": {
          "base_uri": "https://localhost:8080/"
        },
        "id": "3m1LsyoPa3bg",
        "outputId": "3034b111-4b25-4db8-94f0-f147937d81fa"
      },
      "source": [
        "print(f'missing value for the LOB_CODE :{len(df_static[df_static.LOB_CODE.isnull()])}')"
      ],
      "execution_count": 443,
      "outputs": [
        {
          "output_type": "stream",
          "text": [
            "missing value for the LOB_CODE :0\n"
          ],
          "name": "stdout"
        }
      ]
    },
    {
      "cell_type": "code",
      "metadata": {
        "colab": {
          "base_uri": "https://localhost:8080/",
          "height": 437
        },
        "id": "z3CP7l5PcwtA",
        "outputId": "e9e06caf-2432-430f-e100-15092ae7de8b"
      },
      "source": [
        "df_static"
      ],
      "execution_count": 444,
      "outputs": [
        {
          "output_type": "execute_result",
          "data": {
            "text/html": [
              "<div>\n",
              "<style scoped>\n",
              "    .dataframe tbody tr th:only-of-type {\n",
              "        vertical-align: middle;\n",
              "    }\n",
              "\n",
              "    .dataframe tbody tr th {\n",
              "        vertical-align: top;\n",
              "    }\n",
              "\n",
              "    .dataframe thead th {\n",
              "        text-align: right;\n",
              "    }\n",
              "</style>\n",
              "<table border=\"1\" class=\"dataframe\">\n",
              "  <thead>\n",
              "    <tr style=\"text-align: right;\">\n",
              "      <th></th>\n",
              "      <th>PARTY_ID</th>\n",
              "      <th>CREATED_ON</th>\n",
              "      <th>LAST_LOGIN</th>\n",
              "      <th>LOB_CODE</th>\n",
              "      <th>SIZE</th>\n",
              "      <th>PACKAGE</th>\n",
              "      <th>REGION</th>\n",
              "      <th>COUNTY</th>\n",
              "    </tr>\n",
              "    <tr>\n",
              "      <th>index</th>\n",
              "      <th></th>\n",
              "      <th></th>\n",
              "      <th></th>\n",
              "      <th></th>\n",
              "      <th></th>\n",
              "      <th></th>\n",
              "      <th></th>\n",
              "      <th></th>\n",
              "    </tr>\n",
              "  </thead>\n",
              "  <tbody>\n",
              "    <tr>\n",
              "      <th>0</th>\n",
              "      <td>233823894</td>\n",
              "      <td>2017-03-22 14:30:00</td>\n",
              "      <td>2017-03-22 14:30:54</td>\n",
              "      <td>49414.000000</td>\n",
              "      <td>9</td>\n",
              "      <td>3</td>\n",
              "      <td>1</td>\n",
              "      <td>12</td>\n",
              "    </tr>\n",
              "    <tr>\n",
              "      <th>1</th>\n",
              "      <td>233823896</td>\n",
              "      <td>2017-03-23 12:48:00</td>\n",
              "      <td>2017-03-23 12:48:31</td>\n",
              "      <td>55174.165493</td>\n",
              "      <td>4999</td>\n",
              "      <td>3</td>\n",
              "      <td>1</td>\n",
              "      <td>12</td>\n",
              "    </tr>\n",
              "    <tr>\n",
              "      <th>2</th>\n",
              "      <td>233823898</td>\n",
              "      <td>2017-03-23 13:46:00</td>\n",
              "      <td>2017-03-23 15:19:06</td>\n",
              "      <td>70224.000000</td>\n",
              "      <td>1</td>\n",
              "      <td>3</td>\n",
              "      <td>1</td>\n",
              "      <td>12</td>\n",
              "    </tr>\n",
              "    <tr>\n",
              "      <th>3</th>\n",
              "      <td>233823900</td>\n",
              "      <td>2017-03-27 06:40:00</td>\n",
              "      <td>2017-03-27 06:44:06</td>\n",
              "      <td>81104.000000</td>\n",
              "      <td>4</td>\n",
              "      <td>3</td>\n",
              "      <td>2</td>\n",
              "      <td>12</td>\n",
              "    </tr>\n",
              "    <tr>\n",
              "      <th>4</th>\n",
              "      <td>233823901</td>\n",
              "      <td>2017-03-27 06:43:00</td>\n",
              "      <td>2017-03-27 06:46:13</td>\n",
              "      <td>46514.000000</td>\n",
              "      <td>9</td>\n",
              "      <td>3</td>\n",
              "      <td>1</td>\n",
              "      <td>12</td>\n",
              "    </tr>\n",
              "    <tr>\n",
              "      <th>...</th>\n",
              "      <td>...</td>\n",
              "      <td>...</td>\n",
              "      <td>...</td>\n",
              "      <td>...</td>\n",
              "      <td>...</td>\n",
              "      <td>...</td>\n",
              "      <td>...</td>\n",
              "      <td>...</td>\n",
              "    </tr>\n",
              "    <tr>\n",
              "      <th>26052</th>\n",
              "      <td>684845716</td>\n",
              "      <td>2020-10-16 13:40:00</td>\n",
              "      <td>2020-10-19 06:44:16</td>\n",
              "      <td>45114.000000</td>\n",
              "      <td>1</td>\n",
              "      <td>5</td>\n",
              "      <td>1</td>\n",
              "      <td>12</td>\n",
              "    </tr>\n",
              "    <tr>\n",
              "      <th>26053</th>\n",
              "      <td>684845718</td>\n",
              "      <td>2020-10-16 15:58:00</td>\n",
              "      <td>2020-10-16 16:40:03</td>\n",
              "      <td>68104.000000</td>\n",
              "      <td>1</td>\n",
              "      <td>3</td>\n",
              "      <td>1</td>\n",
              "      <td>12</td>\n",
              "    </tr>\n",
              "    <tr>\n",
              "      <th>26054</th>\n",
              "      <td>685181166</td>\n",
              "      <td>2020-10-18 10:38:00</td>\n",
              "      <td>2020-10-18 10:38:37</td>\n",
              "      <td>56104.000000</td>\n",
              "      <td>4</td>\n",
              "      <td>3</td>\n",
              "      <td>6</td>\n",
              "      <td>4</td>\n",
              "    </tr>\n",
              "    <tr>\n",
              "      <th>26055</th>\n",
              "      <td>685181167</td>\n",
              "      <td>2020-10-18 10:40:00</td>\n",
              "      <td>2020-10-18 10:46:20</td>\n",
              "      <td>47114.000000</td>\n",
              "      <td>4</td>\n",
              "      <td>9</td>\n",
              "      <td>6</td>\n",
              "      <td>4</td>\n",
              "    </tr>\n",
              "    <tr>\n",
              "      <th>26056</th>\n",
              "      <td>685181170</td>\n",
              "      <td>2020-10-18 14:42:00</td>\n",
              "      <td>2020-10-18 15:01:27</td>\n",
              "      <td>47914.000000</td>\n",
              "      <td>1</td>\n",
              "      <td>5</td>\n",
              "      <td>1</td>\n",
              "      <td>12</td>\n",
              "    </tr>\n",
              "  </tbody>\n",
              "</table>\n",
              "<p>25978 rows × 8 columns</p>\n",
              "</div>"
            ],
            "text/plain": [
              "        PARTY_ID          CREATED_ON  ... REGION  COUNTY\n",
              "index                                 ...               \n",
              "0      233823894 2017-03-22 14:30:00  ...      1      12\n",
              "1      233823896 2017-03-23 12:48:00  ...      1      12\n",
              "2      233823898 2017-03-23 13:46:00  ...      1      12\n",
              "3      233823900 2017-03-27 06:40:00  ...      2      12\n",
              "4      233823901 2017-03-27 06:43:00  ...      1      12\n",
              "...          ...                 ...  ...    ...     ...\n",
              "26052  684845716 2020-10-16 13:40:00  ...      1      12\n",
              "26053  684845718 2020-10-16 15:58:00  ...      1      12\n",
              "26054  685181166 2020-10-18 10:38:00  ...      6       4\n",
              "26055  685181167 2020-10-18 10:40:00  ...      6       4\n",
              "26056  685181170 2020-10-18 14:42:00  ...      1      12\n",
              "\n",
              "[25978 rows x 8 columns]"
            ]
          },
          "metadata": {
            "tags": []
          },
          "execution_count": 444
        }
      ]
    },
    {
      "cell_type": "code",
      "metadata": {
        "colab": {
          "base_uri": "https://localhost:8080/",
          "height": 437
        },
        "id": "kFslqZkIhQHi",
        "outputId": "a9d206df-6ee7-4793-fef5-3d19114cf90f"
      },
      "source": [
        "df_static =df_static.drop(columns=['CREATED_ON'])\r\n",
        "df_static = df_static.drop(columns=['LAST_LOGIN'])\r\n",
        "df_static"
      ],
      "execution_count": 445,
      "outputs": [
        {
          "output_type": "execute_result",
          "data": {
            "text/html": [
              "<div>\n",
              "<style scoped>\n",
              "    .dataframe tbody tr th:only-of-type {\n",
              "        vertical-align: middle;\n",
              "    }\n",
              "\n",
              "    .dataframe tbody tr th {\n",
              "        vertical-align: top;\n",
              "    }\n",
              "\n",
              "    .dataframe thead th {\n",
              "        text-align: right;\n",
              "    }\n",
              "</style>\n",
              "<table border=\"1\" class=\"dataframe\">\n",
              "  <thead>\n",
              "    <tr style=\"text-align: right;\">\n",
              "      <th></th>\n",
              "      <th>PARTY_ID</th>\n",
              "      <th>LOB_CODE</th>\n",
              "      <th>SIZE</th>\n",
              "      <th>PACKAGE</th>\n",
              "      <th>REGION</th>\n",
              "      <th>COUNTY</th>\n",
              "    </tr>\n",
              "    <tr>\n",
              "      <th>index</th>\n",
              "      <th></th>\n",
              "      <th></th>\n",
              "      <th></th>\n",
              "      <th></th>\n",
              "      <th></th>\n",
              "      <th></th>\n",
              "    </tr>\n",
              "  </thead>\n",
              "  <tbody>\n",
              "    <tr>\n",
              "      <th>0</th>\n",
              "      <td>233823894</td>\n",
              "      <td>49414.000000</td>\n",
              "      <td>9</td>\n",
              "      <td>3</td>\n",
              "      <td>1</td>\n",
              "      <td>12</td>\n",
              "    </tr>\n",
              "    <tr>\n",
              "      <th>1</th>\n",
              "      <td>233823896</td>\n",
              "      <td>55174.165493</td>\n",
              "      <td>4999</td>\n",
              "      <td>3</td>\n",
              "      <td>1</td>\n",
              "      <td>12</td>\n",
              "    </tr>\n",
              "    <tr>\n",
              "      <th>2</th>\n",
              "      <td>233823898</td>\n",
              "      <td>70224.000000</td>\n",
              "      <td>1</td>\n",
              "      <td>3</td>\n",
              "      <td>1</td>\n",
              "      <td>12</td>\n",
              "    </tr>\n",
              "    <tr>\n",
              "      <th>3</th>\n",
              "      <td>233823900</td>\n",
              "      <td>81104.000000</td>\n",
              "      <td>4</td>\n",
              "      <td>3</td>\n",
              "      <td>2</td>\n",
              "      <td>12</td>\n",
              "    </tr>\n",
              "    <tr>\n",
              "      <th>4</th>\n",
              "      <td>233823901</td>\n",
              "      <td>46514.000000</td>\n",
              "      <td>9</td>\n",
              "      <td>3</td>\n",
              "      <td>1</td>\n",
              "      <td>12</td>\n",
              "    </tr>\n",
              "    <tr>\n",
              "      <th>...</th>\n",
              "      <td>...</td>\n",
              "      <td>...</td>\n",
              "      <td>...</td>\n",
              "      <td>...</td>\n",
              "      <td>...</td>\n",
              "      <td>...</td>\n",
              "    </tr>\n",
              "    <tr>\n",
              "      <th>26052</th>\n",
              "      <td>684845716</td>\n",
              "      <td>45114.000000</td>\n",
              "      <td>1</td>\n",
              "      <td>5</td>\n",
              "      <td>1</td>\n",
              "      <td>12</td>\n",
              "    </tr>\n",
              "    <tr>\n",
              "      <th>26053</th>\n",
              "      <td>684845718</td>\n",
              "      <td>68104.000000</td>\n",
              "      <td>1</td>\n",
              "      <td>3</td>\n",
              "      <td>1</td>\n",
              "      <td>12</td>\n",
              "    </tr>\n",
              "    <tr>\n",
              "      <th>26054</th>\n",
              "      <td>685181166</td>\n",
              "      <td>56104.000000</td>\n",
              "      <td>4</td>\n",
              "      <td>3</td>\n",
              "      <td>6</td>\n",
              "      <td>4</td>\n",
              "    </tr>\n",
              "    <tr>\n",
              "      <th>26055</th>\n",
              "      <td>685181167</td>\n",
              "      <td>47114.000000</td>\n",
              "      <td>4</td>\n",
              "      <td>9</td>\n",
              "      <td>6</td>\n",
              "      <td>4</td>\n",
              "    </tr>\n",
              "    <tr>\n",
              "      <th>26056</th>\n",
              "      <td>685181170</td>\n",
              "      <td>47914.000000</td>\n",
              "      <td>1</td>\n",
              "      <td>5</td>\n",
              "      <td>1</td>\n",
              "      <td>12</td>\n",
              "    </tr>\n",
              "  </tbody>\n",
              "</table>\n",
              "<p>25978 rows × 6 columns</p>\n",
              "</div>"
            ],
            "text/plain": [
              "        PARTY_ID      LOB_CODE   SIZE  PACKAGE  REGION  COUNTY\n",
              "index                                                         \n",
              "0      233823894  49414.000000     9         3       1      12\n",
              "1      233823896  55174.165493  4999         3       1      12\n",
              "2      233823898  70224.000000      1        3       1      12\n",
              "3      233823900  81104.000000     4         3       2      12\n",
              "4      233823901  46514.000000     9         3       1      12\n",
              "...          ...           ...    ...      ...     ...     ...\n",
              "26052  684845716  45114.000000      1        5       1      12\n",
              "26053  684845718  68104.000000      1        3       1      12\n",
              "26054  685181166  56104.000000     4         3       6       4\n",
              "26055  685181167  47114.000000     4         9       6       4\n",
              "26056  685181170  47914.000000      1        5       1      12\n",
              "\n",
              "[25978 rows x 6 columns]"
            ]
          },
          "metadata": {
            "tags": []
          },
          "execution_count": 445
        }
      ]
    },
    {
      "cell_type": "code",
      "metadata": {
        "id": "bVc_279vdUKo"
      },
      "source": [
        "df_static['SIZE'] = df_static['SIZE'].astype(str).astype(int)"
      ],
      "execution_count": 446,
      "outputs": []
    },
    {
      "cell_type": "code",
      "metadata": {
        "id": "yY7qVPU3j9MI"
      },
      "source": [
        "df_static['LOB_CODE'] = df_static['LOB_CODE'].astype(int)"
      ],
      "execution_count": 447,
      "outputs": []
    },
    {
      "cell_type": "code",
      "metadata": {
        "colab": {
          "base_uri": "https://localhost:8080/"
        },
        "id": "ue2vT7yPjffF",
        "outputId": "88d4c310-c5ac-405b-c78c-65baad7f7056"
      },
      "source": [
        "df_static.info()"
      ],
      "execution_count": 448,
      "outputs": [
        {
          "output_type": "stream",
          "text": [
            "<class 'pandas.core.frame.DataFrame'>\n",
            "Int64Index: 25978 entries, 0 to 26056\n",
            "Data columns (total 6 columns):\n",
            " #   Column    Non-Null Count  Dtype\n",
            "---  ------    --------------  -----\n",
            " 0   PARTY_ID  25978 non-null  int64\n",
            " 1   LOB_CODE  25978 non-null  int64\n",
            " 2   SIZE      25978 non-null  int64\n",
            " 3   PACKAGE   25978 non-null  int64\n",
            " 4   REGION    25978 non-null  int64\n",
            " 5   COUNTY    25978 non-null  int64\n",
            "dtypes: int64(6)\n",
            "memory usage: 2.6 MB\n"
          ],
          "name": "stdout"
        }
      ]
    },
    {
      "cell_type": "code",
      "metadata": {
        "colab": {
          "base_uri": "https://localhost:8080/",
          "height": 437
        },
        "id": "MjCJ1A7nkGzo",
        "outputId": "10ca0cbd-e665-45bc-a0ff-052f60b570e8"
      },
      "source": [
        "df_static"
      ],
      "execution_count": 449,
      "outputs": [
        {
          "output_type": "execute_result",
          "data": {
            "text/html": [
              "<div>\n",
              "<style scoped>\n",
              "    .dataframe tbody tr th:only-of-type {\n",
              "        vertical-align: middle;\n",
              "    }\n",
              "\n",
              "    .dataframe tbody tr th {\n",
              "        vertical-align: top;\n",
              "    }\n",
              "\n",
              "    .dataframe thead th {\n",
              "        text-align: right;\n",
              "    }\n",
              "</style>\n",
              "<table border=\"1\" class=\"dataframe\">\n",
              "  <thead>\n",
              "    <tr style=\"text-align: right;\">\n",
              "      <th></th>\n",
              "      <th>PARTY_ID</th>\n",
              "      <th>LOB_CODE</th>\n",
              "      <th>SIZE</th>\n",
              "      <th>PACKAGE</th>\n",
              "      <th>REGION</th>\n",
              "      <th>COUNTY</th>\n",
              "    </tr>\n",
              "    <tr>\n",
              "      <th>index</th>\n",
              "      <th></th>\n",
              "      <th></th>\n",
              "      <th></th>\n",
              "      <th></th>\n",
              "      <th></th>\n",
              "      <th></th>\n",
              "    </tr>\n",
              "  </thead>\n",
              "  <tbody>\n",
              "    <tr>\n",
              "      <th>0</th>\n",
              "      <td>233823894</td>\n",
              "      <td>49414</td>\n",
              "      <td>9</td>\n",
              "      <td>3</td>\n",
              "      <td>1</td>\n",
              "      <td>12</td>\n",
              "    </tr>\n",
              "    <tr>\n",
              "      <th>1</th>\n",
              "      <td>233823896</td>\n",
              "      <td>55174</td>\n",
              "      <td>4999</td>\n",
              "      <td>3</td>\n",
              "      <td>1</td>\n",
              "      <td>12</td>\n",
              "    </tr>\n",
              "    <tr>\n",
              "      <th>2</th>\n",
              "      <td>233823898</td>\n",
              "      <td>70224</td>\n",
              "      <td>1</td>\n",
              "      <td>3</td>\n",
              "      <td>1</td>\n",
              "      <td>12</td>\n",
              "    </tr>\n",
              "    <tr>\n",
              "      <th>3</th>\n",
              "      <td>233823900</td>\n",
              "      <td>81104</td>\n",
              "      <td>4</td>\n",
              "      <td>3</td>\n",
              "      <td>2</td>\n",
              "      <td>12</td>\n",
              "    </tr>\n",
              "    <tr>\n",
              "      <th>4</th>\n",
              "      <td>233823901</td>\n",
              "      <td>46514</td>\n",
              "      <td>9</td>\n",
              "      <td>3</td>\n",
              "      <td>1</td>\n",
              "      <td>12</td>\n",
              "    </tr>\n",
              "    <tr>\n",
              "      <th>...</th>\n",
              "      <td>...</td>\n",
              "      <td>...</td>\n",
              "      <td>...</td>\n",
              "      <td>...</td>\n",
              "      <td>...</td>\n",
              "      <td>...</td>\n",
              "    </tr>\n",
              "    <tr>\n",
              "      <th>26052</th>\n",
              "      <td>684845716</td>\n",
              "      <td>45114</td>\n",
              "      <td>1</td>\n",
              "      <td>5</td>\n",
              "      <td>1</td>\n",
              "      <td>12</td>\n",
              "    </tr>\n",
              "    <tr>\n",
              "      <th>26053</th>\n",
              "      <td>684845718</td>\n",
              "      <td>68104</td>\n",
              "      <td>1</td>\n",
              "      <td>3</td>\n",
              "      <td>1</td>\n",
              "      <td>12</td>\n",
              "    </tr>\n",
              "    <tr>\n",
              "      <th>26054</th>\n",
              "      <td>685181166</td>\n",
              "      <td>56104</td>\n",
              "      <td>4</td>\n",
              "      <td>3</td>\n",
              "      <td>6</td>\n",
              "      <td>4</td>\n",
              "    </tr>\n",
              "    <tr>\n",
              "      <th>26055</th>\n",
              "      <td>685181167</td>\n",
              "      <td>47114</td>\n",
              "      <td>4</td>\n",
              "      <td>9</td>\n",
              "      <td>6</td>\n",
              "      <td>4</td>\n",
              "    </tr>\n",
              "    <tr>\n",
              "      <th>26056</th>\n",
              "      <td>685181170</td>\n",
              "      <td>47914</td>\n",
              "      <td>1</td>\n",
              "      <td>5</td>\n",
              "      <td>1</td>\n",
              "      <td>12</td>\n",
              "    </tr>\n",
              "  </tbody>\n",
              "</table>\n",
              "<p>25978 rows × 6 columns</p>\n",
              "</div>"
            ],
            "text/plain": [
              "        PARTY_ID  LOB_CODE  SIZE  PACKAGE  REGION  COUNTY\n",
              "index                                                    \n",
              "0      233823894     49414     9        3       1      12\n",
              "1      233823896     55174  4999        3       1      12\n",
              "2      233823898     70224     1        3       1      12\n",
              "3      233823900     81104     4        3       2      12\n",
              "4      233823901     46514     9        3       1      12\n",
              "...          ...       ...   ...      ...     ...     ...\n",
              "26052  684845716     45114     1        5       1      12\n",
              "26053  684845718     68104     1        3       1      12\n",
              "26054  685181166     56104     4        3       6       4\n",
              "26055  685181167     47114     4        9       6       4\n",
              "26056  685181170     47914     1        5       1      12\n",
              "\n",
              "[25978 rows x 6 columns]"
            ]
          },
          "metadata": {
            "tags": []
          },
          "execution_count": 449
        }
      ]
    },
    {
      "cell_type": "code",
      "metadata": {
        "id": "yxzDdQVrkM1N"
      },
      "source": [
        "df_static.to_csv('static_data_v1.csv', index=True)"
      ],
      "execution_count": 450,
      "outputs": []
    }
  ]
}