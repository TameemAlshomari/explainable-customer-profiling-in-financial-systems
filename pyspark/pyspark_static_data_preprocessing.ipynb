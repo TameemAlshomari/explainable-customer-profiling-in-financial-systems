{
  "nbformat": 4,
  "nbformat_minor": 0,
  "metadata": {
    "kernelspec": {
      "display_name": "Python 3",
      "language": "python",
      "name": "python3"
    },
    "language_info": {
      "codemirror_mode": {
        "name": "ipython",
        "version": 3
      },
      "file_extension": ".py",
      "mimetype": "text/x-python",
      "name": "python",
      "nbconvert_exporter": "python",
      "pygments_lexer": "ipython3",
      "version": "3.8.3"
    },
    "colab": {
      "name": "pyspark_static_data_preprocessing.ipynb",
      "provenance": [],
      "collapsed_sections": []
    },
    "accelerator": "GPU"
  },
  "cells": [
    {
      "cell_type": "code",
      "metadata": {
        "colab": {
          "base_uri": "https://localhost:8080/"
        },
        "id": "bg22dVp7SeTj",
        "outputId": "cfebe15a-872b-4d86-e635-2ac6d2b34d50"
      },
      "source": [
        "pip install pyspark"
      ],
      "execution_count": 1,
      "outputs": [
        {
          "output_type": "stream",
          "text": [
            "Collecting pyspark\n",
            "\u001b[?25l  Downloading https://files.pythonhosted.org/packages/f0/26/198fc8c0b98580f617cb03cb298c6056587b8f0447e20fa40c5b634ced77/pyspark-3.0.1.tar.gz (204.2MB)\n",
            "\u001b[K     |████████████████████████████████| 204.2MB 76kB/s \n",
            "\u001b[?25hCollecting py4j==0.10.9\n",
            "\u001b[?25l  Downloading https://files.pythonhosted.org/packages/9e/b6/6a4fb90cd235dc8e265a6a2067f2a2c99f0d91787f06aca4bcf7c23f3f80/py4j-0.10.9-py2.py3-none-any.whl (198kB)\n",
            "\u001b[K     |████████████████████████████████| 204kB 46.8MB/s \n",
            "\u001b[?25hBuilding wheels for collected packages: pyspark\n",
            "  Building wheel for pyspark (setup.py) ... \u001b[?25l\u001b[?25hdone\n",
            "  Created wheel for pyspark: filename=pyspark-3.0.1-py2.py3-none-any.whl size=204612242 sha256=a5d75c5c1b08301aa4345ee4c01b15f463e1a32fb55b8ea56d4b339216cc06ac\n",
            "  Stored in directory: /root/.cache/pip/wheels/5e/bd/07/031766ca628adec8435bb40f0bd83bb676ce65ff4007f8e73f\n",
            "Successfully built pyspark\n",
            "Installing collected packages: py4j, pyspark\n",
            "Successfully installed py4j-0.10.9 pyspark-3.0.1\n"
          ],
          "name": "stdout"
        }
      ]
    },
    {
      "cell_type": "code",
      "metadata": {
        "id": "LeIui1lHSeTu"
      },
      "source": [
        "from pyspark.ml.classification import LogisticRegression, RandomForestClassifier\n",
        "from pyspark.ml.linalg import Vectors\n",
        "from pyspark.ml.pipeline import Pipeline\n",
        "from pyspark.mllib.classification import StreamingLogisticRegressionWithSGD\n",
        "from pyspark.mllib.regression import LabeledPoint\n",
        "from pyspark.sql.dataframe import DataFrame\n",
        "from pyspark.sql.functions import udf\n",
        "from pyspark.sql.session import SparkSession\n",
        "from pyspark.ml.evaluation import BinaryClassificationEvaluator\n",
        "from pyspark.sql.types import Row, StringType"
      ],
      "execution_count": 2,
      "outputs": []
    },
    {
      "cell_type": "code",
      "metadata": {
        "colab": {
          "base_uri": "https://localhost:8080/"
        },
        "id": "7o2pLGx4SeTv",
        "outputId": "75165e18-d294-4958-c2df-eefc21e40063"
      },
      "source": [
        "from google.colab import drive\r\n",
        "drive.mount('/content/drive')"
      ],
      "execution_count": 3,
      "outputs": [
        {
          "output_type": "stream",
          "text": [
            "Mounted at /content/drive\n"
          ],
          "name": "stdout"
        }
      ]
    },
    {
      "cell_type": "code",
      "metadata": {
        "id": "ihlXtFXWTQLD"
      },
      "source": [
        "spark = SparkSession \\\r\n",
        "        .builder \\\r\n",
        "        .appName(\"CustomerProfiling\") \\\r\n",
        "        .getOrCreate()"
      ],
      "execution_count": 4,
      "outputs": []
    },
    {
      "cell_type": "code",
      "metadata": {
        "id": "T0IR57ZdTTMx"
      },
      "source": [
        "historic_data = spark\\\r\n",
        "        .read\\\r\n",
        "        .csv('/content/drive/MyDrive/static_data_v1.csv', header=True, inferSchema=True)"
      ],
      "execution_count": 5,
      "outputs": []
    },
    {
      "cell_type": "code",
      "metadata": {
        "colab": {
          "base_uri": "https://localhost:8080/"
        },
        "id": "9v2LVdNbTcGB",
        "outputId": "fbebdf74-9d7f-4e2f-bbf9-5c4c7c6ba101"
      },
      "source": [
        "historic_data.summary().show()"
      ],
      "execution_count": 6,
      "outputs": [
        {
          "output_type": "stream",
          "text": [
            "+-------+------------------+--------------------+------------------+------------------+------------------+------------------+-----------------+\n",
            "|summary|             index|            PARTY_ID|          LOB_CODE|              SIZE|           PACKAGE|            REGION|           COUNTY|\n",
            "+-------+------------------+--------------------+------------------+------------------+------------------+------------------+-----------------+\n",
            "|  count|             25978|               25978|             25978|             25978|             25978|             25978|            25978|\n",
            "|   mean|13043.932057895143|4.3104829911390406E8| 55174.12579875279|14.875587035183617| 3.926283778581877| 3.975209792901686|9.635730233274309|\n",
            "| stddev| 7516.558197906407|1.0519980499034752E8|16325.228882396343| 93.37616344223775|2.4452100085336257|2.7999336981645677|4.725322433670222|\n",
            "|    min|                 0|           233823834|             10114|                 1|                 0|                 1|                0|\n",
            "|    25%|              6539|           380728282|             46224|                 1|                 3|                 1|                6|\n",
            "|    50%|             13052|           430759785|             55174|                 1|                 3|                 3|               12|\n",
            "|    75%|             19550|           465300148|             68104|                 9|                 5|                 7|               12|\n",
            "|    max|             26056|           685235159|             99004|              4999|                11|                 9|               18|\n",
            "+-------+------------------+--------------------+------------------+------------------+------------------+------------------+-----------------+\n",
            "\n"
          ],
          "name": "stdout"
        }
      ]
    },
    {
      "cell_type": "code",
      "metadata": {
        "colab": {
          "base_uri": "https://localhost:8080/"
        },
        "id": "KwFoQ0qNTfwp",
        "outputId": "44a460de-4367-48fd-a1a1-8a1dd3382469"
      },
      "source": [
        "historic_data.printSchema()"
      ],
      "execution_count": 7,
      "outputs": [
        {
          "output_type": "stream",
          "text": [
            "root\n",
            " |-- index: integer (nullable = true)\n",
            " |-- PARTY_ID: integer (nullable = true)\n",
            " |-- LOB_CODE: integer (nullable = true)\n",
            " |-- SIZE: integer (nullable = true)\n",
            " |-- PACKAGE: integer (nullable = true)\n",
            " |-- REGION: integer (nullable = true)\n",
            " |-- COUNTY: integer (nullable = true)\n",
            "\n"
          ],
          "name": "stdout"
        }
      ]
    },
    {
      "cell_type": "code",
      "metadata": {
        "colab": {
          "base_uri": "https://localhost:8080/"
        },
        "id": "jiTq7E3XTqIE",
        "outputId": "4257dea9-6c0b-45b9-913a-cbd56a107515"
      },
      "source": [
        "from pyspark.ml.feature import VectorAssembler\r\n",
        "\r\n",
        "vecAssembler = VectorAssembler(inputCols=[\"REGION\", \"COUNTY\"], outputCol=\"features\")\r\n",
        "new_df = vecAssembler.transform(historic_data)\r\n",
        "new_df.show()"
      ],
      "execution_count": 8,
      "outputs": [
        {
          "output_type": "stream",
          "text": [
            "+-----+---------+--------+----+-------+------+------+----------+\n",
            "|index| PARTY_ID|LOB_CODE|SIZE|PACKAGE|REGION|COUNTY|  features|\n",
            "+-----+---------+--------+----+-------+------+------+----------+\n",
            "|    0|233823894|   49414|   9|      3|     1|    12|[1.0,12.0]|\n",
            "|    1|233823896|   55174|4999|      3|     1|    12|[1.0,12.0]|\n",
            "|    2|233823898|   70224|   1|      3|     1|    12|[1.0,12.0]|\n",
            "|    3|233823900|   81104|   4|      3|     2|    12|[2.0,12.0]|\n",
            "|    4|233823901|   46514|   9|      3|     1|    12|[1.0,12.0]|\n",
            "|    5|233823903|   94994|   1|      3|     2|    11|[2.0,11.0]|\n",
            "|    6|233823905|   55174|   1|      2|     6|     2| [6.0,2.0]|\n",
            "|    7|233823907|   52214|  49|     10|     3|    11|[3.0,11.0]|\n",
            "|    8|233831941|   55174|   1|      2|     2|    12|[2.0,12.0]|\n",
            "|    9|233831943|   47914|   1|     10|     6|     2| [6.0,2.0]|\n",
            "|   10|233831946|   47304|  19|     10|     9|     6| [9.0,6.0]|\n",
            "|   11|233831947|   55174|   1|     10|     1|    12|[1.0,12.0]|\n",
            "|   12|233831949|   55174|   1|      3|     4|     7| [4.0,7.0]|\n",
            "|   13|233831951|   46384|   1|     10|     1|    12|[1.0,12.0]|\n",
            "|   14|233832689|   69204|   1|     10|     5|     3| [5.0,3.0]|\n",
            "|   15|233832692|   70224|   1|     10|     1|    12|[1.0,12.0]|\n",
            "|   16|233832694|   18134|  19|      8|     1|    12|[1.0,12.0]|\n",
            "|   17|233832697|   47714|   1|      3|     3|     8| [3.0,8.0]|\n",
            "|   18|233832701|   73114|  19|      2|     1|    12|[1.0,12.0]|\n",
            "|   19|233834751|   47294|   1|      3|     6|     2| [6.0,2.0]|\n",
            "+-----+---------+--------+----+-------+------+------+----------+\n",
            "only showing top 20 rows\n",
            "\n"
          ],
          "name": "stdout"
        }
      ]
    },
    {
      "cell_type": "code",
      "metadata": {
        "id": "wHT5lNk0Uhc6"
      },
      "source": [
        "from pyspark.ml.clustering import KMeans\r\n",
        "\r\n",
        "kmeans = KMeans(k=2, seed=1)  # 2 clusters here\r\n",
        "model = kmeans.fit(new_df.select('features'))\r\n"
      ],
      "execution_count": 9,
      "outputs": []
    },
    {
      "cell_type": "code",
      "metadata": {
        "colab": {
          "base_uri": "https://localhost:8080/"
        },
        "id": "Imo7zt5_a56r",
        "outputId": "9b3c851c-e849-4480-86a3-2ed64b5f3264"
      },
      "source": [
        "transformed = model.transform(new_df)\r\n",
        "transformed.show()    \r\n"
      ],
      "execution_count": 10,
      "outputs": [
        {
          "output_type": "stream",
          "text": [
            "+-----+---------+--------+----+-------+------+------+----------+----------+\n",
            "|index| PARTY_ID|LOB_CODE|SIZE|PACKAGE|REGION|COUNTY|  features|prediction|\n",
            "+-----+---------+--------+----+-------+------+------+----------+----------+\n",
            "|    0|233823894|   49414|   9|      3|     1|    12|[1.0,12.0]|         1|\n",
            "|    1|233823896|   55174|4999|      3|     1|    12|[1.0,12.0]|         1|\n",
            "|    2|233823898|   70224|   1|      3|     1|    12|[1.0,12.0]|         1|\n",
            "|    3|233823900|   81104|   4|      3|     2|    12|[2.0,12.0]|         1|\n",
            "|    4|233823901|   46514|   9|      3|     1|    12|[1.0,12.0]|         1|\n",
            "|    5|233823903|   94994|   1|      3|     2|    11|[2.0,11.0]|         1|\n",
            "|    6|233823905|   55174|   1|      2|     6|     2| [6.0,2.0]|         0|\n",
            "|    7|233823907|   52214|  49|     10|     3|    11|[3.0,11.0]|         1|\n",
            "|    8|233831941|   55174|   1|      2|     2|    12|[2.0,12.0]|         1|\n",
            "|    9|233831943|   47914|   1|     10|     6|     2| [6.0,2.0]|         0|\n",
            "|   10|233831946|   47304|  19|     10|     9|     6| [9.0,6.0]|         0|\n",
            "|   11|233831947|   55174|   1|     10|     1|    12|[1.0,12.0]|         1|\n",
            "|   12|233831949|   55174|   1|      3|     4|     7| [4.0,7.0]|         0|\n",
            "|   13|233831951|   46384|   1|     10|     1|    12|[1.0,12.0]|         1|\n",
            "|   14|233832689|   69204|   1|     10|     5|     3| [5.0,3.0]|         0|\n",
            "|   15|233832692|   70224|   1|     10|     1|    12|[1.0,12.0]|         1|\n",
            "|   16|233832694|   18134|  19|      8|     1|    12|[1.0,12.0]|         1|\n",
            "|   17|233832697|   47714|   1|      3|     3|     8| [3.0,8.0]|         1|\n",
            "|   18|233832701|   73114|  19|      2|     1|    12|[1.0,12.0]|         1|\n",
            "|   19|233834751|   47294|   1|      3|     6|     2| [6.0,2.0]|         0|\n",
            "+-----+---------+--------+----+-------+------+------+----------+----------+\n",
            "only showing top 20 rows\n",
            "\n"
          ],
          "name": "stdout"
        }
      ]
    },
    {
      "cell_type": "code",
      "metadata": {
        "id": "6nUQW7uya767"
      },
      "source": [
        "pred_count = transformed.groupBy('prediction').count().orderBy('count')\r\n"
      ],
      "execution_count": 11,
      "outputs": []
    },
    {
      "cell_type": "code",
      "metadata": {
        "colab": {
          "base_uri": "https://localhost:8080/"
        },
        "id": "g94edpXKa-Bm",
        "outputId": "3064738e-4cbf-462f-932d-5b2ef158a43f"
      },
      "source": [
        "pred_count.show()"
      ],
      "execution_count": 12,
      "outputs": [
        {
          "output_type": "stream",
          "text": [
            "+----------+-----+\n",
            "|prediction|count|\n",
            "+----------+-----+\n",
            "|         0| 8373|\n",
            "|         1|17605|\n",
            "+----------+-----+\n",
            "\n"
          ],
          "name": "stdout"
        }
      ]
    },
    {
      "cell_type": "code",
      "metadata": {
        "id": "kgfD4V82iHf0"
      },
      "source": [
        "historic_data.toPandas().to_csv('/content/pyspark_static_data_v1.csv')"
      ],
      "execution_count": 16,
      "outputs": []
    },
    {
      "cell_type": "code",
      "metadata": {
        "id": "xWSQg9oV4kaE"
      },
      "source": [
        ""
      ],
      "execution_count": null,
      "outputs": []
    }
  ]
}