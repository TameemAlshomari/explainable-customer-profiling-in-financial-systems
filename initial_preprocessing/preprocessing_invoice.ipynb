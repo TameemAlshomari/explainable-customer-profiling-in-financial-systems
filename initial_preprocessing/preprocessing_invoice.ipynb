{
 "cells": [
  {
   "cell_type": "markdown",
   "metadata": {},
   "source": [
    "# Invoice Preprocessing"
   ]
  },
  {
   "cell_type": "markdown",
   "metadata": {},
   "source": [
    "In this notebook, ```invoice_history``` is preprocessed into a new table with the index ```PARTY_ID``` + derived features from original ```invoice_history```."
   ]
  },
  {
   "cell_type": "code",
   "execution_count": 68,
   "metadata": {},
   "outputs": [],
   "source": [
    "import numpy as np\n",
    "import pandas as pd"
   ]
  },
  {
   "cell_type": "code",
   "execution_count": 69,
   "metadata": {},
   "outputs": [],
   "source": [
    "df = pd.read_csv('data/invoice_history.csv')"
   ]
  },
  {
   "cell_type": "code",
   "execution_count": 83,
   "metadata": {},
   "outputs": [
    {
     "data": {
      "text/html": [
       "<div>\n",
       "<style scoped>\n",
       "    .dataframe tbody tr th:only-of-type {\n",
       "        vertical-align: middle;\n",
       "    }\n",
       "\n",
       "    .dataframe tbody tr th {\n",
       "        vertical-align: top;\n",
       "    }\n",
       "\n",
       "    .dataframe thead th {\n",
       "        text-align: right;\n",
       "    }\n",
       "</style>\n",
       "<table border=\"1\" class=\"dataframe\">\n",
       "  <thead>\n",
       "    <tr style=\"text-align: right;\">\n",
       "      <th></th>\n",
       "      <th>Unnamed: 0</th>\n",
       "      <th>INVOICE_ID</th>\n",
       "      <th>PARTY_ID</th>\n",
       "      <th>CURRENCY</th>\n",
       "      <th>TAXEXCLUSIVEAMOUNT</th>\n",
       "      <th>TAXINCLUSIVEAMOUNT</th>\n",
       "      <th>PAYABLEAMOUNT</th>\n",
       "      <th>ISSUEDATE</th>\n",
       "      <th>TAXPOINTDATE</th>\n",
       "      <th>DUEDATE</th>\n",
       "    </tr>\n",
       "  </thead>\n",
       "  <tbody>\n",
       "    <tr>\n",
       "      <th>0</th>\n",
       "      <td>0</td>\n",
       "      <td>214341229</td>\n",
       "      <td>233824028</td>\n",
       "      <td>HUF</td>\n",
       "      <td>838701.0</td>\n",
       "      <td>1065150.0</td>\n",
       "      <td>1065150.0</td>\n",
       "      <td>2017-05-01</td>\n",
       "      <td>2017-05-01</td>\n",
       "      <td>2017-05-08</td>\n",
       "    </tr>\n",
       "    <tr>\n",
       "      <th>1</th>\n",
       "      <td>1</td>\n",
       "      <td>214464014</td>\n",
       "      <td>233824108</td>\n",
       "      <td>HUF</td>\n",
       "      <td>175000.0</td>\n",
       "      <td>222250.0</td>\n",
       "      <td>222250.0</td>\n",
       "      <td>2017-05-05</td>\n",
       "      <td>2017-05-31</td>\n",
       "      <td>2017-06-05</td>\n",
       "    </tr>\n",
       "    <tr>\n",
       "      <th>2</th>\n",
       "      <td>2</td>\n",
       "      <td>215035971</td>\n",
       "      <td>233824067</td>\n",
       "      <td>EUR</td>\n",
       "      <td>510.0</td>\n",
       "      <td>647.7</td>\n",
       "      <td>647.7</td>\n",
       "      <td>2017-05-07</td>\n",
       "      <td>2017-05-07</td>\n",
       "      <td>2017-05-15</td>\n",
       "    </tr>\n",
       "    <tr>\n",
       "      <th>3</th>\n",
       "      <td>3</td>\n",
       "      <td>215035983</td>\n",
       "      <td>233824067</td>\n",
       "      <td>EUR</td>\n",
       "      <td>130.0</td>\n",
       "      <td>165.1</td>\n",
       "      <td>165.1</td>\n",
       "      <td>2017-05-07</td>\n",
       "      <td>2017-05-07</td>\n",
       "      <td>2017-05-15</td>\n",
       "    </tr>\n",
       "    <tr>\n",
       "      <th>4</th>\n",
       "      <td>4</td>\n",
       "      <td>215035988</td>\n",
       "      <td>233824067</td>\n",
       "      <td>HUF</td>\n",
       "      <td>40581.0</td>\n",
       "      <td>51538.0</td>\n",
       "      <td>51538.0</td>\n",
       "      <td>2017-05-07</td>\n",
       "      <td>2017-05-07</td>\n",
       "      <td>2017-05-15</td>\n",
       "    </tr>\n",
       "    <tr>\n",
       "      <th>...</th>\n",
       "      <td>...</td>\n",
       "      <td>...</td>\n",
       "      <td>...</td>\n",
       "      <td>...</td>\n",
       "      <td>...</td>\n",
       "      <td>...</td>\n",
       "      <td>...</td>\n",
       "      <td>...</td>\n",
       "      <td>...</td>\n",
       "      <td>...</td>\n",
       "    </tr>\n",
       "    <tr>\n",
       "      <th>636909</th>\n",
       "      <td>636909</td>\n",
       "      <td>685206566</td>\n",
       "      <td>250603794</td>\n",
       "      <td>HUF</td>\n",
       "      <td>919926.0</td>\n",
       "      <td>1168306.0</td>\n",
       "      <td>1168306.0</td>\n",
       "      <td>2020-10-20</td>\n",
       "      <td>2020-10-20</td>\n",
       "      <td>2020-11-04</td>\n",
       "    </tr>\n",
       "    <tr>\n",
       "      <th>636910</th>\n",
       "      <td>636910</td>\n",
       "      <td>685206567</td>\n",
       "      <td>594633811</td>\n",
       "      <td>HUF</td>\n",
       "      <td>-36800.0</td>\n",
       "      <td>-46736.0</td>\n",
       "      <td>-46736.0</td>\n",
       "      <td>2020-10-20</td>\n",
       "      <td>2020-10-19</td>\n",
       "      <td>2020-11-03</td>\n",
       "    </tr>\n",
       "    <tr>\n",
       "      <th>636911</th>\n",
       "      <td>636911</td>\n",
       "      <td>685206568</td>\n",
       "      <td>591638361</td>\n",
       "      <td>HUF</td>\n",
       "      <td>1740000.0</td>\n",
       "      <td>2209800.0</td>\n",
       "      <td>2209800.0</td>\n",
       "      <td>2020-10-20</td>\n",
       "      <td>2020-10-26</td>\n",
       "      <td>2020-10-26</td>\n",
       "    </tr>\n",
       "    <tr>\n",
       "      <th>636912</th>\n",
       "      <td>636912</td>\n",
       "      <td>685206569</td>\n",
       "      <td>618230015</td>\n",
       "      <td>HUF</td>\n",
       "      <td>16860.0</td>\n",
       "      <td>16860.0</td>\n",
       "      <td>16860.0</td>\n",
       "      <td>2020-10-20</td>\n",
       "      <td>2020-10-20</td>\n",
       "      <td>2020-10-20</td>\n",
       "    </tr>\n",
       "    <tr>\n",
       "      <th>636913</th>\n",
       "      <td>636913</td>\n",
       "      <td>685206570</td>\n",
       "      <td>240983562</td>\n",
       "      <td>HUF</td>\n",
       "      <td>150000.0</td>\n",
       "      <td>190500.0</td>\n",
       "      <td>190500.0</td>\n",
       "      <td>2020-10-20</td>\n",
       "      <td>2020-10-20</td>\n",
       "      <td>2020-11-04</td>\n",
       "    </tr>\n",
       "  </tbody>\n",
       "</table>\n",
       "<p>636914 rows × 10 columns</p>\n",
       "</div>"
      ],
      "text/plain": [
       "        Unnamed: 0  INVOICE_ID   PARTY_ID CURRENCY  TAXEXCLUSIVEAMOUNT  \\\n",
       "0                0   214341229  233824028      HUF            838701.0   \n",
       "1                1   214464014  233824108      HUF            175000.0   \n",
       "2                2   215035971  233824067      EUR               510.0   \n",
       "3                3   215035983  233824067      EUR               130.0   \n",
       "4                4   215035988  233824067      HUF             40581.0   \n",
       "...            ...         ...        ...      ...                 ...   \n",
       "636909      636909   685206566  250603794      HUF            919926.0   \n",
       "636910      636910   685206567  594633811      HUF            -36800.0   \n",
       "636911      636911   685206568  591638361      HUF           1740000.0   \n",
       "636912      636912   685206569  618230015      HUF             16860.0   \n",
       "636913      636913   685206570  240983562      HUF            150000.0   \n",
       "\n",
       "        TAXINCLUSIVEAMOUNT  PAYABLEAMOUNT  ISSUEDATE TAXPOINTDATE    DUEDATE  \n",
       "0                1065150.0      1065150.0 2017-05-01   2017-05-01 2017-05-08  \n",
       "1                 222250.0       222250.0 2017-05-05   2017-05-31 2017-06-05  \n",
       "2                    647.7          647.7 2017-05-07   2017-05-07 2017-05-15  \n",
       "3                    165.1          165.1 2017-05-07   2017-05-07 2017-05-15  \n",
       "4                  51538.0        51538.0 2017-05-07   2017-05-07 2017-05-15  \n",
       "...                    ...            ...        ...          ...        ...  \n",
       "636909           1168306.0      1168306.0 2020-10-20   2020-10-20 2020-11-04  \n",
       "636910            -46736.0       -46736.0 2020-10-20   2020-10-19 2020-11-03  \n",
       "636911           2209800.0      2209800.0 2020-10-20   2020-10-26 2020-10-26  \n",
       "636912             16860.0        16860.0 2020-10-20   2020-10-20 2020-10-20  \n",
       "636913            190500.0       190500.0 2020-10-20   2020-10-20 2020-11-04  \n",
       "\n",
       "[636914 rows x 10 columns]"
      ]
     },
     "execution_count": 83,
     "metadata": {},
     "output_type": "execute_result"
    }
   ],
   "source": [
    "df"
   ]
  },
  {
   "cell_type": "markdown",
   "metadata": {},
   "source": [
    "### Create invoice_period feature"
   ]
  },
  {
   "cell_type": "code",
   "execution_count": 88,
   "metadata": {},
   "outputs": [
    {
     "data": {
      "text/plain": [
       "0          7\n",
       "1         31\n",
       "2          8\n",
       "3          8\n",
       "4          8\n",
       "          ..\n",
       "636909    15\n",
       "636910    14\n",
       "636911     6\n",
       "636912     0\n",
       "636913    15\n",
       "Length: 636914, dtype: int64"
      ]
     },
     "execution_count": 88,
     "metadata": {},
     "output_type": "execute_result"
    }
   ],
   "source": [
    "invoice_period = (df['DUEDATE'] - df['ISSUEDATE']).dt.days\n",
    "invoice_period"
   ]
  },
  {
   "cell_type": "code",
   "execution_count": 70,
   "metadata": {},
   "outputs": [
    {
     "data": {
      "text/plain": [
       "HUF    609262\n",
       "EUR     26453\n",
       "USD       959\n",
       "GBP       171\n",
       "CHF        35\n",
       "CAD        12\n",
       "SEK         9\n",
       "PLN         6\n",
       "RON         4\n",
       "CNY         3\n",
       "Name: CURRENCY, dtype: int64"
      ]
     },
     "execution_count": 70,
     "metadata": {},
     "output_type": "execute_result"
    }
   ],
   "source": [
    "df.CURRENCY.value_counts()"
   ]
  },
  {
   "cell_type": "code",
   "execution_count": 71,
   "metadata": {},
   "outputs": [
    {
     "name": "stdout",
     "output_type": "stream",
     "text": [
      "<class 'pandas.core.frame.DataFrame'>\n",
      "RangeIndex: 636914 entries, 0 to 636913\n",
      "Data columns (total 10 columns):\n",
      " #   Column              Non-Null Count   Dtype  \n",
      "---  ------              --------------   -----  \n",
      " 0   Unnamed: 0          636914 non-null  int64  \n",
      " 1   INVOICE_ID          636914 non-null  int64  \n",
      " 2   PARTY_ID            636914 non-null  int64  \n",
      " 3   CURRENCY            636914 non-null  object \n",
      " 4   TAXEXCLUSIVEAMOUNT  636914 non-null  float64\n",
      " 5   TAXINCLUSIVEAMOUNT  636914 non-null  float64\n",
      " 6   PAYABLEAMOUNT       636914 non-null  float64\n",
      " 7   ISSUEDATE           636914 non-null  object \n",
      " 8   TAXPOINTDATE        636914 non-null  object \n",
      " 9   DUEDATE             636914 non-null  object \n",
      "dtypes: float64(3), int64(3), object(4)\n",
      "memory usage: 48.6+ MB\n"
     ]
    }
   ],
   "source": [
    "df.info()"
   ]
  },
  {
   "cell_type": "code",
   "execution_count": 9,
   "metadata": {},
   "outputs": [
    {
     "data": {
      "text/plain": [
       "0        2017-05-08\n",
       "1        2017-06-05\n",
       "2        2017-05-15\n",
       "3        2017-05-15\n",
       "4        2017-05-15\n",
       "            ...    \n",
       "636909   2020-11-04\n",
       "636910   2020-11-03\n",
       "636911   2020-10-26\n",
       "636912   2020-10-20\n",
       "636913   2020-11-04\n",
       "Name: DUEDATE, Length: 636914, dtype: datetime64[ns]"
      ]
     },
     "execution_count": 9,
     "metadata": {},
     "output_type": "execute_result"
    }
   ],
   "source": [
    "df.DUEDATE"
   ]
  },
  {
   "cell_type": "markdown",
   "metadata": {},
   "source": [
    "### Converting Dates to DateTime"
   ]
  },
  {
   "cell_type": "code",
   "execution_count": 72,
   "metadata": {},
   "outputs": [],
   "source": [
    "df['DUEDATE'] = pd.to_datetime(df['DUEDATE'], format='%Y-%m-%d')"
   ]
  },
  {
   "cell_type": "code",
   "execution_count": 73,
   "metadata": {},
   "outputs": [],
   "source": [
    "df['ISSUEDATE'] = pd.to_datetime(df['ISSUEDATE'], format='%Y-%m-%d')"
   ]
  },
  {
   "cell_type": "code",
   "execution_count": 74,
   "metadata": {},
   "outputs": [],
   "source": [
    "df['TAXPOINTDATE'] = pd.to_datetime(df['TAXPOINTDATE'], format='%Y-%m-%d')"
   ]
  },
  {
   "cell_type": "code",
   "execution_count": 75,
   "metadata": {},
   "outputs": [
    {
     "name": "stdout",
     "output_type": "stream",
     "text": [
      "<class 'pandas.core.frame.DataFrame'>\n",
      "RangeIndex: 636914 entries, 0 to 636913\n",
      "Data columns (total 10 columns):\n",
      " #   Column              Non-Null Count   Dtype         \n",
      "---  ------              --------------   -----         \n",
      " 0   Unnamed: 0          636914 non-null  int64         \n",
      " 1   INVOICE_ID          636914 non-null  int64         \n",
      " 2   PARTY_ID            636914 non-null  int64         \n",
      " 3   CURRENCY            636914 non-null  object        \n",
      " 4   TAXEXCLUSIVEAMOUNT  636914 non-null  float64       \n",
      " 5   TAXINCLUSIVEAMOUNT  636914 non-null  float64       \n",
      " 6   PAYABLEAMOUNT       636914 non-null  float64       \n",
      " 7   ISSUEDATE           636914 non-null  datetime64[ns]\n",
      " 8   TAXPOINTDATE        636914 non-null  datetime64[ns]\n",
      " 9   DUEDATE             636914 non-null  datetime64[ns]\n",
      "dtypes: datetime64[ns](3), float64(3), int64(3), object(1)\n",
      "memory usage: 48.6+ MB\n"
     ]
    }
   ],
   "source": [
    "df.info()"
   ]
  },
  {
   "cell_type": "code",
   "execution_count": 76,
   "metadata": {},
   "outputs": [],
   "source": [
    "customer_highest_inv_count = df.loc[df.PARTY_ID == 233823853]"
   ]
  },
  {
   "cell_type": "code",
   "execution_count": 77,
   "metadata": {},
   "outputs": [
    {
     "data": {
      "text/plain": [
       "173913168.0"
      ]
     },
     "execution_count": 77,
     "metadata": {},
     "output_type": "execute_result"
    }
   ],
   "source": [
    "customer_highest_inv_count['TAXINCLUSIVEAMOUNT'].sum()"
   ]
  },
  {
   "cell_type": "code",
   "execution_count": 78,
   "metadata": {},
   "outputs": [
    {
     "data": {
      "text/plain": [
       "136947880.0"
      ]
     },
     "execution_count": 78,
     "metadata": {},
     "output_type": "execute_result"
    }
   ],
   "source": [
    "#1.369479e+08\n",
    "customer_highest_inv_count['TAXEXCLUSIVEAMOUNT'].sum()"
   ]
  },
  {
   "cell_type": "code",
   "execution_count": 79,
   "metadata": {},
   "outputs": [
    {
     "data": {
      "text/plain": [
       "173913168.0"
      ]
     },
     "execution_count": 79,
     "metadata": {},
     "output_type": "execute_result"
    }
   ],
   "source": [
    "customer_highest_inv_count['PAYABLEAMOUNT'].sum()"
   ]
  },
  {
   "cell_type": "code",
   "execution_count": 80,
   "metadata": {},
   "outputs": [],
   "source": [
    "# df = df.drop(columns=['CURRENCY'])\n",
    "# df.info()"
   ]
  },
  {
   "cell_type": "code",
   "execution_count": 17,
   "metadata": {},
   "outputs": [
    {
     "data": {
      "text/plain": [
       "Timestamp('2020-10-23 00:00:00')"
      ]
     },
     "execution_count": 17,
     "metadata": {},
     "output_type": "execute_result"
    }
   ],
   "source": [
    "df.ISSUEDATE.max()"
   ]
  },
  {
   "cell_type": "code",
   "execution_count": 18,
   "metadata": {},
   "outputs": [
    {
     "data": {
      "text/plain": [
       "Timestamp('2016-04-20 00:00:00')"
      ]
     },
     "execution_count": 18,
     "metadata": {},
     "output_type": "execute_result"
    }
   ],
   "source": [
    "df.ISSUEDATE.min()"
   ]
  },
  {
   "cell_type": "code",
   "execution_count": 19,
   "metadata": {},
   "outputs": [
    {
     "data": {
      "text/plain": [
       "Timestamp('2029-12-17 00:00:00')"
      ]
     },
     "execution_count": 19,
     "metadata": {},
     "output_type": "execute_result"
    }
   ],
   "source": [
    "df.DUEDATE.max()"
   ]
  },
  {
   "cell_type": "code",
   "execution_count": 21,
   "metadata": {},
   "outputs": [
    {
     "data": {
      "text/plain": [
       "Timestamp('2008-07-22 00:00:00')"
      ]
     },
     "execution_count": 21,
     "metadata": {},
     "output_type": "execute_result"
    }
   ],
   "source": [
    "df.DUEDATE.min()"
   ]
  },
  {
   "cell_type": "markdown",
   "metadata": {},
   "source": [
    "### Converting CURRENCY into ONE-HOT ENCODING"
   ]
  },
  {
   "cell_type": "code",
   "execution_count": 82,
   "metadata": {},
   "outputs": [
    {
     "data": {
      "text/plain": [
       "RangeIndex(start=0, stop=636914, step=1)"
      ]
     },
     "execution_count": 82,
     "metadata": {},
     "output_type": "execute_result"
    }
   ],
   "source": [
    "curr_encoding = pd.get_dummies(df.CURRENCY, prefix='CURRENCY')\n",
    "curr_encoding.index"
   ]
  },
  {
   "cell_type": "code",
   "execution_count": 90,
   "metadata": {},
   "outputs": [
    {
     "name": "stdout",
     "output_type": "stream",
     "text": [
      "<class 'pandas.core.frame.DataFrame'>\n",
      "RangeIndex: 636914 entries, 0 to 636913\n",
      "Data columns (total 20 columns):\n",
      " #   Column              Non-Null Count   Dtype         \n",
      "---  ------              --------------   -----         \n",
      " 0   Unnamed: 0          636914 non-null  int64         \n",
      " 1   INVOICE_ID          636914 non-null  int64         \n",
      " 2   PARTY_ID            636914 non-null  int64         \n",
      " 3   CURRENCY            636914 non-null  object        \n",
      " 4   TAXEXCLUSIVEAMOUNT  636914 non-null  float64       \n",
      " 5   TAXINCLUSIVEAMOUNT  636914 non-null  float64       \n",
      " 6   PAYABLEAMOUNT       636914 non-null  float64       \n",
      " 7   ISSUEDATE           636914 non-null  datetime64[ns]\n",
      " 8   TAXPOINTDATE        636914 non-null  datetime64[ns]\n",
      " 9   DUEDATE             636914 non-null  datetime64[ns]\n",
      " 10  CURRENCY_CAD        636914 non-null  uint8         \n",
      " 11  CURRENCY_CHF        636914 non-null  uint8         \n",
      " 12  CURRENCY_CNY        636914 non-null  uint8         \n",
      " 13  CURRENCY_EUR        636914 non-null  uint8         \n",
      " 14  CURRENCY_GBP        636914 non-null  uint8         \n",
      " 15  CURRENCY_HUF        636914 non-null  uint8         \n",
      " 16  CURRENCY_PLN        636914 non-null  uint8         \n",
      " 17  CURRENCY_RON        636914 non-null  uint8         \n",
      " 18  CURRENCY_SEK        636914 non-null  uint8         \n",
      " 19  CURRENCY_USD        636914 non-null  uint8         \n",
      "dtypes: datetime64[ns](3), float64(3), int64(3), object(1), uint8(10)\n",
      "memory usage: 54.7+ MB\n"
     ]
    }
   ],
   "source": [
    "#merging currencies encoding with original df\n",
    "merged = pd.merge(df, curr_encoding, left_index=True, right_index=True)\n",
    "merged.info()"
   ]
  },
  {
   "cell_type": "code",
   "execution_count": 105,
   "metadata": {},
   "outputs": [],
   "source": [
    "#merge latest df with invoice period feature\n",
    "merged = pd.merge(merged, invoice_period.to_frame(), left_index=True, right_index=True)"
   ]
  },
  {
   "cell_type": "code",
   "execution_count": 113,
   "metadata": {},
   "outputs": [
    {
     "name": "stdout",
     "output_type": "stream",
     "text": [
      "<class 'pandas.core.frame.DataFrame'>\n",
      "RangeIndex: 636914 entries, 0 to 636913\n",
      "Data columns (total 21 columns):\n",
      " #   Column              Non-Null Count   Dtype         \n",
      "---  ------              --------------   -----         \n",
      " 0   Unnamed: 0          636914 non-null  int64         \n",
      " 1   INVOICE_ID          636914 non-null  int64         \n",
      " 2   PARTY_ID            636914 non-null  int64         \n",
      " 3   CURRENCY            636914 non-null  object        \n",
      " 4   TAXEXCLUSIVEAMOUNT  636914 non-null  float64       \n",
      " 5   TAXINCLUSIVEAMOUNT  636914 non-null  float64       \n",
      " 6   PAYABLEAMOUNT       636914 non-null  float64       \n",
      " 7   ISSUEDATE           636914 non-null  datetime64[ns]\n",
      " 8   TAXPOINTDATE        636914 non-null  datetime64[ns]\n",
      " 9   DUEDATE             636914 non-null  datetime64[ns]\n",
      " 10  CURRENCY_CAD        636914 non-null  uint8         \n",
      " 11  CURRENCY_CHF        636914 non-null  uint8         \n",
      " 12  CURRENCY_CNY        636914 non-null  uint8         \n",
      " 13  CURRENCY_EUR        636914 non-null  uint8         \n",
      " 14  CURRENCY_GBP        636914 non-null  uint8         \n",
      " 15  CURRENCY_HUF        636914 non-null  uint8         \n",
      " 16  CURRENCY_PLN        636914 non-null  uint8         \n",
      " 17  CURRENCY_RON        636914 non-null  uint8         \n",
      " 18  CURRENCY_SEK        636914 non-null  uint8         \n",
      " 19  CURRENCY_USD        636914 non-null  uint8         \n",
      " 20  inv_period          636914 non-null  int64         \n",
      "dtypes: datetime64[ns](3), float64(3), int64(4), object(1), uint8(10)\n",
      "memory usage: 59.5+ MB\n"
     ]
    }
   ],
   "source": [
    "# mm= merged.rename(columns={0: 'inv_period'})\n",
    "# mm.info()\n",
    "final = mm\n",
    "final.info()"
   ]
  },
  {
   "cell_type": "markdown",
   "metadata": {},
   "source": [
    "## Grouping Transformations "
   ]
  },
  {
   "cell_type": "code",
   "execution_count": 115,
   "metadata": {},
   "outputs": [
    {
     "data": {
      "text/plain": [
       "PARTY_ID\n",
       "233823838    61\n",
       "233823840    56\n",
       "233823841    71\n",
       "233823849    45\n",
       "233823853    31\n",
       "             ..\n",
       "685196737    30\n",
       "685208615     8\n",
       "685219699     3\n",
       "685219700     5\n",
       "685219703     0\n",
       "Name: inv_period, Length: 4974, dtype: int64"
      ]
     },
     "execution_count": 115,
     "metadata": {},
     "output_type": "execute_result"
    }
   ],
   "source": [
    "#Max Invoice Period\n",
    "max_inv_period = final.groupby(['PARTY_ID'])['inv_period'].max()\n",
    "max_inv_period"
   ]
  },
  {
   "cell_type": "code",
   "execution_count": 116,
   "metadata": {},
   "outputs": [
    {
     "data": {
      "text/plain": [
       "PARTY_ID\n",
       "233823838    -29\n",
       "233823840    -29\n",
       "233823841      0\n",
       "233823849    -50\n",
       "233823853   -228\n",
       "            ... \n",
       "685196737     30\n",
       "685208615      8\n",
       "685219699      3\n",
       "685219700      4\n",
       "685219703      0\n",
       "Name: inv_period, Length: 4974, dtype: int64"
      ]
     },
     "execution_count": 116,
     "metadata": {},
     "output_type": "execute_result"
    }
   ],
   "source": [
    "#Minimum Invoice Period\n",
    "min_inv_period = final.groupby(['PARTY_ID'])['inv_period'].min()\n",
    "min_inv_period"
   ]
  },
  {
   "cell_type": "code",
   "execution_count": 85,
   "metadata": {},
   "outputs": [
    {
     "data": {
      "text/html": [
       "<div>\n",
       "<style scoped>\n",
       "    .dataframe tbody tr th:only-of-type {\n",
       "        vertical-align: middle;\n",
       "    }\n",
       "\n",
       "    .dataframe tbody tr th {\n",
       "        vertical-align: top;\n",
       "    }\n",
       "\n",
       "    .dataframe thead th {\n",
       "        text-align: right;\n",
       "    }\n",
       "</style>\n",
       "<table border=\"1\" class=\"dataframe\">\n",
       "  <thead>\n",
       "    <tr style=\"text-align: right;\">\n",
       "      <th></th>\n",
       "      <th>CURRENCY_CAD</th>\n",
       "      <th>CURRENCY_CHF</th>\n",
       "      <th>CURRENCY_CNY</th>\n",
       "      <th>CURRENCY_EUR</th>\n",
       "      <th>CURRENCY_GBP</th>\n",
       "      <th>CURRENCY_HUF</th>\n",
       "      <th>CURRENCY_PLN</th>\n",
       "      <th>CURRENCY_RON</th>\n",
       "      <th>CURRENCY_SEK</th>\n",
       "      <th>CURRENCY_USD</th>\n",
       "    </tr>\n",
       "    <tr>\n",
       "      <th>PARTY_ID</th>\n",
       "      <th></th>\n",
       "      <th></th>\n",
       "      <th></th>\n",
       "      <th></th>\n",
       "      <th></th>\n",
       "      <th></th>\n",
       "      <th></th>\n",
       "      <th></th>\n",
       "      <th></th>\n",
       "      <th></th>\n",
       "    </tr>\n",
       "  </thead>\n",
       "  <tbody>\n",
       "    <tr>\n",
       "      <th>233823838</th>\n",
       "      <td>0</td>\n",
       "      <td>0</td>\n",
       "      <td>0</td>\n",
       "      <td>0</td>\n",
       "      <td>0</td>\n",
       "      <td>1</td>\n",
       "      <td>0</td>\n",
       "      <td>0</td>\n",
       "      <td>0</td>\n",
       "      <td>0</td>\n",
       "    </tr>\n",
       "    <tr>\n",
       "      <th>233823840</th>\n",
       "      <td>0</td>\n",
       "      <td>0</td>\n",
       "      <td>0</td>\n",
       "      <td>1</td>\n",
       "      <td>0</td>\n",
       "      <td>1</td>\n",
       "      <td>0</td>\n",
       "      <td>0</td>\n",
       "      <td>0</td>\n",
       "      <td>0</td>\n",
       "    </tr>\n",
       "    <tr>\n",
       "      <th>233823841</th>\n",
       "      <td>0</td>\n",
       "      <td>0</td>\n",
       "      <td>0</td>\n",
       "      <td>0</td>\n",
       "      <td>0</td>\n",
       "      <td>1</td>\n",
       "      <td>0</td>\n",
       "      <td>0</td>\n",
       "      <td>0</td>\n",
       "      <td>0</td>\n",
       "    </tr>\n",
       "    <tr>\n",
       "      <th>233823849</th>\n",
       "      <td>0</td>\n",
       "      <td>0</td>\n",
       "      <td>0</td>\n",
       "      <td>1</td>\n",
       "      <td>0</td>\n",
       "      <td>1</td>\n",
       "      <td>0</td>\n",
       "      <td>0</td>\n",
       "      <td>0</td>\n",
       "      <td>0</td>\n",
       "    </tr>\n",
       "    <tr>\n",
       "      <th>233823853</th>\n",
       "      <td>0</td>\n",
       "      <td>0</td>\n",
       "      <td>0</td>\n",
       "      <td>0</td>\n",
       "      <td>0</td>\n",
       "      <td>1</td>\n",
       "      <td>0</td>\n",
       "      <td>0</td>\n",
       "      <td>0</td>\n",
       "      <td>0</td>\n",
       "    </tr>\n",
       "    <tr>\n",
       "      <th>...</th>\n",
       "      <td>...</td>\n",
       "      <td>...</td>\n",
       "      <td>...</td>\n",
       "      <td>...</td>\n",
       "      <td>...</td>\n",
       "      <td>...</td>\n",
       "      <td>...</td>\n",
       "      <td>...</td>\n",
       "      <td>...</td>\n",
       "      <td>...</td>\n",
       "    </tr>\n",
       "    <tr>\n",
       "      <th>685196737</th>\n",
       "      <td>0</td>\n",
       "      <td>0</td>\n",
       "      <td>0</td>\n",
       "      <td>0</td>\n",
       "      <td>0</td>\n",
       "      <td>1</td>\n",
       "      <td>0</td>\n",
       "      <td>0</td>\n",
       "      <td>0</td>\n",
       "      <td>0</td>\n",
       "    </tr>\n",
       "    <tr>\n",
       "      <th>685208615</th>\n",
       "      <td>0</td>\n",
       "      <td>0</td>\n",
       "      <td>0</td>\n",
       "      <td>0</td>\n",
       "      <td>0</td>\n",
       "      <td>1</td>\n",
       "      <td>0</td>\n",
       "      <td>0</td>\n",
       "      <td>0</td>\n",
       "      <td>0</td>\n",
       "    </tr>\n",
       "    <tr>\n",
       "      <th>685219699</th>\n",
       "      <td>0</td>\n",
       "      <td>0</td>\n",
       "      <td>0</td>\n",
       "      <td>0</td>\n",
       "      <td>0</td>\n",
       "      <td>1</td>\n",
       "      <td>0</td>\n",
       "      <td>0</td>\n",
       "      <td>0</td>\n",
       "      <td>0</td>\n",
       "    </tr>\n",
       "    <tr>\n",
       "      <th>685219700</th>\n",
       "      <td>0</td>\n",
       "      <td>0</td>\n",
       "      <td>0</td>\n",
       "      <td>0</td>\n",
       "      <td>0</td>\n",
       "      <td>1</td>\n",
       "      <td>0</td>\n",
       "      <td>0</td>\n",
       "      <td>0</td>\n",
       "      <td>0</td>\n",
       "    </tr>\n",
       "    <tr>\n",
       "      <th>685219703</th>\n",
       "      <td>0</td>\n",
       "      <td>0</td>\n",
       "      <td>0</td>\n",
       "      <td>0</td>\n",
       "      <td>0</td>\n",
       "      <td>1</td>\n",
       "      <td>0</td>\n",
       "      <td>0</td>\n",
       "      <td>0</td>\n",
       "      <td>0</td>\n",
       "    </tr>\n",
       "  </tbody>\n",
       "</table>\n",
       "<p>4974 rows × 10 columns</p>\n",
       "</div>"
      ],
      "text/plain": [
       "           CURRENCY_CAD  CURRENCY_CHF  CURRENCY_CNY  CURRENCY_EUR  \\\n",
       "PARTY_ID                                                            \n",
       "233823838             0             0             0             0   \n",
       "233823840             0             0             0             1   \n",
       "233823841             0             0             0             0   \n",
       "233823849             0             0             0             1   \n",
       "233823853             0             0             0             0   \n",
       "...                 ...           ...           ...           ...   \n",
       "685196737             0             0             0             0   \n",
       "685208615             0             0             0             0   \n",
       "685219699             0             0             0             0   \n",
       "685219700             0             0             0             0   \n",
       "685219703             0             0             0             0   \n",
       "\n",
       "           CURRENCY_GBP  CURRENCY_HUF  CURRENCY_PLN  CURRENCY_RON  \\\n",
       "PARTY_ID                                                            \n",
       "233823838             0             1             0             0   \n",
       "233823840             0             1             0             0   \n",
       "233823841             0             1             0             0   \n",
       "233823849             0             1             0             0   \n",
       "233823853             0             1             0             0   \n",
       "...                 ...           ...           ...           ...   \n",
       "685196737             0             1             0             0   \n",
       "685208615             0             1             0             0   \n",
       "685219699             0             1             0             0   \n",
       "685219700             0             1             0             0   \n",
       "685219703             0             1             0             0   \n",
       "\n",
       "           CURRENCY_SEK  CURRENCY_USD  \n",
       "PARTY_ID                               \n",
       "233823838             0             0  \n",
       "233823840             0             0  \n",
       "233823841             0             0  \n",
       "233823849             0             0  \n",
       "233823853             0             0  \n",
       "...                 ...           ...  \n",
       "685196737             0             0  \n",
       "685208615             0             0  \n",
       "685219699             0             0  \n",
       "685219700             0             0  \n",
       "685219703             0             0  \n",
       "\n",
       "[4974 rows x 10 columns]"
      ]
     },
     "execution_count": 85,
     "metadata": {},
     "output_type": "execute_result"
    }
   ],
   "source": [
    "#Currency Merged one-hot encoding by PARTY_ID\n",
    "curr_merged =merged[[\"PARTY_ID\", \"CURRENCY_CAD\", \"CURRENCY_CHF\", \"CURRENCY_CNY\", \"CURRENCY_EUR\", \"CURRENCY_GBP\", \"CURRENCY_HUF\", \"CURRENCY_PLN\", \"CURRENCY_RON\",\"CURRENCY_SEK\",\"CURRENCY_USD\"]].groupby('PARTY_ID').max()  \n",
    "curr_merged"
   ]
  },
  {
   "cell_type": "code",
   "execution_count": 60,
   "metadata": {},
   "outputs": [
    {
     "data": {
      "text/plain": [
       "233823853    36553\n",
       "239555419    12938\n",
       "398958555     7056\n",
       "334245713     5799\n",
       "240924264     5268\n",
       "             ...  \n",
       "390447787        1\n",
       "250610567        1\n",
       "673996689        1\n",
       "239734049        1\n",
       "530068580        1\n",
       "Name: PARTY_ID, Length: 4974, dtype: int64"
      ]
     },
     "execution_count": 60,
     "metadata": {},
     "output_type": "execute_result"
    }
   ],
   "source": [
    "#Invoices count per party\n",
    "invoiceCount = df['PARTY_ID'].value_counts()\n",
    "invoiceCount"
   ]
  },
  {
   "cell_type": "code",
   "execution_count": 62,
   "metadata": {},
   "outputs": [
    {
     "data": {
      "text/plain": [
       "PARTY_ID\n",
       "233823838     19737595.0\n",
       "233823840     51363034.6\n",
       "233823841        15000.0\n",
       "233823849    224959086.4\n",
       "233823853    173913168.0\n",
       "                ...     \n",
       "685196737      1353200.0\n",
       "685208615       374051.0\n",
       "685219699       161000.0\n",
       "685219700       546100.0\n",
       "685219703         4500.0\n",
       "Name: TAXINCLUSIVEAMOUNT, Length: 4974, dtype: float64"
      ]
     },
     "execution_count": 62,
     "metadata": {},
     "output_type": "execute_result"
    }
   ],
   "source": [
    "#Sum of tax inclusive amount per party\n",
    "tax_inc_sum = df.groupby(['PARTY_ID'])['TAXINCLUSIVEAMOUNT'].sum()\n",
    "tax_inc_sum"
   ]
  },
  {
   "cell_type": "code",
   "execution_count": 63,
   "metadata": {},
   "outputs": [
    {
     "data": {
      "text/plain": [
       "PARTY_ID\n",
       "233823838    1.554141e+07\n",
       "233823840    4.165002e+07\n",
       "233823841    1.500000e+04\n",
       "233823849    1.777274e+08\n",
       "233823853    1.369479e+08\n",
       "                 ...     \n",
       "685196737    1.353200e+06\n",
       "685208615    2.945280e+05\n",
       "685219699    1.267720e+05\n",
       "685219700    4.300000e+05\n",
       "685219703    4.500000e+03\n",
       "Name: TAXEXCLUSIVEAMOUNT, Length: 4974, dtype: float64"
      ]
     },
     "execution_count": 63,
     "metadata": {},
     "output_type": "execute_result"
    }
   ],
   "source": [
    "#Sum of tax exclusive amount per party\n",
    "tax_exc_sum = df.groupby(['PARTY_ID'])['TAXEXCLUSIVEAMOUNT'].sum()\n",
    "tax_exc_sum"
   ]
  },
  {
   "cell_type": "code",
   "execution_count": 117,
   "metadata": {},
   "outputs": [],
   "source": [
    "D_F = pd.merge(tax_exc_sum.to_frame(), tax_inc_sum.to_frame(), left_index=True, right_index=True)"
   ]
  },
  {
   "cell_type": "code",
   "execution_count": 119,
   "metadata": {},
   "outputs": [],
   "source": [
    "D_F = pd.merge(D_F, invoiceCount.to_frame(), left_index=True, right_index=True )"
   ]
  },
  {
   "cell_type": "code",
   "execution_count": 122,
   "metadata": {},
   "outputs": [],
   "source": [
    "D_F = pd.merge(D_F, curr_merged, left_index=True, right_index=True )"
   ]
  },
  {
   "cell_type": "code",
   "execution_count": 126,
   "metadata": {},
   "outputs": [],
   "source": [
    "D_F = pd.merge(D_F, min_inv_period.to_frame(), left_index=True, right_index=True )"
   ]
  },
  {
   "cell_type": "code",
   "execution_count": 127,
   "metadata": {},
   "outputs": [],
   "source": [
    "D_F = pd.merge(D_F, max_inv_period.to_frame(), left_index=True, right_index=True )"
   ]
  },
  {
   "cell_type": "code",
   "execution_count": 124,
   "metadata": {},
   "outputs": [],
   "source": [
    "D_F= D_F.rename(columns={'TAXEXCLUSIVEAMOUNT': 'SUM_TAXEXCLUSIVEAMOUNT', 'TAXINCLUSIVEAMOUNT':'SUM_TAXINCLUSIVEAMOUNT', 'PARTY_ID':'INVOICE_COUNT'})"
   ]
  },
  {
   "cell_type": "code",
   "execution_count": 129,
   "metadata": {},
   "outputs": [],
   "source": [
    "D_F= D_F.rename(columns={'inv_period_x': 'MIN_INV_PERIOD','inv_period_y': 'MAX_INV_PERIOD' })"
   ]
  },
  {
   "cell_type": "code",
   "execution_count": 130,
   "metadata": {},
   "outputs": [
    {
     "data": {
      "text/html": [
       "<div>\n",
       "<style scoped>\n",
       "    .dataframe tbody tr th:only-of-type {\n",
       "        vertical-align: middle;\n",
       "    }\n",
       "\n",
       "    .dataframe tbody tr th {\n",
       "        vertical-align: top;\n",
       "    }\n",
       "\n",
       "    .dataframe thead th {\n",
       "        text-align: right;\n",
       "    }\n",
       "</style>\n",
       "<table border=\"1\" class=\"dataframe\">\n",
       "  <thead>\n",
       "    <tr style=\"text-align: right;\">\n",
       "      <th></th>\n",
       "      <th>SUM_TAXEXCLUSIVEAMOUNT</th>\n",
       "      <th>SUM_TAXINCLUSIVEAMOUNT</th>\n",
       "      <th>INVOICE_COUNT</th>\n",
       "      <th>CURRENCY_CAD</th>\n",
       "      <th>CURRENCY_CHF</th>\n",
       "      <th>CURRENCY_CNY</th>\n",
       "      <th>CURRENCY_EUR</th>\n",
       "      <th>CURRENCY_GBP</th>\n",
       "      <th>CURRENCY_HUF</th>\n",
       "      <th>CURRENCY_PLN</th>\n",
       "      <th>CURRENCY_RON</th>\n",
       "      <th>CURRENCY_SEK</th>\n",
       "      <th>CURRENCY_USD</th>\n",
       "      <th>MIN_INV_PERIOD</th>\n",
       "      <th>MAX_INV_PERIOD</th>\n",
       "    </tr>\n",
       "  </thead>\n",
       "  <tbody>\n",
       "    <tr>\n",
       "      <th>233823838</th>\n",
       "      <td>1.554141e+07</td>\n",
       "      <td>19737595.0</td>\n",
       "      <td>29</td>\n",
       "      <td>0</td>\n",
       "      <td>0</td>\n",
       "      <td>0</td>\n",
       "      <td>0</td>\n",
       "      <td>0</td>\n",
       "      <td>1</td>\n",
       "      <td>0</td>\n",
       "      <td>0</td>\n",
       "      <td>0</td>\n",
       "      <td>0</td>\n",
       "      <td>-29</td>\n",
       "      <td>61</td>\n",
       "    </tr>\n",
       "    <tr>\n",
       "      <th>233823840</th>\n",
       "      <td>4.165002e+07</td>\n",
       "      <td>51363034.6</td>\n",
       "      <td>530</td>\n",
       "      <td>0</td>\n",
       "      <td>0</td>\n",
       "      <td>0</td>\n",
       "      <td>1</td>\n",
       "      <td>0</td>\n",
       "      <td>1</td>\n",
       "      <td>0</td>\n",
       "      <td>0</td>\n",
       "      <td>0</td>\n",
       "      <td>0</td>\n",
       "      <td>-29</td>\n",
       "      <td>56</td>\n",
       "    </tr>\n",
       "    <tr>\n",
       "      <th>233823841</th>\n",
       "      <td>1.500000e+04</td>\n",
       "      <td>15000.0</td>\n",
       "      <td>15</td>\n",
       "      <td>0</td>\n",
       "      <td>0</td>\n",
       "      <td>0</td>\n",
       "      <td>0</td>\n",
       "      <td>0</td>\n",
       "      <td>1</td>\n",
       "      <td>0</td>\n",
       "      <td>0</td>\n",
       "      <td>0</td>\n",
       "      <td>0</td>\n",
       "      <td>0</td>\n",
       "      <td>71</td>\n",
       "    </tr>\n",
       "    <tr>\n",
       "      <th>233823849</th>\n",
       "      <td>1.777274e+08</td>\n",
       "      <td>224959086.4</td>\n",
       "      <td>407</td>\n",
       "      <td>0</td>\n",
       "      <td>0</td>\n",
       "      <td>0</td>\n",
       "      <td>1</td>\n",
       "      <td>0</td>\n",
       "      <td>1</td>\n",
       "      <td>0</td>\n",
       "      <td>0</td>\n",
       "      <td>0</td>\n",
       "      <td>0</td>\n",
       "      <td>-50</td>\n",
       "      <td>45</td>\n",
       "    </tr>\n",
       "    <tr>\n",
       "      <th>233823853</th>\n",
       "      <td>1.369479e+08</td>\n",
       "      <td>173913168.0</td>\n",
       "      <td>36553</td>\n",
       "      <td>0</td>\n",
       "      <td>0</td>\n",
       "      <td>0</td>\n",
       "      <td>0</td>\n",
       "      <td>0</td>\n",
       "      <td>1</td>\n",
       "      <td>0</td>\n",
       "      <td>0</td>\n",
       "      <td>0</td>\n",
       "      <td>0</td>\n",
       "      <td>-228</td>\n",
       "      <td>31</td>\n",
       "    </tr>\n",
       "    <tr>\n",
       "      <th>...</th>\n",
       "      <td>...</td>\n",
       "      <td>...</td>\n",
       "      <td>...</td>\n",
       "      <td>...</td>\n",
       "      <td>...</td>\n",
       "      <td>...</td>\n",
       "      <td>...</td>\n",
       "      <td>...</td>\n",
       "      <td>...</td>\n",
       "      <td>...</td>\n",
       "      <td>...</td>\n",
       "      <td>...</td>\n",
       "      <td>...</td>\n",
       "      <td>...</td>\n",
       "      <td>...</td>\n",
       "    </tr>\n",
       "    <tr>\n",
       "      <th>685196737</th>\n",
       "      <td>1.353200e+06</td>\n",
       "      <td>1353200.0</td>\n",
       "      <td>1</td>\n",
       "      <td>0</td>\n",
       "      <td>0</td>\n",
       "      <td>0</td>\n",
       "      <td>0</td>\n",
       "      <td>0</td>\n",
       "      <td>1</td>\n",
       "      <td>0</td>\n",
       "      <td>0</td>\n",
       "      <td>0</td>\n",
       "      <td>0</td>\n",
       "      <td>30</td>\n",
       "      <td>30</td>\n",
       "    </tr>\n",
       "    <tr>\n",
       "      <th>685208615</th>\n",
       "      <td>2.945280e+05</td>\n",
       "      <td>374051.0</td>\n",
       "      <td>2</td>\n",
       "      <td>0</td>\n",
       "      <td>0</td>\n",
       "      <td>0</td>\n",
       "      <td>0</td>\n",
       "      <td>0</td>\n",
       "      <td>1</td>\n",
       "      <td>0</td>\n",
       "      <td>0</td>\n",
       "      <td>0</td>\n",
       "      <td>0</td>\n",
       "      <td>8</td>\n",
       "      <td>8</td>\n",
       "    </tr>\n",
       "    <tr>\n",
       "      <th>685219699</th>\n",
       "      <td>1.267720e+05</td>\n",
       "      <td>161000.0</td>\n",
       "      <td>1</td>\n",
       "      <td>0</td>\n",
       "      <td>0</td>\n",
       "      <td>0</td>\n",
       "      <td>0</td>\n",
       "      <td>0</td>\n",
       "      <td>1</td>\n",
       "      <td>0</td>\n",
       "      <td>0</td>\n",
       "      <td>0</td>\n",
       "      <td>0</td>\n",
       "      <td>3</td>\n",
       "      <td>3</td>\n",
       "    </tr>\n",
       "    <tr>\n",
       "      <th>685219700</th>\n",
       "      <td>4.300000e+05</td>\n",
       "      <td>546100.0</td>\n",
       "      <td>5</td>\n",
       "      <td>0</td>\n",
       "      <td>0</td>\n",
       "      <td>0</td>\n",
       "      <td>0</td>\n",
       "      <td>0</td>\n",
       "      <td>1</td>\n",
       "      <td>0</td>\n",
       "      <td>0</td>\n",
       "      <td>0</td>\n",
       "      <td>0</td>\n",
       "      <td>4</td>\n",
       "      <td>5</td>\n",
       "    </tr>\n",
       "    <tr>\n",
       "      <th>685219703</th>\n",
       "      <td>4.500000e+03</td>\n",
       "      <td>4500.0</td>\n",
       "      <td>3</td>\n",
       "      <td>0</td>\n",
       "      <td>0</td>\n",
       "      <td>0</td>\n",
       "      <td>0</td>\n",
       "      <td>0</td>\n",
       "      <td>1</td>\n",
       "      <td>0</td>\n",
       "      <td>0</td>\n",
       "      <td>0</td>\n",
       "      <td>0</td>\n",
       "      <td>0</td>\n",
       "      <td>0</td>\n",
       "    </tr>\n",
       "  </tbody>\n",
       "</table>\n",
       "<p>4974 rows × 15 columns</p>\n",
       "</div>"
      ],
      "text/plain": [
       "           SUM_TAXEXCLUSIVEAMOUNT  SUM_TAXINCLUSIVEAMOUNT  INVOICE_COUNT  \\\n",
       "233823838            1.554141e+07              19737595.0             29   \n",
       "233823840            4.165002e+07              51363034.6            530   \n",
       "233823841            1.500000e+04                 15000.0             15   \n",
       "233823849            1.777274e+08             224959086.4            407   \n",
       "233823853            1.369479e+08             173913168.0          36553   \n",
       "...                           ...                     ...            ...   \n",
       "685196737            1.353200e+06               1353200.0              1   \n",
       "685208615            2.945280e+05                374051.0              2   \n",
       "685219699            1.267720e+05                161000.0              1   \n",
       "685219700            4.300000e+05                546100.0              5   \n",
       "685219703            4.500000e+03                  4500.0              3   \n",
       "\n",
       "           CURRENCY_CAD  CURRENCY_CHF  CURRENCY_CNY  CURRENCY_EUR  \\\n",
       "233823838             0             0             0             0   \n",
       "233823840             0             0             0             1   \n",
       "233823841             0             0             0             0   \n",
       "233823849             0             0             0             1   \n",
       "233823853             0             0             0             0   \n",
       "...                 ...           ...           ...           ...   \n",
       "685196737             0             0             0             0   \n",
       "685208615             0             0             0             0   \n",
       "685219699             0             0             0             0   \n",
       "685219700             0             0             0             0   \n",
       "685219703             0             0             0             0   \n",
       "\n",
       "           CURRENCY_GBP  CURRENCY_HUF  CURRENCY_PLN  CURRENCY_RON  \\\n",
       "233823838             0             1             0             0   \n",
       "233823840             0             1             0             0   \n",
       "233823841             0             1             0             0   \n",
       "233823849             0             1             0             0   \n",
       "233823853             0             1             0             0   \n",
       "...                 ...           ...           ...           ...   \n",
       "685196737             0             1             0             0   \n",
       "685208615             0             1             0             0   \n",
       "685219699             0             1             0             0   \n",
       "685219700             0             1             0             0   \n",
       "685219703             0             1             0             0   \n",
       "\n",
       "           CURRENCY_SEK  CURRENCY_USD  MIN_INV_PERIOD  MAX_INV_PERIOD  \n",
       "233823838             0             0             -29              61  \n",
       "233823840             0             0             -29              56  \n",
       "233823841             0             0               0              71  \n",
       "233823849             0             0             -50              45  \n",
       "233823853             0             0            -228              31  \n",
       "...                 ...           ...             ...             ...  \n",
       "685196737             0             0              30              30  \n",
       "685208615             0             0               8               8  \n",
       "685219699             0             0               3               3  \n",
       "685219700             0             0               4               5  \n",
       "685219703             0             0               0               0  \n",
       "\n",
       "[4974 rows x 15 columns]"
      ]
     },
     "execution_count": 130,
     "metadata": {},
     "output_type": "execute_result"
    }
   ],
   "source": [
    "D_F"
   ]
  },
  {
   "cell_type": "code",
   "execution_count": 132,
   "metadata": {},
   "outputs": [],
   "source": [
    "D_F.to_csv('invoices_v1.csv', index=True)"
   ]
  },
  {
   "cell_type": "code",
   "execution_count": 35,
   "metadata": {},
   "outputs": [],
   "source": [
    "# df = df.drop(columns=['TAXINC_SUM'])"
   ]
  },
  {
   "cell_type": "code",
   "execution_count": 45,
   "metadata": {},
   "outputs": [],
   "source": [
    "# dff['TAXINC_SUM'] = df.groupby(['PARTY_ID'])['TAXINCLUSIVEAMOUNT'].sum()"
   ]
  },
  {
   "cell_type": "code",
   "execution_count": 46,
   "metadata": {},
   "outputs": [
    {
     "data": {
      "text/html": [
       "<div>\n",
       "<style scoped>\n",
       "    .dataframe tbody tr th:only-of-type {\n",
       "        vertical-align: middle;\n",
       "    }\n",
       "\n",
       "    .dataframe tbody tr th {\n",
       "        vertical-align: top;\n",
       "    }\n",
       "\n",
       "    .dataframe thead th {\n",
       "        text-align: right;\n",
       "    }\n",
       "</style>\n",
       "<table border=\"1\" class=\"dataframe\">\n",
       "  <thead>\n",
       "    <tr style=\"text-align: right;\">\n",
       "      <th></th>\n",
       "      <th>Unnamed: 0</th>\n",
       "      <th>INVOICE_ID</th>\n",
       "      <th>TAXEXCLUSIVEAMOUNT</th>\n",
       "      <th>TAXINCLUSIVEAMOUNT</th>\n",
       "      <th>PAYABLEAMOUNT</th>\n",
       "      <th>TAXINC_SUM</th>\n",
       "    </tr>\n",
       "    <tr>\n",
       "      <th>PARTY_ID</th>\n",
       "      <th></th>\n",
       "      <th></th>\n",
       "      <th></th>\n",
       "      <th></th>\n",
       "      <th></th>\n",
       "      <th></th>\n",
       "    </tr>\n",
       "  </thead>\n",
       "  <tbody>\n",
       "    <tr>\n",
       "      <th>233823838</th>\n",
       "      <td>193702</td>\n",
       "      <td>6499597442</td>\n",
       "      <td>1.554141e+07</td>\n",
       "      <td>19737595.0</td>\n",
       "      <td>19737595.0</td>\n",
       "      <td>19737595.0</td>\n",
       "    </tr>\n",
       "    <tr>\n",
       "      <th>233823840</th>\n",
       "      <td>178561634</td>\n",
       "      <td>287361083601</td>\n",
       "      <td>4.165002e+07</td>\n",
       "      <td>51363034.6</td>\n",
       "      <td>51363037.6</td>\n",
       "      <td>51363034.6</td>\n",
       "    </tr>\n",
       "    <tr>\n",
       "      <th>233823841</th>\n",
       "      <td>1118799</td>\n",
       "      <td>4349454229</td>\n",
       "      <td>1.500000e+04</td>\n",
       "      <td>15000.0</td>\n",
       "      <td>15000.0</td>\n",
       "      <td>15000.0</td>\n",
       "    </tr>\n",
       "    <tr>\n",
       "      <th>233823849</th>\n",
       "      <td>122252125</td>\n",
       "      <td>207283811557</td>\n",
       "      <td>1.777274e+08</td>\n",
       "      <td>224959086.4</td>\n",
       "      <td>224959086.4</td>\n",
       "      <td>224959086.4</td>\n",
       "    </tr>\n",
       "    <tr>\n",
       "      <th>233823853</th>\n",
       "      <td>11975852334</td>\n",
       "      <td>19201503305416</td>\n",
       "      <td>1.369479e+08</td>\n",
       "      <td>173913168.0</td>\n",
       "      <td>173913168.0</td>\n",
       "      <td>173913168.0</td>\n",
       "    </tr>\n",
       "    <tr>\n",
       "      <th>...</th>\n",
       "      <td>...</td>\n",
       "      <td>...</td>\n",
       "      <td>...</td>\n",
       "      <td>...</td>\n",
       "      <td>...</td>\n",
       "      <td>...</td>\n",
       "    </tr>\n",
       "    <tr>\n",
       "      <th>685196737</th>\n",
       "      <td>566627</td>\n",
       "      <td>685203815</td>\n",
       "      <td>1.353200e+06</td>\n",
       "      <td>1353200.0</td>\n",
       "      <td>1353200.0</td>\n",
       "      <td>1353200.0</td>\n",
       "    </tr>\n",
       "    <tr>\n",
       "      <th>685208615</th>\n",
       "      <td>1238682</td>\n",
       "      <td>1370425295</td>\n",
       "      <td>2.945280e+05</td>\n",
       "      <td>374051.0</td>\n",
       "      <td>374051.0</td>\n",
       "      <td>374051.0</td>\n",
       "    </tr>\n",
       "    <tr>\n",
       "      <th>685219699</th>\n",
       "      <td>527709</td>\n",
       "      <td>685227653</td>\n",
       "      <td>1.267720e+05</td>\n",
       "      <td>161000.0</td>\n",
       "      <td>161000.0</td>\n",
       "      <td>161000.0</td>\n",
       "    </tr>\n",
       "    <tr>\n",
       "      <th>685219700</th>\n",
       "      <td>2731596</td>\n",
       "      <td>3426108865</td>\n",
       "      <td>4.300000e+05</td>\n",
       "      <td>546100.0</td>\n",
       "      <td>546100.0</td>\n",
       "      <td>546100.0</td>\n",
       "    </tr>\n",
       "    <tr>\n",
       "      <th>685219703</th>\n",
       "      <td>1048089</td>\n",
       "      <td>2055656802</td>\n",
       "      <td>4.500000e+03</td>\n",
       "      <td>4500.0</td>\n",
       "      <td>4500.0</td>\n",
       "      <td>4500.0</td>\n",
       "    </tr>\n",
       "  </tbody>\n",
       "</table>\n",
       "<p>4974 rows × 6 columns</p>\n",
       "</div>"
      ],
      "text/plain": [
       "            Unnamed: 0      INVOICE_ID  TAXEXCLUSIVEAMOUNT  \\\n",
       "PARTY_ID                                                     \n",
       "233823838       193702      6499597442        1.554141e+07   \n",
       "233823840    178561634    287361083601        4.165002e+07   \n",
       "233823841      1118799      4349454229        1.500000e+04   \n",
       "233823849    122252125    207283811557        1.777274e+08   \n",
       "233823853  11975852334  19201503305416        1.369479e+08   \n",
       "...                ...             ...                 ...   \n",
       "685196737       566627       685203815        1.353200e+06   \n",
       "685208615      1238682      1370425295        2.945280e+05   \n",
       "685219699       527709       685227653        1.267720e+05   \n",
       "685219700      2731596      3426108865        4.300000e+05   \n",
       "685219703      1048089      2055656802        4.500000e+03   \n",
       "\n",
       "           TAXINCLUSIVEAMOUNT  PAYABLEAMOUNT   TAXINC_SUM  \n",
       "PARTY_ID                                                   \n",
       "233823838          19737595.0     19737595.0   19737595.0  \n",
       "233823840          51363034.6     51363037.6   51363034.6  \n",
       "233823841             15000.0        15000.0      15000.0  \n",
       "233823849         224959086.4    224959086.4  224959086.4  \n",
       "233823853         173913168.0    173913168.0  173913168.0  \n",
       "...                       ...            ...          ...  \n",
       "685196737           1353200.0      1353200.0    1353200.0  \n",
       "685208615            374051.0       374051.0     374051.0  \n",
       "685219699            161000.0       161000.0     161000.0  \n",
       "685219700            546100.0       546100.0     546100.0  \n",
       "685219703              4500.0         4500.0       4500.0  \n",
       "\n",
       "[4974 rows x 6 columns]"
      ]
     },
     "execution_count": 46,
     "metadata": {},
     "output_type": "execute_result"
    }
   ],
   "source": [
    "# dff"
   ]
  },
  {
   "cell_type": "code",
   "execution_count": 47,
   "metadata": {},
   "outputs": [
    {
     "data": {
      "text/html": [
       "<div>\n",
       "<style scoped>\n",
       "    .dataframe tbody tr th:only-of-type {\n",
       "        vertical-align: middle;\n",
       "    }\n",
       "\n",
       "    .dataframe tbody tr th {\n",
       "        vertical-align: top;\n",
       "    }\n",
       "\n",
       "    .dataframe thead th {\n",
       "        text-align: right;\n",
       "    }\n",
       "</style>\n",
       "<table border=\"1\" class=\"dataframe\">\n",
       "  <thead>\n",
       "    <tr style=\"text-align: right;\">\n",
       "      <th></th>\n",
       "      <th>Unnamed: 0</th>\n",
       "      <th>INVOICE_ID</th>\n",
       "      <th>TAXEXCLUSIVEAMOUNT</th>\n",
       "      <th>TAXINCLUSIVEAMOUNT</th>\n",
       "      <th>PAYABLEAMOUNT</th>\n",
       "      <th>TAXINC_SUM</th>\n",
       "    </tr>\n",
       "    <tr>\n",
       "      <th>PARTY_ID</th>\n",
       "      <th></th>\n",
       "      <th></th>\n",
       "      <th></th>\n",
       "      <th></th>\n",
       "      <th></th>\n",
       "      <th></th>\n",
       "    </tr>\n",
       "  </thead>\n",
       "  <tbody>\n",
       "    <tr>\n",
       "      <th>233823838</th>\n",
       "      <td>193702</td>\n",
       "      <td>6499597442</td>\n",
       "      <td>1.554141e+07</td>\n",
       "      <td>19737595.0</td>\n",
       "      <td>19737595.0</td>\n",
       "      <td>19737595.0</td>\n",
       "    </tr>\n",
       "    <tr>\n",
       "      <th>233823840</th>\n",
       "      <td>178561634</td>\n",
       "      <td>287361083601</td>\n",
       "      <td>4.165002e+07</td>\n",
       "      <td>51363034.6</td>\n",
       "      <td>51363037.6</td>\n",
       "      <td>51363034.6</td>\n",
       "    </tr>\n",
       "    <tr>\n",
       "      <th>233823841</th>\n",
       "      <td>1118799</td>\n",
       "      <td>4349454229</td>\n",
       "      <td>1.500000e+04</td>\n",
       "      <td>15000.0</td>\n",
       "      <td>15000.0</td>\n",
       "      <td>15000.0</td>\n",
       "    </tr>\n",
       "    <tr>\n",
       "      <th>233823849</th>\n",
       "      <td>122252125</td>\n",
       "      <td>207283811557</td>\n",
       "      <td>1.777274e+08</td>\n",
       "      <td>224959086.4</td>\n",
       "      <td>224959086.4</td>\n",
       "      <td>224959086.4</td>\n",
       "    </tr>\n",
       "    <tr>\n",
       "      <th>233823853</th>\n",
       "      <td>11975852334</td>\n",
       "      <td>19201503305416</td>\n",
       "      <td>1.369479e+08</td>\n",
       "      <td>173913168.0</td>\n",
       "      <td>173913168.0</td>\n",
       "      <td>173913168.0</td>\n",
       "    </tr>\n",
       "    <tr>\n",
       "      <th>...</th>\n",
       "      <td>...</td>\n",
       "      <td>...</td>\n",
       "      <td>...</td>\n",
       "      <td>...</td>\n",
       "      <td>...</td>\n",
       "      <td>...</td>\n",
       "    </tr>\n",
       "    <tr>\n",
       "      <th>685196737</th>\n",
       "      <td>566627</td>\n",
       "      <td>685203815</td>\n",
       "      <td>1.353200e+06</td>\n",
       "      <td>1353200.0</td>\n",
       "      <td>1353200.0</td>\n",
       "      <td>1353200.0</td>\n",
       "    </tr>\n",
       "    <tr>\n",
       "      <th>685208615</th>\n",
       "      <td>1238682</td>\n",
       "      <td>1370425295</td>\n",
       "      <td>2.945280e+05</td>\n",
       "      <td>374051.0</td>\n",
       "      <td>374051.0</td>\n",
       "      <td>374051.0</td>\n",
       "    </tr>\n",
       "    <tr>\n",
       "      <th>685219699</th>\n",
       "      <td>527709</td>\n",
       "      <td>685227653</td>\n",
       "      <td>1.267720e+05</td>\n",
       "      <td>161000.0</td>\n",
       "      <td>161000.0</td>\n",
       "      <td>161000.0</td>\n",
       "    </tr>\n",
       "    <tr>\n",
       "      <th>685219700</th>\n",
       "      <td>2731596</td>\n",
       "      <td>3426108865</td>\n",
       "      <td>4.300000e+05</td>\n",
       "      <td>546100.0</td>\n",
       "      <td>546100.0</td>\n",
       "      <td>546100.0</td>\n",
       "    </tr>\n",
       "    <tr>\n",
       "      <th>685219703</th>\n",
       "      <td>1048089</td>\n",
       "      <td>2055656802</td>\n",
       "      <td>4.500000e+03</td>\n",
       "      <td>4500.0</td>\n",
       "      <td>4500.0</td>\n",
       "      <td>4500.0</td>\n",
       "    </tr>\n",
       "  </tbody>\n",
       "</table>\n",
       "<p>4974 rows × 6 columns</p>\n",
       "</div>"
      ],
      "text/plain": [
       "            Unnamed: 0      INVOICE_ID  TAXEXCLUSIVEAMOUNT  \\\n",
       "PARTY_ID                                                     \n",
       "233823838       193702      6499597442        1.554141e+07   \n",
       "233823840    178561634    287361083601        4.165002e+07   \n",
       "233823841      1118799      4349454229        1.500000e+04   \n",
       "233823849    122252125    207283811557        1.777274e+08   \n",
       "233823853  11975852334  19201503305416        1.369479e+08   \n",
       "...                ...             ...                 ...   \n",
       "685196737       566627       685203815        1.353200e+06   \n",
       "685208615      1238682      1370425295        2.945280e+05   \n",
       "685219699       527709       685227653        1.267720e+05   \n",
       "685219700      2731596      3426108865        4.300000e+05   \n",
       "685219703      1048089      2055656802        4.500000e+03   \n",
       "\n",
       "           TAXINCLUSIVEAMOUNT  PAYABLEAMOUNT   TAXINC_SUM  \n",
       "PARTY_ID                                                   \n",
       "233823838          19737595.0     19737595.0   19737595.0  \n",
       "233823840          51363034.6     51363037.6   51363034.6  \n",
       "233823841             15000.0        15000.0      15000.0  \n",
       "233823849         224959086.4    224959086.4  224959086.4  \n",
       "233823853         173913168.0    173913168.0  173913168.0  \n",
       "...                       ...            ...          ...  \n",
       "685196737           1353200.0      1353200.0    1353200.0  \n",
       "685208615            374051.0       374051.0     374051.0  \n",
       "685219699            161000.0       161000.0     161000.0  \n",
       "685219700            546100.0       546100.0     546100.0  \n",
       "685219703              4500.0         4500.0       4500.0  \n",
       "\n",
       "[4974 rows x 6 columns]"
      ]
     },
     "execution_count": 47,
     "metadata": {},
     "output_type": "execute_result"
    }
   ],
   "source": []
  },
  {
   "cell_type": "code",
   "execution_count": 28,
   "metadata": {},
   "outputs": [
    {
     "data": {
      "text/plain": [
       "PARTY_ID\n",
       "233823838    1.554141e+07\n",
       "233823840    4.165002e+07\n",
       "233823841    1.500000e+04\n",
       "233823849    1.777274e+08\n",
       "233823853    1.369479e+08\n",
       "                 ...     \n",
       "685196737    1.353200e+06\n",
       "685208615    2.945280e+05\n",
       "685219699    1.267720e+05\n",
       "685219700    4.300000e+05\n",
       "685219703    4.500000e+03\n",
       "Name: TAXEXCLUSIVEAMOUNT, Length: 4974, dtype: float64"
      ]
     },
     "execution_count": 28,
     "metadata": {},
     "output_type": "execute_result"
    }
   ],
   "source": [
    "# c_2 = df.groupby(['PARTY_ID'])['TAXEXCLUSIVEAMOUNT'].sum()\n",
    "# c_2"
   ]
  },
  {
   "cell_type": "code",
   "execution_count": null,
   "metadata": {},
   "outputs": [],
   "source": []
  }
 ],
 "metadata": {
  "kernelspec": {
   "display_name": "Python 3",
   "language": "python",
   "name": "python3"
  },
  "language_info": {
   "codemirror_mode": {
    "name": "ipython",
    "version": 3
   },
   "file_extension": ".py",
   "mimetype": "text/x-python",
   "name": "python",
   "nbconvert_exporter": "python",
   "pygments_lexer": "ipython3",
   "version": "3.7.9"
  }
 },
 "nbformat": 4,
 "nbformat_minor": 4
}
