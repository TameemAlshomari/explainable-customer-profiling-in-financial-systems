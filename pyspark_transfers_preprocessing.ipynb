{
 "cells": [
  {
   "cell_type": "code",
   "execution_count": 1,
   "metadata": {},
   "outputs": [],
   "source": [
    "from pyspark.ml.classification import LogisticRegression, RandomForestClassifier\n",
    "from pyspark.ml.linalg import Vectors\n",
    "from pyspark.ml.pipeline import Pipeline\n",
    "from pyspark.mllib.classification import StreamingLogisticRegressionWithSGD\n",
    "from pyspark.mllib.regression import LabeledPoint\n",
    "from pyspark.sql.dataframe import DataFrame\n",
    "from pyspark.sql.functions import udf\n",
    "from pyspark.sql.session import SparkSession\n",
    "from pyspark.ml.evaluation import BinaryClassificationEvaluator\n",
    "from pyspark.sql.types import Row, StringType"
   ]
  },
  {
   "cell_type": "code",
   "execution_count": 2,
   "metadata": {},
   "outputs": [],
   "source": [
    "def convert_value_to_row(df: DataFrame):\n",
    "    temp = df.rdd.map(lambda x: Vectors.dense(x.split(',')[:-1])).toDF(['features'])\n",
    "    return temp"
   ]
  },
  {
   "cell_type": "code",
   "execution_count": 3,
   "metadata": {},
   "outputs": [],
   "source": [
    "spark = SparkSession \\\n",
    "        .builder \\\n",
    "        .appName(\"CustomerProfiling\") \\\n",
    "        .getOrCreate()"
   ]
  },
  {
   "cell_type": "code",
   "execution_count": 4,
   "metadata": {},
   "outputs": [],
   "source": [
    "historic_data = spark\\\n",
    "        .read\\\n",
    "        .csv('transfer_history.csv', header=True, inferSchema=True)"
   ]
  },
  {
   "cell_type": "code",
   "execution_count": 7,
   "metadata": {},
   "outputs": [
    {
     "name": "stdout",
     "output_type": "stream",
     "text": [
      "+---+-----------+---------+--------+-----------+----------+\n",
      "|_c0|TRANSFER_ID| PARTY_ID|CURRENCY|     AMOUNT|VALUE_DATE|\n",
      "+---+-----------+---------+--------+-----------+----------+\n",
      "|  0|  369832601|240924299|     HUF|   500000.0|2018-08-22|\n",
      "|  1|  369832704|323871147|     HUF|   190000.0|2018-08-22|\n",
      "|  2|  369832705|349707008|     HUF|  1454874.0|2018-08-22|\n",
      "|  3|  369832706|349707008|     HUF|  1502821.0|2018-08-22|\n",
      "|  4|  369832784|240285235|     HUF|   369000.0|2018-08-22|\n",
      "|  5|  369832962|234958234|     HUF|   522821.0|2018-08-22|\n",
      "|  6|  369832963|234958234|     HUF|  3000000.0|2018-08-22|\n",
      "|  7|  369832964|240253860|     HUF|   275844.0|2018-08-22|\n",
      "|  8|  369832987|240253860|     HUF|     2273.0|2018-08-22|\n",
      "|  9|  369834619|254379184|     HUF|     6749.0|2018-08-23|\n",
      "| 10|  369834658|254379184|     HUF|     6749.0|2018-08-23|\n",
      "| 11|  369834659|254379184|     HUF|    27229.0|2018-08-23|\n",
      "| 12|  369834744|240695709|     HUF|   142364.0|2018-08-23|\n",
      "| 13|  369836864|327135911|     HUF|  4508500.0|2018-08-23|\n",
      "| 14|  369836911|251660306|     HUF|   746760.0|2018-08-23|\n",
      "| 15|  369836912|233824487|     HUF|1.1436979E7|2018-08-23|\n",
      "| 16|  369833211|239062481|     HUF|   269701.0|2018-08-22|\n",
      "| 17|  369833323|250587322|     HUF|   333350.0|2018-08-22|\n",
      "| 18|  369833324|250587322|     HUF|     8255.0|2018-08-22|\n",
      "| 19|  369833548|250587322|     HUF|    21546.0|2018-08-22|\n",
      "+---+-----------+---------+--------+-----------+----------+\n",
      "only showing top 20 rows\n",
      "\n"
     ]
    }
   ],
   "source": [
    "historic_data.show()"
   ]
  },
  {
   "cell_type": "code",
   "execution_count": 6,
   "metadata": {},
   "outputs": [
    {
     "name": "stdout",
     "output_type": "stream",
     "text": [
      "root\n",
      " |-- _c0: integer (nullable = true)\n",
      " |-- TRANSFER_ID: integer (nullable = true)\n",
      " |-- PARTY_ID: integer (nullable = true)\n",
      " |-- CURRENCY: string (nullable = true)\n",
      " |-- AMOUNT: double (nullable = true)\n",
      " |-- VALUE_DATE: string (nullable = true)\n",
      "\n"
     ]
    }
   ],
   "source": [
    "historic_data.printSchema()"
   ]
  },
  {
   "cell_type": "markdown",
   "metadata": {},
   "source": [
    "## Convert Value_date to a timestamp\n"
   ]
  },
  {
   "cell_type": "code",
   "execution_count": 8,
   "metadata": {},
   "outputs": [
    {
     "name": "stdout",
     "output_type": "stream",
     "text": [
      "root\n",
      " |-- _c0: integer (nullable = true)\n",
      " |-- TRANSFER_ID: integer (nullable = true)\n",
      " |-- PARTY_ID: integer (nullable = true)\n",
      " |-- CURRENCY: string (nullable = true)\n",
      " |-- AMOUNT: double (nullable = true)\n",
      " |-- VALUE_DATE: string (nullable = true)\n",
      " |-- VALUE_DATE_dt: timestamp (nullable = true)\n",
      "\n"
     ]
    }
   ],
   "source": [
    "import pyspark.sql.functions as F\n",
    "\n",
    "dt1 = F.to_timestamp(F.col(\"VALUE_DATE\"), 'yyyy-MM-dd')\n",
    "historic_data = historic_data.withColumn(\"VALUE_DATE_dt\",dt1)\n",
    "\n",
    "historic_data.printSchema()"
   ]
  },
  {
   "cell_type": "markdown",
   "metadata": {},
   "source": [
    "## One-Hot Encoder for CURRENCY\n"
   ]
  },
  {
   "cell_type": "code",
   "execution_count": 9,
   "metadata": {},
   "outputs": [
    {
     "name": "stdout",
     "output_type": "stream",
     "text": [
      "+--------+------+\n",
      "|CURRENCY| count|\n",
      "+--------+------+\n",
      "|     HUF|307402|\n",
      "+--------+------+\n",
      "\n"
     ]
    }
   ],
   "source": [
    "customers_1 = historic_data.groupBy('CURRENCY').count().orderBy('count')\n",
    "customers_1.show()"
   ]
  },
  {
   "cell_type": "code",
   "execution_count": 10,
   "metadata": {},
   "outputs": [],
   "source": [
    "grouped_curr = historic_data.groupBy('PARTY_ID') \\\n",
    "   .agg(F.collect_list('CURRENCY').alias('transfer_curr'))"
   ]
  },
  {
   "cell_type": "code",
   "execution_count": 11,
   "metadata": {},
   "outputs": [
    {
     "name": "stdout",
     "output_type": "stream",
     "text": [
      "+---------+--------------------+\n",
      "| PARTY_ID|       transfer_curr|\n",
      "+---------+--------------------+\n",
      "|235379892|[HUF, HUF, HUF, H...|\n",
      "|251660351|               [HUF]|\n",
      "|356882768|          [HUF, HUF]|\n",
      "|362100367|[HUF, HUF, HUF, H...|\n",
      "|399979245|[HUF, HUF, HUF, H...|\n",
      "|414669076|     [HUF, HUF, HUF]|\n",
      "|420642369|          [HUF, HUF]|\n",
      "|364296518|[HUF, HUF, HUF, HUF]|\n",
      "|570509789|[HUF, HUF, HUF, H...|\n",
      "|250704129|[HUF, HUF, HUF, H...|\n",
      "|251660375|[HUF, HUF, HUF, H...|\n",
      "|258509472|          [HUF, HUF]|\n",
      "|341219830|[HUF, HUF, HUF, H...|\n",
      "|350315114|[HUF, HUF, HUF, H...|\n",
      "|380989746|     [HUF, HUF, HUF]|\n",
      "|430208176|[HUF, HUF, HUF, H...|\n",
      "|564302036|[HUF, HUF, HUF, H...|\n",
      "|583029222|[HUF, HUF, HUF, H...|\n",
      "|353440239|[HUF, HUF, HUF, H...|\n",
      "|240557364|[HUF, HUF, HUF, H...|\n",
      "+---------+--------------------+\n",
      "only showing top 20 rows\n",
      "\n"
     ]
    }
   ],
   "source": [
    "grouped_curr.show()"
   ]
  },
  {
   "cell_type": "code",
   "execution_count": 12,
   "metadata": {},
   "outputs": [
    {
     "name": "stdout",
     "output_type": "stream",
     "text": [
      "+---------+--------------------+---------------------+\n",
      "| PARTY_ID|       transfer_curr|TRANSFER_CURRENCY_VEC|\n",
      "+---------+--------------------+---------------------+\n",
      "|235379892|[HUF, HUF, HUF, H...|       (1,[0],[17.0])|\n",
      "|251660351|               [HUF]|        (1,[0],[1.0])|\n",
      "|356882768|          [HUF, HUF]|        (1,[0],[2.0])|\n",
      "|362100367|[HUF, HUF, HUF, H...|       (1,[0],[20.0])|\n",
      "|399979245|[HUF, HUF, HUF, H...|      (1,[0],[491.0])|\n",
      "|414669076|     [HUF, HUF, HUF]|        (1,[0],[3.0])|\n",
      "|420642369|          [HUF, HUF]|        (1,[0],[2.0])|\n",
      "|364296518|[HUF, HUF, HUF, HUF]|        (1,[0],[4.0])|\n",
      "|570509789|[HUF, HUF, HUF, H...|        (1,[0],[6.0])|\n",
      "|250704129|[HUF, HUF, HUF, H...|       (1,[0],[23.0])|\n",
      "|251660375|[HUF, HUF, HUF, H...|     (1,[0],[1485.0])|\n",
      "|258509472|          [HUF, HUF]|        (1,[0],[2.0])|\n",
      "|341219830|[HUF, HUF, HUF, H...|        (1,[0],[6.0])|\n",
      "|350315114|[HUF, HUF, HUF, H...|       (1,[0],[22.0])|\n",
      "|380989746|     [HUF, HUF, HUF]|        (1,[0],[3.0])|\n",
      "|430208176|[HUF, HUF, HUF, H...|        (1,[0],[8.0])|\n",
      "|564302036|[HUF, HUF, HUF, H...|      (1,[0],[343.0])|\n",
      "|583029222|[HUF, HUF, HUF, H...|      (1,[0],[241.0])|\n",
      "|353440239|[HUF, HUF, HUF, H...|        (1,[0],[6.0])|\n",
      "|240557364|[HUF, HUF, HUF, H...|      (1,[0],[787.0])|\n",
      "+---------+--------------------+---------------------+\n",
      "only showing top 20 rows\n",
      "\n"
     ]
    }
   ],
   "source": [
    "#Easier way to do the OnehotEncoding compared to the previous method\n",
    "\n",
    "from pyspark.ml.feature import CountVectorizer\n",
    "\n",
    "cv = CountVectorizer(inputCol='transfer_curr', outputCol='TRANSFER_CURRENCY_VEC')\n",
    "\n",
    "transformed_df = cv.fit(grouped_curr).transform(grouped_curr)\n",
    "transformed_df.show()"
   ]
  },
  {
   "cell_type": "code",
   "execution_count": 13,
   "metadata": {},
   "outputs": [
    {
     "data": {
      "text/plain": [
       "2174"
      ]
     },
     "execution_count": 13,
     "metadata": {},
     "output_type": "execute_result"
    }
   ],
   "source": [
    "transformed_df.count()"
   ]
  },
  {
   "cell_type": "markdown",
   "metadata": {},
   "source": [
    "## AMOUNT aggregated features"
   ]
  },
  {
   "cell_type": "code",
   "execution_count": 14,
   "metadata": {},
   "outputs": [
    {
     "name": "stdout",
     "output_type": "stream",
     "text": [
      "+---------+------------+\n",
      "| PARTY_ID| sum(AMOUNT)|\n",
      "+---------+------------+\n",
      "|362100367|     68987.0|\n",
      "|235379892|    976021.0|\n",
      "|399979245|1.30070542E8|\n",
      "|251660351|      2273.0|\n",
      "|420642369|      4546.0|\n",
      "|356882768|     78000.0|\n",
      "|414669076|     10629.0|\n",
      "|570509789|    161819.0|\n",
      "|364296518|      9092.0|\n",
      "|251660375|1.52409733E8|\n",
      "|350315114|     50006.0|\n",
      "|258509472|      4546.0|\n",
      "|564302036| 4.9792972E7|\n",
      "|583029222| 4.8543471E7|\n",
      "|250704129|     52279.0|\n",
      "|380989746|   2280094.0|\n",
      "|341219830|     79083.0|\n",
      "|430208176|     67027.0|\n",
      "|353440239|     13638.0|\n",
      "|320518642| 4.6434395E7|\n",
      "+---------+------------+\n",
      "only showing top 20 rows\n",
      "\n"
     ]
    }
   ],
   "source": [
    "sum_A = historic_data.groupBy('PARTY_ID').sum('AMOUNT')\n",
    "sum_A.show()"
   ]
  },
  {
   "cell_type": "code",
   "execution_count": 15,
   "metadata": {},
   "outputs": [
    {
     "name": "stdout",
     "output_type": "stream",
     "text": [
      "+---------+-----------+\n",
      "| PARTY_ID|max(AMOUNT)|\n",
      "+---------+-----------+\n",
      "|362100367|    25800.0|\n",
      "|235379892|   219395.0|\n",
      "|399979245|1.0114407E7|\n",
      "|251660351|     2273.0|\n",
      "|420642369|     2273.0|\n",
      "|356882768|    40000.0|\n",
      "|414669076|     3543.0|\n",
      "|570509789|    75000.0|\n",
      "|364296518|     2273.0|\n",
      "|251660375|  4200000.0|\n",
      "|350315114|     2273.0|\n",
      "|258509472|     2273.0|\n",
      "|564302036|  2822821.0|\n",
      "|583029222|  5761218.0|\n",
      "|250704129|     2273.0|\n",
      "|380989746|  1543000.0|\n",
      "|341219830|    29083.0|\n",
      "|430208176|    25000.0|\n",
      "|353440239|     2273.0|\n",
      "|320518642|  4250000.0|\n",
      "+---------+-----------+\n",
      "only showing top 20 rows\n",
      "\n"
     ]
    }
   ],
   "source": [
    "max_A = historic_data.groupBy('PARTY_ID').max('AMOUNT')\n",
    "max_A.show()"
   ]
  },
  {
   "cell_type": "code",
   "execution_count": 16,
   "metadata": {},
   "outputs": [
    {
     "name": "stdout",
     "output_type": "stream",
     "text": [
      "+---------+-----------+\n",
      "| PARTY_ID|min(AMOUNT)|\n",
      "+---------+-----------+\n",
      "|362100367|     2273.0|\n",
      "|235379892|     2979.0|\n",
      "|399979245|     1000.0|\n",
      "|251660351|     2273.0|\n",
      "|420642369|     2273.0|\n",
      "|356882768|    38000.0|\n",
      "|414669076|     3543.0|\n",
      "|570509789|     2273.0|\n",
      "|364296518|     2273.0|\n",
      "|251660375|     1000.0|\n",
      "|350315114|     2273.0|\n",
      "|258509472|     2273.0|\n",
      "|564302036|      809.0|\n",
      "|583029222|       69.0|\n",
      "|250704129|     2273.0|\n",
      "|380989746|   295051.0|\n",
      "|341219830|     2000.0|\n",
      "|430208176|     2273.0|\n",
      "|353440239|     2273.0|\n",
      "|320518642|      986.0|\n",
      "+---------+-----------+\n",
      "only showing top 20 rows\n",
      "\n"
     ]
    }
   ],
   "source": [
    "min_A = historic_data.groupBy('PARTY_ID').min('AMOUNT')\n",
    "min_A.show()"
   ]
  },
  {
   "cell_type": "code",
   "execution_count": 17,
   "metadata": {},
   "outputs": [
    {
     "name": "stdout",
     "output_type": "stream",
     "text": [
      "+---------+------------------+\n",
      "| PARTY_ID|       avg(AMOUNT)|\n",
      "+---------+------------------+\n",
      "|362100367|           3449.35|\n",
      "|235379892|           57413.0|\n",
      "|399979245|264909.45417515276|\n",
      "|251660351|            2273.0|\n",
      "|420642369|            2273.0|\n",
      "|356882768|           39000.0|\n",
      "|414669076|            3543.0|\n",
      "|570509789|26969.833333333332|\n",
      "|364296518|            2273.0|\n",
      "|251660375|102632.81683501684|\n",
      "|350315114|            2273.0|\n",
      "|258509472|            2273.0|\n",
      "|564302036|145169.01457725948|\n",
      "|583029222| 201425.1908713693|\n",
      "|250704129|            2273.0|\n",
      "|380989746| 760031.3333333334|\n",
      "|341219830|           13180.5|\n",
      "|430208176|          8378.375|\n",
      "|353440239|            2273.0|\n",
      "|320518642| 138610.1343283582|\n",
      "+---------+------------------+\n",
      "only showing top 20 rows\n",
      "\n"
     ]
    }
   ],
   "source": [
    "avg_A = historic_data.groupBy('PARTY_ID').mean('AMOUNT')\n",
    "avg_A.show()"
   ]
  },
  {
   "cell_type": "code",
   "execution_count": 18,
   "metadata": {},
   "outputs": [],
   "source": [
    "A_df = sum_A.join(avg_A, on=[\"PARTY_ID\"], how=\"inner\")\n",
    "A_df = A_df.join(min_A, on=[\"PARTY_ID\"], how=\"inner\")\n",
    "A_df = A_df.join(max_A, on=[\"PARTY_ID\"], how=\"inner\")"
   ]
  },
  {
   "cell_type": "code",
   "execution_count": 19,
   "metadata": {},
   "outputs": [
    {
     "name": "stdout",
     "output_type": "stream",
     "text": [
      "+---------+------------+------------------+-----------+-----------+\n",
      "| PARTY_ID| sum(AMOUNT)|       avg(AMOUNT)|min(AMOUNT)|max(AMOUNT)|\n",
      "+---------+------------+------------------+-----------+-----------+\n",
      "|362100367|     68987.0|           3449.35|     2273.0|    25800.0|\n",
      "|235379892|    976021.0|           57413.0|     2979.0|   219395.0|\n",
      "|399979245|1.30070542E8|264909.45417515276|     1000.0|1.0114407E7|\n",
      "|251660351|      2273.0|            2273.0|     2273.0|     2273.0|\n",
      "|420642369|      4546.0|            2273.0|     2273.0|     2273.0|\n",
      "|356882768|     78000.0|           39000.0|    38000.0|    40000.0|\n",
      "|414669076|     10629.0|            3543.0|     3543.0|     3543.0|\n",
      "|570509789|    161819.0|26969.833333333332|     2273.0|    75000.0|\n",
      "|364296518|      9092.0|            2273.0|     2273.0|     2273.0|\n",
      "|251660375|1.52409733E8|102632.81683501684|     1000.0|  4200000.0|\n",
      "|350315114|     50006.0|            2273.0|     2273.0|     2273.0|\n",
      "|258509472|      4546.0|            2273.0|     2273.0|     2273.0|\n",
      "|564302036| 4.9792972E7|145169.01457725948|      809.0|  2822821.0|\n",
      "|583029222| 4.8543471E7| 201425.1908713693|       69.0|  5761218.0|\n",
      "|250704129|     52279.0|            2273.0|     2273.0|     2273.0|\n",
      "|380989746|   2280094.0| 760031.3333333334|   295051.0|  1543000.0|\n",
      "|341219830|     79083.0|           13180.5|     2000.0|    29083.0|\n",
      "|430208176|     67027.0|          8378.375|     2273.0|    25000.0|\n",
      "|353440239|     13638.0|            2273.0|     2273.0|     2273.0|\n",
      "|320518642| 4.6434395E7| 138610.1343283582|      986.0|  4250000.0|\n",
      "+---------+------------+------------------+-----------+-----------+\n",
      "only showing top 20 rows\n",
      "\n"
     ]
    }
   ],
   "source": [
    "A_df.show()"
   ]
  },
  {
   "cell_type": "markdown",
   "metadata": {},
   "source": [
    "## Transfer_COUNT feature"
   ]
  },
  {
   "cell_type": "code",
   "execution_count": 21,
   "metadata": {},
   "outputs": [
    {
     "name": "stdout",
     "output_type": "stream",
     "text": [
      "+---------+-----+\n",
      "| PARTY_ID|count|\n",
      "+---------+-----+\n",
      "|362100367|   20|\n",
      "|235379892|   17|\n",
      "|399979245|  491|\n",
      "|251660351|    1|\n",
      "|420642369|    2|\n",
      "|356882768|    2|\n",
      "|414669076|    3|\n",
      "|570509789|    6|\n",
      "|364296518|    4|\n",
      "|251660375| 1485|\n",
      "|350315114|   22|\n",
      "|258509472|    2|\n",
      "|564302036|  343|\n",
      "|583029222|  241|\n",
      "|250704129|   23|\n",
      "|380989746|    3|\n",
      "|341219830|    6|\n",
      "|430208176|    8|\n",
      "|353440239|    6|\n",
      "|320518642|  335|\n",
      "+---------+-----+\n",
      "only showing top 20 rows\n",
      "\n"
     ]
    }
   ],
   "source": [
    "tranCount = historic_data.groupBy('PARTY_ID').count()\n",
    "tranCount.show()"
   ]
  },
  {
   "cell_type": "markdown",
   "metadata": {},
   "source": [
    "## UNIQUE_Transfer_ID_COUNT per PARTY_ID feature\n"
   ]
  },
  {
   "cell_type": "code",
   "execution_count": 25,
   "metadata": {},
   "outputs": [
    {
     "name": "stdout",
     "output_type": "stream",
     "text": [
      "+---------+------------------+\n",
      "| PARTY_ID|count(TRANSFER_ID)|\n",
      "+---------+------------------+\n",
      "|235379892|                17|\n",
      "|399979245|               491|\n",
      "|570509789|                 6|\n",
      "|414669076|                 3|\n",
      "|362100367|                20|\n",
      "|356882768|                 2|\n",
      "|364296518|                 4|\n",
      "|420642369|                 2|\n",
      "|251660351|                 1|\n",
      "|251660375|              1485|\n",
      "|583029222|               241|\n",
      "|564302036|               343|\n",
      "|430208176|                 8|\n",
      "|250704129|                23|\n",
      "|258509472|                 2|\n",
      "|380989746|                 3|\n",
      "|350315114|                22|\n",
      "|353440239|                 6|\n",
      "|341219830|                 6|\n",
      "|320518642|               335|\n",
      "+---------+------------------+\n",
      "only showing top 20 rows\n",
      "\n"
     ]
    }
   ],
   "source": [
    "from pyspark.sql.functions import countDistinct\n",
    "\n",
    "unique_trans = historic_data.groupBy('PARTY_ID').agg(countDistinct('TRANSFER_ID'))\n",
    "unique_trans.show()"
   ]
  },
  {
   "cell_type": "markdown",
   "metadata": {},
   "source": [
    "## Merging all transformations in one table\n"
   ]
  },
  {
   "cell_type": "code",
   "execution_count": 26,
   "metadata": {},
   "outputs": [
    {
     "name": "stdout",
     "output_type": "stream",
     "text": [
      "root\n",
      " |-- PARTY_ID: integer (nullable = true)\n",
      " |-- transfer_curr: array (nullable = true)\n",
      " |    |-- element: string (containsNull = false)\n",
      " |-- TRANSFER_CURRENCY_VEC: vector (nullable = true)\n",
      " |-- sum(AMOUNT): double (nullable = true)\n",
      " |-- avg(AMOUNT): double (nullable = true)\n",
      " |-- min(AMOUNT): double (nullable = true)\n",
      " |-- max(AMOUNT): double (nullable = true)\n",
      "\n"
     ]
    }
   ],
   "source": [
    "final_df = transformed_df.join(A_df, on=[\"PARTY_ID\"], how=\"inner\")\n",
    "final_df.printSchema()"
   ]
  },
  {
   "cell_type": "code",
   "execution_count": 27,
   "metadata": {},
   "outputs": [
    {
     "name": "stdout",
     "output_type": "stream",
     "text": [
      "root\n",
      " |-- PARTY_ID: integer (nullable = true)\n",
      " |-- transfer_curr: array (nullable = true)\n",
      " |    |-- element: string (containsNull = false)\n",
      " |-- TRANSFER_CURRENCY_VEC: vector (nullable = true)\n",
      " |-- sum(AMOUNT): double (nullable = true)\n",
      " |-- avg(AMOUNT): double (nullable = true)\n",
      " |-- min(AMOUNT): double (nullable = true)\n",
      " |-- max(AMOUNT): double (nullable = true)\n",
      " |-- count: long (nullable = false)\n",
      "\n"
     ]
    }
   ],
   "source": [
    "final_df = final_df.join(tranCount, on=[\"PARTY_ID\"], how=\"inner\")\n",
    "final_df.printSchema()"
   ]
  },
  {
   "cell_type": "code",
   "execution_count": 28,
   "metadata": {},
   "outputs": [
    {
     "name": "stdout",
     "output_type": "stream",
     "text": [
      "root\n",
      " |-- PARTY_ID: integer (nullable = true)\n",
      " |-- transfer_curr: array (nullable = true)\n",
      " |    |-- element: string (containsNull = false)\n",
      " |-- TRANSFER_CURRENCY_VEC: vector (nullable = true)\n",
      " |-- sum(AMOUNT): double (nullable = true)\n",
      " |-- avg(AMOUNT): double (nullable = true)\n",
      " |-- min(AMOUNT): double (nullable = true)\n",
      " |-- max(AMOUNT): double (nullable = true)\n",
      " |-- count: long (nullable = false)\n",
      " |-- count(TRANSFER_ID): long (nullable = false)\n",
      "\n"
     ]
    }
   ],
   "source": [
    "final_df = final_df.join(unique_trans, on=[\"PARTY_ID\"], how=\"inner\")\n",
    "final_df.printSchema()"
   ]
  },
  {
   "cell_type": "code",
   "execution_count": 31,
   "metadata": {},
   "outputs": [
    {
     "name": "stdout",
     "output_type": "stream",
     "text": [
      "root\n",
      " |-- PARTY_ID: integer (nullable = true)\n",
      " |-- transfer_curr: array (nullable = true)\n",
      " |    |-- element: string (containsNull = false)\n",
      " |-- TRANSFER_CURRENCY_VEC: vector (nullable = true)\n",
      " |-- sum(AMOUNT): double (nullable = true)\n",
      " |-- avg(AMOUNT): double (nullable = true)\n",
      " |-- min(AMOUNT): double (nullable = true)\n",
      " |-- max(AMOUNT): double (nullable = true)\n",
      " |-- count: long (nullable = false)\n",
      " |-- UNIQ_TRANSFER_ID_COUNT: long (nullable = false)\n",
      "\n"
     ]
    }
   ],
   "source": [
    "final_df = final_df.withColumnRenamed(\"count(TRANSFER_ID)\",\"UNIQ_TRANSFER_ID_COUNT\")\n",
    "final_df.printSchema()"
   ]
  },
  {
   "cell_type": "code",
   "execution_count": 32,
   "metadata": {},
   "outputs": [
    {
     "name": "stdout",
     "output_type": "stream",
     "text": [
      "+---------+--------------------+---------------------+------------+------------------+-----------+-----------+-----+----------------------+\n",
      "| PARTY_ID|       transfer_curr|TRANSFER_CURRENCY_VEC| sum(AMOUNT)|       avg(AMOUNT)|min(AMOUNT)|max(AMOUNT)|count|UNIQ_TRANSFER_ID_COUNT|\n",
      "+---------+--------------------+---------------------+------------+------------------+-----------+-----------+-----+----------------------+\n",
      "|235379892|[HUF, HUF, HUF, H...|       (1,[0],[17.0])|    976021.0|           57413.0|     2979.0|   219395.0|   17|                    17|\n",
      "|251660351|               [HUF]|        (1,[0],[1.0])|      2273.0|            2273.0|     2273.0|     2273.0|    1|                     1|\n",
      "|356882768|          [HUF, HUF]|        (1,[0],[2.0])|     78000.0|           39000.0|    38000.0|    40000.0|    2|                     2|\n",
      "|362100367|[HUF, HUF, HUF, H...|       (1,[0],[20.0])|     68987.0|           3449.35|     2273.0|    25800.0|   20|                    20|\n",
      "|364296518|[HUF, HUF, HUF, HUF]|        (1,[0],[4.0])|      9092.0|            2273.0|     2273.0|     2273.0|    4|                     4|\n",
      "|399979245|[HUF, HUF, HUF, H...|      (1,[0],[491.0])|1.30070542E8|264909.45417515276|     1000.0|1.0114407E7|  491|                   491|\n",
      "|414669076|     [HUF, HUF, HUF]|        (1,[0],[3.0])|     10629.0|            3543.0|     3543.0|     3543.0|    3|                     3|\n",
      "|420642369|          [HUF, HUF]|        (1,[0],[2.0])|      4546.0|            2273.0|     2273.0|     2273.0|    2|                     2|\n",
      "|570509789|[HUF, HUF, HUF, H...|        (1,[0],[6.0])|    161819.0|26969.833333333332|     2273.0|    75000.0|    6|                     6|\n",
      "|250704129|[HUF, HUF, HUF, H...|       (1,[0],[23.0])|     52279.0|            2273.0|     2273.0|     2273.0|   23|                    23|\n",
      "|251660375|[HUF, HUF, HUF, H...|     (1,[0],[1485.0])|1.52409733E8|102632.81683501684|     1000.0|  4200000.0| 1485|                  1485|\n",
      "|258509472|          [HUF, HUF]|        (1,[0],[2.0])|      4546.0|            2273.0|     2273.0|     2273.0|    2|                     2|\n",
      "|341219830|[HUF, HUF, HUF, H...|        (1,[0],[6.0])|     79083.0|           13180.5|     2000.0|    29083.0|    6|                     6|\n",
      "|350315114|[HUF, HUF, HUF, H...|       (1,[0],[22.0])|     50006.0|            2273.0|     2273.0|     2273.0|   22|                    22|\n",
      "|353440239|[HUF, HUF, HUF, H...|        (1,[0],[6.0])|     13638.0|            2273.0|     2273.0|     2273.0|    6|                     6|\n",
      "|380989746|     [HUF, HUF, HUF]|        (1,[0],[3.0])|   2280094.0| 760031.3333333334|   295051.0|  1543000.0|    3|                     3|\n",
      "|430208176|[HUF, HUF, HUF, H...|        (1,[0],[8.0])|     67027.0|          8378.375|     2273.0|    25000.0|    8|                     8|\n",
      "|564302036|[HUF, HUF, HUF, H...|      (1,[0],[343.0])| 4.9792972E7|145169.01457725948|      809.0|  2822821.0|  343|                   343|\n",
      "|583029222|[HUF, HUF, HUF, H...|      (1,[0],[241.0])| 4.8543471E7| 201425.1908713693|       69.0|  5761218.0|  241|                   241|\n",
      "|240557364|[HUF, HUF, HUF, H...|      (1,[0],[787.0])|5.79816768E8| 736743.0343074969|      521.0|6.1268737E7|  787|                   787|\n",
      "+---------+--------------------+---------------------+------------+------------------+-----------+-----------+-----+----------------------+\n",
      "only showing top 20 rows\n",
      "\n"
     ]
    }
   ],
   "source": [
    "final_df.show()"
   ]
  },
  {
   "cell_type": "code",
   "execution_count": 33,
   "metadata": {},
   "outputs": [],
   "source": [
    "final_df.toPandas().to_csv('pyspark_transfers.csv')"
   ]
  },
  {
   "cell_type": "code",
   "execution_count": null,
   "metadata": {},
   "outputs": [],
   "source": []
  }
 ],
 "metadata": {
  "kernelspec": {
   "display_name": "Python 3",
   "language": "python",
   "name": "python3"
  },
  "language_info": {
   "codemirror_mode": {
    "name": "ipython",
    "version": 3
   },
   "file_extension": ".py",
   "mimetype": "text/x-python",
   "name": "python",
   "nbconvert_exporter": "python",
   "pygments_lexer": "ipython3",
   "version": "3.7.9"
  }
 },
 "nbformat": 4,
 "nbformat_minor": 4
}
